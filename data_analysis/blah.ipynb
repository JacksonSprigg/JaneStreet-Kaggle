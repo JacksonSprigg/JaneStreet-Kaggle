{
 "cells": [
  {
   "cell_type": "markdown",
   "metadata": {},
   "source": [
    "### Imports"
   ]
  },
  {
   "cell_type": "code",
   "execution_count": 11,
   "metadata": {},
   "outputs": [],
   "source": [
    "import os\n",
    "import polars as pl\n",
    "import pandas as pd\n",
    "import seaborn as sns\n",
    "import matplotlib.pyplot as plt\n",
    "\n",
    "from tqdm import tqdm\n",
    "from IPython.display import display, HTML\n",
    "\n",
    "# Load training data\n",
    "data_path = os.path.join(os.path.dirname(os.getcwd()), \"jane-street-real-time-market-data-forecasting\")\n",
    "train = pl.scan_parquet(os.path.join(data_path, \"train.parquet\")).\\\n",
    "    select(\n",
    "        pl.int_range(pl.len(), dtype=pl.UInt64).alias(\"id\"),\n",
    "        pl.all(),\n",
    "    )"
   ]
  },
  {
   "cell_type": "markdown",
   "metadata": {},
   "source": [
    "### Basic info"
   ]
  },
  {
   "cell_type": "code",
   "execution_count": 2,
   "metadata": {},
   "outputs": [
    {
     "name": "stdout",
     "output_type": "stream",
     "text": [
      "Dataset Information:\n",
      "--------------------------------------------------\n",
      "Number of columns: 94\n",
      "Number of unique symbol_ids: 39\n",
      "\n",
      "Column Types:\n",
      "--------------------------------------------------\n",
      "\n",
      "UInt64:\n",
      "  - id\n",
      "\n",
      "Int16:\n",
      "  - date_id\n",
      "  - time_id\n",
      "  - feature_11\n",
      "\n",
      "Int8:\n",
      "  - symbol_id\n",
      "  - feature_09\n",
      "  - feature_10\n",
      "\n",
      "Float32:\n",
      "  - weight\n",
      "  - feature_00\n",
      "  - feature_01\n",
      "  - feature_02\n",
      "  - feature_03\n",
      "  - feature_04\n",
      "  - feature_05\n",
      "  - feature_06\n",
      "  - feature_07\n",
      "  - feature_08\n",
      "  - feature_12\n",
      "  - feature_13\n",
      "  - feature_14\n",
      "  - feature_15\n",
      "  - feature_16\n",
      "  - feature_17\n",
      "  - feature_18\n",
      "  - feature_19\n",
      "  - feature_20\n",
      "  - feature_21\n",
      "  - feature_22\n",
      "  - feature_23\n",
      "  - feature_24\n",
      "  - feature_25\n",
      "  - feature_26\n",
      "  - feature_27\n",
      "  - feature_28\n",
      "  - feature_29\n",
      "  - feature_30\n",
      "  - feature_31\n",
      "  - feature_32\n",
      "  - feature_33\n",
      "  - feature_34\n",
      "  - feature_35\n",
      "  - feature_36\n",
      "  - feature_37\n",
      "  - feature_38\n",
      "  - feature_39\n",
      "  - feature_40\n",
      "  - feature_41\n",
      "  - feature_42\n",
      "  - feature_43\n",
      "  - feature_44\n",
      "  - feature_45\n",
      "  - feature_46\n",
      "  - feature_47\n",
      "  - feature_48\n",
      "  - feature_49\n",
      "  - feature_50\n",
      "  - feature_51\n",
      "  - feature_52\n",
      "  - feature_53\n",
      "  - feature_54\n",
      "  - feature_55\n",
      "  - feature_56\n",
      "  - feature_57\n",
      "  - feature_58\n",
      "  - feature_59\n",
      "  - feature_60\n",
      "  - feature_61\n",
      "  - feature_62\n",
      "  - feature_63\n",
      "  - feature_64\n",
      "  - feature_65\n",
      "  - feature_66\n",
      "  - feature_67\n",
      "  - feature_68\n",
      "  - feature_69\n",
      "  - feature_70\n",
      "  - feature_71\n",
      "  - feature_72\n",
      "  - feature_73\n",
      "  - feature_74\n",
      "  - feature_75\n",
      "  - feature_76\n",
      "  - feature_77\n",
      "  - feature_78\n",
      "  - responder_0\n",
      "  - responder_1\n",
      "  - responder_2\n",
      "  - responder_3\n",
      "  - responder_4\n",
      "  - responder_5\n",
      "  - responder_6\n",
      "  - responder_7\n",
      "  - responder_8\n",
      "\n",
      "Int64:\n",
      "  - partition_id\n",
      "\n",
      "Note: These statistics are based on the entire dataset and may take some time to compute.\n"
     ]
    }
   ],
   "source": [
    "# Get basic information about the dataset\n",
    "train_schema = train.collect_schema()\n",
    "train_feature_count = train.select('symbol_id').unique().collect().height\n",
    "\n",
    "# Display collected information\n",
    "print(\"Dataset Information:\")\n",
    "print(\"-\" * 50)\n",
    "print(f\"Number of columns: {len(train_schema)}\")\n",
    "print(f\"Number of unique symbol_ids: {train_feature_count}\")\n",
    "print(\"\\nColumn Types:\")\n",
    "print(\"-\" * 50)\n",
    "\n",
    "# Group columns by data type\n",
    "type_groups = {}\n",
    "for col, dtype in train_schema.items():\n",
    "    if dtype not in type_groups:\n",
    "        type_groups[dtype] = []\n",
    "    type_groups[dtype].append(col)\n",
    "\n",
    "# Print columns grouped by data type\n",
    "for dtype, cols in type_groups.items():\n",
    "    print(f\"\\n{dtype}:\")\n",
    "    for col in cols:\n",
    "        print(f\"  - {col}\")\n",
    "\n",
    "print(\"\\nNote: These statistics are based on the entire dataset and may take some time to compute.\")"
   ]
  },
  {
   "cell_type": "markdown",
   "metadata": {},
   "source": [
    "### Example and Stats"
   ]
  },
  {
   "cell_type": "code",
   "execution_count": 3,
   "metadata": {},
   "outputs": [
    {
     "name": "stderr",
     "output_type": "stream",
     "text": [
      "<ipython-input-3-06b4ef9e4b6c>:2: DeprecationWarning: `LazyFrame.fetch` is deprecated. `LazyFrame.fetch` is deprecated; use `LazyFrame.collect` instead, in conjunction with a call to `head`.\n",
      "  train_first_rows = train.fetch(6795)\n"
     ]
    }
   ],
   "source": [
    "# Show the first few rows\n",
    "train_first_rows = train.fetch(6795)"
   ]
  },
  {
   "cell_type": "code",
   "execution_count": 3,
   "metadata": {},
   "outputs": [],
   "source": [
    "train_data_full = train.collect()"
   ]
  },
  {
   "cell_type": "code",
   "execution_count": 4,
   "metadata": {},
   "outputs": [],
   "source": [
    "train_statistics = train.select(pl.all().exclude(['symbol_id', 'date_id', 'time_id'])).describe()"
   ]
  },
  {
   "cell_type": "code",
   "execution_count": 5,
   "metadata": {},
   "outputs": [
    {
     "data": {
      "text/html": [
       "\n",
       "    <h3>The first x training rows</h3>\n",
       "    <p><em>--</em></p>\n",
       "    "
      ],
      "text/plain": [
       "<IPython.core.display.HTML object>"
      ]
     },
     "metadata": {},
     "output_type": "display_data"
    },
    {
     "data": {
      "text/html": [
       "<div><style>\n",
       ".dataframe > thead > tr,\n",
       ".dataframe > tbody > tr {\n",
       "  text-align: right;\n",
       "  white-space: pre-wrap;\n",
       "}\n",
       "</style>\n",
       "<small>shape: (6_795, 94)</small><table border=\"1\" class=\"dataframe\"><thead><tr><th>id</th><th>date_id</th><th>time_id</th><th>symbol_id</th><th>weight</th><th>feature_00</th><th>feature_01</th><th>feature_02</th><th>feature_03</th><th>feature_04</th><th>feature_05</th><th>feature_06</th><th>feature_07</th><th>feature_08</th><th>feature_09</th><th>feature_10</th><th>feature_11</th><th>feature_12</th><th>feature_13</th><th>feature_14</th><th>feature_15</th><th>feature_16</th><th>feature_17</th><th>feature_18</th><th>feature_19</th><th>feature_20</th><th>feature_21</th><th>feature_22</th><th>feature_23</th><th>feature_24</th><th>feature_25</th><th>feature_26</th><th>feature_27</th><th>feature_28</th><th>feature_29</th><th>feature_30</th><th>feature_31</th><th>&hellip;</th><th>feature_52</th><th>feature_53</th><th>feature_54</th><th>feature_55</th><th>feature_56</th><th>feature_57</th><th>feature_58</th><th>feature_59</th><th>feature_60</th><th>feature_61</th><th>feature_62</th><th>feature_63</th><th>feature_64</th><th>feature_65</th><th>feature_66</th><th>feature_67</th><th>feature_68</th><th>feature_69</th><th>feature_70</th><th>feature_71</th><th>feature_72</th><th>feature_73</th><th>feature_74</th><th>feature_75</th><th>feature_76</th><th>feature_77</th><th>feature_78</th><th>responder_0</th><th>responder_1</th><th>responder_2</th><th>responder_3</th><th>responder_4</th><th>responder_5</th><th>responder_6</th><th>responder_7</th><th>responder_8</th><th>partition_id</th></tr><tr><td>u64</td><td>i16</td><td>i16</td><td>i8</td><td>f32</td><td>f32</td><td>f32</td><td>f32</td><td>f32</td><td>f32</td><td>f32</td><td>f32</td><td>f32</td><td>f32</td><td>i8</td><td>i8</td><td>i16</td><td>f32</td><td>f32</td><td>f32</td><td>f32</td><td>f32</td><td>f32</td><td>f32</td><td>f32</td><td>f32</td><td>f32</td><td>f32</td><td>f32</td><td>f32</td><td>f32</td><td>f32</td><td>f32</td><td>f32</td><td>f32</td><td>f32</td><td>f32</td><td>&hellip;</td><td>f32</td><td>f32</td><td>f32</td><td>f32</td><td>f32</td><td>f32</td><td>f32</td><td>f32</td><td>f32</td><td>f32</td><td>f32</td><td>f32</td><td>f32</td><td>f32</td><td>f32</td><td>f32</td><td>f32</td><td>f32</td><td>f32</td><td>f32</td><td>f32</td><td>f32</td><td>f32</td><td>f32</td><td>f32</td><td>f32</td><td>f32</td><td>f32</td><td>f32</td><td>f32</td><td>f32</td><td>f32</td><td>f32</td><td>f32</td><td>f32</td><td>f32</td><td>i64</td></tr></thead><tbody><tr><td>0</td><td>0</td><td>0</td><td>1</td><td>3.889038</td><td>null</td><td>null</td><td>null</td><td>null</td><td>null</td><td>0.851033</td><td>0.242971</td><td>0.2634</td><td>-0.891687</td><td>11</td><td>7</td><td>76</td><td>-0.883028</td><td>0.003067</td><td>-0.744703</td><td>null</td><td>-0.169586</td><td>null</td><td>-1.335938</td><td>-1.707803</td><td>0.91013</td><td>null</td><td>1.636431</td><td>1.522133</td><td>-1.551398</td><td>-0.229627</td><td>null</td><td>null</td><td>1.378301</td><td>-0.283712</td><td>0.123196</td><td>null</td><td>&hellip;</td><td>null</td><td>null</td><td>-0.808103</td><td>null</td><td>-2.037683</td><td>0.727661</td><td>null</td><td>-0.989118</td><td>-0.345213</td><td>-1.36224</td><td>null</td><td>null</td><td>null</td><td>null</td><td>null</td><td>-1.251104</td><td>-0.110252</td><td>-0.491157</td><td>-1.02269</td><td>0.152241</td><td>-0.659864</td><td>null</td><td>null</td><td>-0.261412</td><td>-0.211486</td><td>-0.335556</td><td>-0.281498</td><td>0.738489</td><td>-0.069556</td><td>1.380875</td><td>2.005353</td><td>0.186018</td><td>1.218368</td><td>0.775981</td><td>0.346999</td><td>0.095504</td><td>0</td></tr><tr><td>1</td><td>0</td><td>0</td><td>7</td><td>1.370613</td><td>null</td><td>null</td><td>null</td><td>null</td><td>null</td><td>0.676961</td><td>0.151984</td><td>0.192465</td><td>-0.521729</td><td>11</td><td>7</td><td>76</td><td>-0.865307</td><td>-0.225629</td><td>-0.582163</td><td>null</td><td>0.317467</td><td>null</td><td>-1.250016</td><td>-1.682929</td><td>1.412757</td><td>null</td><td>0.520378</td><td>0.744132</td><td>-0.788658</td><td>0.641776</td><td>null</td><td>null</td><td>0.2272</td><td>0.580907</td><td>1.128879</td><td>null</td><td>&hellip;</td><td>null</td><td>null</td><td>-1.625862</td><td>null</td><td>-1.410017</td><td>1.063013</td><td>null</td><td>0.888355</td><td>0.467994</td><td>-1.36224</td><td>null</td><td>null</td><td>null</td><td>null</td><td>null</td><td>-1.065759</td><td>0.013322</td><td>-0.592855</td><td>-1.052685</td><td>-0.393726</td><td>-0.741603</td><td>null</td><td>null</td><td>-0.281207</td><td>-0.182894</td><td>-0.245565</td><td>-0.302441</td><td>2.965889</td><td>1.190077</td><td>-0.523998</td><td>3.849921</td><td>2.626981</td><td>5.0</td><td>0.703665</td><td>0.216683</td><td>0.778639</td><td>0</td></tr><tr><td>2</td><td>0</td><td>0</td><td>9</td><td>2.285698</td><td>null</td><td>null</td><td>null</td><td>null</td><td>null</td><td>1.056285</td><td>0.187227</td><td>0.249901</td><td>-0.77305</td><td>11</td><td>7</td><td>76</td><td>-0.675719</td><td>-0.199404</td><td>-0.586798</td><td>null</td><td>-0.814909</td><td>null</td><td>-1.296782</td><td>-2.040234</td><td>0.639589</td><td>null</td><td>1.597359</td><td>0.657514</td><td>-1.350148</td><td>0.364215</td><td>null</td><td>null</td><td>-0.017751</td><td>-0.317361</td><td>-0.122379</td><td>null</td><td>&hellip;</td><td>null</td><td>null</td><td>-0.72542</td><td>null</td><td>-2.29417</td><td>1.764551</td><td>null</td><td>-0.120789</td><td>-0.063458</td><td>-1.36224</td><td>null</td><td>null</td><td>null</td><td>null</td><td>null</td><td>-0.882604</td><td>-0.072482</td><td>-0.617934</td><td>-0.86323</td><td>-0.241892</td><td>-0.709919</td><td>null</td><td>null</td><td>0.377131</td><td>0.300724</td><td>-0.106842</td><td>-0.096792</td><td>-0.864488</td><td>-0.280303</td><td>-0.326697</td><td>0.375781</td><td>1.271291</td><td>0.099793</td><td>2.109352</td><td>0.670881</td><td>0.772828</td><td>0</td></tr><tr><td>3</td><td>0</td><td>0</td><td>10</td><td>0.690606</td><td>null</td><td>null</td><td>null</td><td>null</td><td>null</td><td>1.139366</td><td>0.273328</td><td>0.306549</td><td>-1.262223</td><td>42</td><td>5</td><td>150</td><td>-0.694008</td><td>3.004091</td><td>0.114809</td><td>null</td><td>-0.251882</td><td>null</td><td>-1.902009</td><td>-0.979447</td><td>0.241165</td><td>null</td><td>-0.392359</td><td>-0.224699</td><td>-2.129397</td><td>-0.855287</td><td>null</td><td>null</td><td>0.404142</td><td>-0.578156</td><td>0.105702</td><td>null</td><td>&hellip;</td><td>null</td><td>null</td><td>1.313203</td><td>null</td><td>-0.810125</td><td>2.939022</td><td>null</td><td>3.988801</td><td>1.834661</td><td>-1.36224</td><td>null</td><td>null</td><td>null</td><td>null</td><td>null</td><td>-0.697595</td><td>1.074309</td><td>-0.206929</td><td>-0.530602</td><td>4.765215</td><td>0.571554</td><td>null</td><td>null</td><td>-0.226891</td><td>-0.251412</td><td>-0.215522</td><td>-0.296244</td><td>0.408499</td><td>0.223992</td><td>2.294888</td><td>1.097444</td><td>1.225872</td><td>1.225376</td><td>1.114137</td><td>0.775199</td><td>-1.379516</td><td>0</td></tr><tr><td>4</td><td>0</td><td>0</td><td>14</td><td>0.44057</td><td>null</td><td>null</td><td>null</td><td>null</td><td>null</td><td>0.9552</td><td>0.262404</td><td>0.344457</td><td>-0.613813</td><td>44</td><td>3</td><td>16</td><td>-0.947351</td><td>-0.030018</td><td>-0.502379</td><td>null</td><td>0.646086</td><td>null</td><td>-1.844685</td><td>-1.58656</td><td>-0.182024</td><td>null</td><td>-0.969949</td><td>-0.673813</td><td>-1.282132</td><td>-1.399894</td><td>null</td><td>null</td><td>0.043815</td><td>-0.320225</td><td>-0.031713</td><td>null</td><td>&hellip;</td><td>null</td><td>null</td><td>0.476195</td><td>null</td><td>-0.771732</td><td>2.843421</td><td>null</td><td>1.379815</td><td>0.411827</td><td>-1.36224</td><td>null</td><td>null</td><td>null</td><td>null</td><td>null</td><td>-0.948601</td><td>-0.136814</td><td>-0.447704</td><td>-1.141761</td><td>0.099631</td><td>-0.661928</td><td>null</td><td>null</td><td>3.678076</td><td>2.793581</td><td>2.61825</td><td>3.418133</td><td>-0.373387</td><td>-0.502764</td><td>-0.348021</td><td>-3.928148</td><td>-1.591366</td><td>-5.0</td><td>-3.57282</td><td>-1.089123</td><td>-5.0</td><td>0</td></tr><tr><td>&hellip;</td><td>&hellip;</td><td>&hellip;</td><td>&hellip;</td><td>&hellip;</td><td>&hellip;</td><td>&hellip;</td><td>&hellip;</td><td>&hellip;</td><td>&hellip;</td><td>&hellip;</td><td>&hellip;</td><td>&hellip;</td><td>&hellip;</td><td>&hellip;</td><td>&hellip;</td><td>&hellip;</td><td>&hellip;</td><td>&hellip;</td><td>&hellip;</td><td>&hellip;</td><td>&hellip;</td><td>&hellip;</td><td>&hellip;</td><td>&hellip;</td><td>&hellip;</td><td>&hellip;</td><td>&hellip;</td><td>&hellip;</td><td>&hellip;</td><td>&hellip;</td><td>&hellip;</td><td>&hellip;</td><td>&hellip;</td><td>&hellip;</td><td>&hellip;</td><td>&hellip;</td><td>&hellip;</td><td>&hellip;</td><td>&hellip;</td><td>&hellip;</td><td>&hellip;</td><td>&hellip;</td><td>&hellip;</td><td>&hellip;</td><td>&hellip;</td><td>&hellip;</td><td>&hellip;</td><td>&hellip;</td><td>&hellip;</td><td>&hellip;</td><td>&hellip;</td><td>&hellip;</td><td>&hellip;</td><td>&hellip;</td><td>&hellip;</td><td>&hellip;</td><td>&hellip;</td><td>&hellip;</td><td>&hellip;</td><td>&hellip;</td><td>&hellip;</td><td>&hellip;</td><td>&hellip;</td><td>&hellip;</td><td>&hellip;</td><td>&hellip;</td><td>&hellip;</td><td>&hellip;</td><td>&hellip;</td><td>&hellip;</td><td>&hellip;</td><td>&hellip;</td><td>&hellip;</td><td>&hellip;</td></tr><tr><td>6790</td><td>0</td><td>848</td><td>19</td><td>2.456331</td><td>null</td><td>null</td><td>null</td><td>null</td><td>null</td><td>0.214786</td><td>-0.070809</td><td>-0.083887</td><td>-0.656999</td><td>4</td><td>3</td><td>11</td><td>-0.372137</td><td>-0.045578</td><td>0.182541</td><td>0.300347</td><td>-0.272577</td><td>0.348121</td><td>-0.931276</td><td>0.431828</td><td>0.105461</td><td>null</td><td>0.946351</td><td>1.344925</td><td>-0.573883</td><td>0.964037</td><td>null</td><td>null</td><td>-0.616086</td><td>0.142924</td><td>0.266898</td><td>null</td><td>&hellip;</td><td>-0.501757</td><td>0.186988</td><td>-0.922461</td><td>-0.05951</td><td>-0.297873</td><td>0.874518</td><td>0.310264</td><td>0.097209</td><td>0.065888</td><td>-1.36224</td><td>-0.497462</td><td>-0.562408</td><td>-0.319766</td><td>2.27459</td><td>-0.438213</td><td>-0.152419</td><td>0.220645</td><td>0.711995</td><td>-0.348788</td><td>-0.345888</td><td>-0.302881</td><td>-0.265228</td><td>-0.245246</td><td>-0.32055</td><td>-0.246791</td><td>-0.308591</td><td>-0.337729</td><td>1.588425</td><td>0.913681</td><td>4.615185</td><td>1.8067</td><td>0.995739</td><td>3.996884</td><td>0.01929</td><td>0.042577</td><td>0.036325</td><td>0</td></tr><tr><td>6791</td><td>0</td><td>848</td><td>33</td><td>1.663408</td><td>null</td><td>null</td><td>null</td><td>null</td><td>null</td><td>0.24232</td><td>-0.071163</td><td>-0.185832</td><td>-0.990036</td><td>11</td><td>7</td><td>76</td><td>-0.715745</td><td>-0.416333</td><td>-0.763716</td><td>1.16266</td><td>1.838131</td><td>1.779362</td><td>-1.189198</td><td>1.31688</td><td>0.679352</td><td>null</td><td>0.767303</td><td>0.740793</td><td>-1.215067</td><td>-1.124142</td><td>null</td><td>null</td><td>-0.46222</td><td>0.263958</td><td>1.038144</td><td>null</td><td>&hellip;</td><td>0.084543</td><td>0.567816</td><td>-1.461053</td><td>-0.813586</td><td>0.055976</td><td>0.323272</td><td>0.136678</td><td>-0.013815</td><td>-0.011322</td><td>-1.36224</td><td>-0.080933</td><td>-0.368057</td><td>-0.524512</td><td>1.182688</td><td>-0.093663</td><td>-0.80539</td><td>-0.282463</td><td>-0.579693</td><td>-0.890176</td><td>-0.449834</td><td>-0.703111</td><td>-0.395729</td><td>-0.304303</td><td>-0.243684</td><td>-0.209915</td><td>-0.291822</td><td>-0.277637</td><td>2.676013</td><td>1.650422</td><td>3.072583</td><td>3.455832</td><td>1.315261</td><td>3.428687</td><td>0.030653</td><td>0.045052</td><td>0.042633</td><td>0</td></tr><tr><td>6792</td><td>1</td><td>0</td><td>0</td><td>1.749479</td><td>null</td><td>null</td><td>null</td><td>null</td><td>null</td><td>0.053447</td><td>2.192887</td><td>1.160708</td><td>-0.00983</td><td>11</td><td>7</td><td>76</td><td>-0.819115</td><td>1.403962</td><td>-0.098782</td><td>null</td><td>0.340309</td><td>null</td><td>-1.577595</td><td>-1.237946</td><td>1.039095</td><td>null</td><td>0.756488</td><td>0.432157</td><td>-1.626238</td><td>-0.137137</td><td>null</td><td>null</td><td>0.952274</td><td>-0.186008</td><td>0.127051</td><td>null</td><td>&hellip;</td><td>null</td><td>null</td><td>-0.850504</td><td>null</td><td>-1.543995</td><td>1.741718</td><td>null</td><td>2.035935</td><td>0.892778</td><td>-1.081097</td><td>null</td><td>null</td><td>null</td><td>null</td><td>null</td><td>-0.734145</td><td>0.276101</td><td>-0.576441</td><td>-0.799783</td><td>4.812901</td><td>0.393107</td><td>null</td><td>null</td><td>-0.226359</td><td>-0.327119</td><td>-0.31504</td><td>-0.385573</td><td>-0.022355</td><td>0.337951</td><td>0.156607</td><td>1.406054</td><td>3.6808</td><td>0.598633</td><td>2.337418</td><td>2.577889</td><td>0.725604</td><td>0</td></tr><tr><td>6793</td><td>1</td><td>0</td><td>1</td><td>3.911768</td><td>null</td><td>null</td><td>null</td><td>null</td><td>null</td><td>0.053053</td><td>2.126396</td><td>1.101112</td><td>-0.013003</td><td>11</td><td>7</td><td>76</td><td>-0.839616</td><td>2.043382</td><td>-0.109693</td><td>null</td><td>0.063372</td><td>null</td><td>-1.372385</td><td>-0.35307</td><td>0.751294</td><td>null</td><td>2.282396</td><td>1.263641</td><td>-1.622081</td><td>-0.294155</td><td>null</td><td>null</td><td>1.758774</td><td>-0.304175</td><td>0.141651</td><td>null</td><td>&hellip;</td><td>null</td><td>null</td><td>-0.765633</td><td>null</td><td>-1.702322</td><td>1.68906</td><td>null</td><td>0.753961</td><td>0.197442</td><td>-1.081097</td><td>-0.022838</td><td>-0.400573</td><td>0.173137</td><td>null</td><td>null</td><td>-0.822781</td><td>1.984625</td><td>-0.017244</td><td>-1.149028</td><td>1.284678</td><td>-0.176955</td><td>null</td><td>null</td><td>-0.280429</td><td>-0.242559</td><td>-0.31284</td><td>-0.281565</td><td>0.16938</td><td>0.043324</td><td>-0.030532</td><td>0.985784</td><td>1.485551</td><td>-0.379609</td><td>1.677068</td><td>1.752096</td><td>-0.523871</td><td>0</td></tr><tr><td>6794</td><td>1</td><td>0</td><td>2</td><td>1.062098</td><td>null</td><td>null</td><td>null</td><td>null</td><td>null</td><td>0.049771</td><td>1.897569</td><td>0.936499</td><td>-0.012585</td><td>81</td><td>2</td><td>59</td><td>-0.688746</td><td>1.482645</td><td>-0.340683</td><td>null</td><td>0.370178</td><td>null</td><td>-1.30026</td><td>-1.844302</td><td>-0.830805</td><td>null</td><td>-0.238425</td><td>0.028479</td><td>-1.182548</td><td>0.392532</td><td>null</td><td>null</td><td>0.341612</td><td>-0.521844</td><td>-0.178283</td><td>null</td><td>&hellip;</td><td>null</td><td>null</td><td>-0.592981</td><td>null</td><td>-0.646195</td><td>1.875373</td><td>null</td><td>4.203779</td><td>1.5127</td><td>-1.081097</td><td>-0.362663</td><td>-0.576967</td><td>-0.583051</td><td>null</td><td>null</td><td>-0.807695</td><td>0.851287</td><td>-0.271779</td><td>-1.111671</td><td>1.145801</td><td>-0.261378</td><td>null</td><td>null</td><td>0.366157</td><td>0.405923</td><td>-0.148441</td><td>-0.146584</td><td>-0.484949</td><td>2.462649</td><td>-0.544341</td><td>-0.199138</td><td>1.638287</td><td>-0.311347</td><td>0.217322</td><td>-1.571629</td><td>0.598442</td><td>0</td></tr></tbody></table></div>"
      ],
      "text/plain": [
       "shape: (6_795, 94)\n",
       "┌──────┬─────────┬─────────┬───────────┬───┬─────────────┬─────────────┬─────────────┬─────────────┐\n",
       "│ id   ┆ date_id ┆ time_id ┆ symbol_id ┆ … ┆ responder_6 ┆ responder_7 ┆ responder_8 ┆ partition_i │\n",
       "│ ---  ┆ ---     ┆ ---     ┆ ---       ┆   ┆ ---         ┆ ---         ┆ ---         ┆ d           │\n",
       "│ u64  ┆ i16     ┆ i16     ┆ i8        ┆   ┆ f32         ┆ f32         ┆ f32         ┆ ---         │\n",
       "│      ┆         ┆         ┆           ┆   ┆             ┆             ┆             ┆ i64         │\n",
       "╞══════╪═════════╪═════════╪═══════════╪═══╪═════════════╪═════════════╪═════════════╪═════════════╡\n",
       "│ 0    ┆ 0       ┆ 0       ┆ 1         ┆ … ┆ 0.775981    ┆ 0.346999    ┆ 0.095504    ┆ 0           │\n",
       "│ 1    ┆ 0       ┆ 0       ┆ 7         ┆ … ┆ 0.703665    ┆ 0.216683    ┆ 0.778639    ┆ 0           │\n",
       "│ 2    ┆ 0       ┆ 0       ┆ 9         ┆ … ┆ 2.109352    ┆ 0.670881    ┆ 0.772828    ┆ 0           │\n",
       "│ 3    ┆ 0       ┆ 0       ┆ 10        ┆ … ┆ 1.114137    ┆ 0.775199    ┆ -1.379516   ┆ 0           │\n",
       "│ 4    ┆ 0       ┆ 0       ┆ 14        ┆ … ┆ -3.57282    ┆ -1.089123   ┆ -5.0        ┆ 0           │\n",
       "│ …    ┆ …       ┆ …       ┆ …         ┆ … ┆ …           ┆ …           ┆ …           ┆ …           │\n",
       "│ 6790 ┆ 0       ┆ 848     ┆ 19        ┆ … ┆ 0.01929     ┆ 0.042577    ┆ 0.036325    ┆ 0           │\n",
       "│ 6791 ┆ 0       ┆ 848     ┆ 33        ┆ … ┆ 0.030653    ┆ 0.045052    ┆ 0.042633    ┆ 0           │\n",
       "│ 6792 ┆ 1       ┆ 0       ┆ 0         ┆ … ┆ 2.337418    ┆ 2.577889    ┆ 0.725604    ┆ 0           │\n",
       "│ 6793 ┆ 1       ┆ 0       ┆ 1         ┆ … ┆ 1.677068    ┆ 1.752096    ┆ -0.523871   ┆ 0           │\n",
       "│ 6794 ┆ 1       ┆ 0       ┆ 2         ┆ … ┆ 0.217322    ┆ -1.571629   ┆ 0.598442    ┆ 0           │\n",
       "└──────┴─────────┴─────────┴───────────┴───┴─────────────┴─────────────┴─────────────┴─────────────┘"
      ]
     },
     "metadata": {},
     "output_type": "display_data"
    },
    {
     "data": {
      "text/html": [
       "\n",
       "    <h3>Statistical Summary of Training Data</h3>\n",
       "    <p><em>This table provides key statistical measures for each column in the dataset, including count, mean, standard deviation, and quartiles.</em></p>\n",
       "    "
      ],
      "text/plain": [
       "<IPython.core.display.HTML object>"
      ]
     },
     "metadata": {},
     "output_type": "display_data"
    },
    {
     "data": {
      "text/html": [
       "<div><style>\n",
       ".dataframe > thead > tr,\n",
       ".dataframe > tbody > tr {\n",
       "  text-align: right;\n",
       "  white-space: pre-wrap;\n",
       "}\n",
       "</style>\n",
       "<small>shape: (9, 92)</small><table border=\"1\" class=\"dataframe\"><thead><tr><th>statistic</th><th>id</th><th>weight</th><th>feature_00</th><th>feature_01</th><th>feature_02</th><th>feature_03</th><th>feature_04</th><th>feature_05</th><th>feature_06</th><th>feature_07</th><th>feature_08</th><th>feature_09</th><th>feature_10</th><th>feature_11</th><th>feature_12</th><th>feature_13</th><th>feature_14</th><th>feature_15</th><th>feature_16</th><th>feature_17</th><th>feature_18</th><th>feature_19</th><th>feature_20</th><th>feature_21</th><th>feature_22</th><th>feature_23</th><th>feature_24</th><th>feature_25</th><th>feature_26</th><th>feature_27</th><th>feature_28</th><th>feature_29</th><th>feature_30</th><th>feature_31</th><th>feature_32</th><th>feature_33</th><th>&hellip;</th><th>feature_52</th><th>feature_53</th><th>feature_54</th><th>feature_55</th><th>feature_56</th><th>feature_57</th><th>feature_58</th><th>feature_59</th><th>feature_60</th><th>feature_61</th><th>feature_62</th><th>feature_63</th><th>feature_64</th><th>feature_65</th><th>feature_66</th><th>feature_67</th><th>feature_68</th><th>feature_69</th><th>feature_70</th><th>feature_71</th><th>feature_72</th><th>feature_73</th><th>feature_74</th><th>feature_75</th><th>feature_76</th><th>feature_77</th><th>feature_78</th><th>responder_0</th><th>responder_1</th><th>responder_2</th><th>responder_3</th><th>responder_4</th><th>responder_5</th><th>responder_6</th><th>responder_7</th><th>responder_8</th><th>partition_id</th></tr><tr><td>str</td><td>f64</td><td>f64</td><td>f64</td><td>f64</td><td>f64</td><td>f64</td><td>f64</td><td>f64</td><td>f64</td><td>f64</td><td>f64</td><td>f64</td><td>f64</td><td>f64</td><td>f64</td><td>f64</td><td>f64</td><td>f64</td><td>f64</td><td>f64</td><td>f64</td><td>f64</td><td>f64</td><td>f64</td><td>f64</td><td>f64</td><td>f64</td><td>f64</td><td>f64</td><td>f64</td><td>f64</td><td>f64</td><td>f64</td><td>f64</td><td>f64</td><td>f64</td><td>&hellip;</td><td>f64</td><td>f64</td><td>f64</td><td>f64</td><td>f64</td><td>f64</td><td>f64</td><td>f64</td><td>f64</td><td>f64</td><td>f64</td><td>f64</td><td>f64</td><td>f64</td><td>f64</td><td>f64</td><td>f64</td><td>f64</td><td>f64</td><td>f64</td><td>f64</td><td>f64</td><td>f64</td><td>f64</td><td>f64</td><td>f64</td><td>f64</td><td>f64</td><td>f64</td><td>f64</td><td>f64</td><td>f64</td><td>f64</td><td>f64</td><td>f64</td><td>f64</td><td>f64</td></tr></thead><tbody><tr><td>&quot;count&quot;</td><td>4.7127338e7</td><td>4.7127338e7</td><td>4.3945286e7</td><td>4.3945286e7</td><td>4.3945286e7</td><td>4.3945286e7</td><td>4.3945286e7</td><td>4.7127338e7</td><td>4.7127338e7</td><td>4.7127338e7</td><td>4.6827091e7</td><td>4.7127338e7</td><td>4.7127338e7</td><td>4.7127338e7</td><td>4.7127338e7</td><td>4.7127338e7</td><td>4.7127338e7</td><td>4.5918039e7</td><td>4.7127077e7</td><td>4.69255e7</td><td>4.7127112e7</td><td>4.7127112e7</td><td>4.7127338e7</td><td>3.8691353e7</td><td>4.7127338e7</td><td>4.7127338e7</td><td>4.7127338e7</td><td>4.7127338e7</td><td>3.8691353e7</td><td>3.8691353e7</td><td>4.7127338e7</td><td>4.7127338e7</td><td>4.7127338e7</td><td>3.8691353e7</td><td>4.6648881e7</td><td>4.6648881e7</td><td>&hellip;</td><td>4.608244e7</td><td>4.287324e7</td><td>4.7113533e7</td><td>4.608244e7</td><td>4.7127112e7</td><td>4.7127112e7</td><td>4.6648886e7</td><td>4.7127338e7</td><td>4.7127338e7</td><td>4.7127338e7</td><td>4.6834511e7</td><td>4.6899772e7</td><td>4.6889675e7</td><td>4.6810175e7</td><td>4.6810175e7</td><td>4.7127338e7</td><td>4.7127338e7</td><td>4.7127338e7</td><td>4.7127338e7</td><td>4.7127338e7</td><td>4.7127338e7</td><td>4.6643579e7</td><td>4.6643579e7</td><td>4.7068908e7</td><td>4.7068908e7</td><td>4.7107295e7</td><td>4.7107295e7</td><td>4.7127338e7</td><td>4.7127338e7</td><td>4.7127338e7</td><td>4.7127338e7</td><td>4.7127338e7</td><td>4.7127338e7</td><td>4.7127338e7</td><td>4.7127338e7</td><td>4.7127338e7</td><td>4.7127338e7</td></tr><tr><td>&quot;null_count&quot;</td><td>0.0</td><td>0.0</td><td>3.182052e6</td><td>3.182052e6</td><td>3.182052e6</td><td>3.182052e6</td><td>3.182052e6</td><td>0.0</td><td>0.0</td><td>0.0</td><td>300247.0</td><td>0.0</td><td>0.0</td><td>0.0</td><td>0.0</td><td>0.0</td><td>0.0</td><td>1.209299e6</td><td>261.0</td><td>201838.0</td><td>226.0</td><td>226.0</td><td>0.0</td><td>8.435985e6</td><td>0.0</td><td>0.0</td><td>0.0</td><td>0.0</td><td>8.435985e6</td><td>8.435985e6</td><td>0.0</td><td>0.0</td><td>0.0</td><td>8.435985e6</td><td>478457.0</td><td>478457.0</td><td>&hellip;</td><td>1.044898e6</td><td>4.254098e6</td><td>13805.0</td><td>1.044898e6</td><td>226.0</td><td>226.0</td><td>478452.0</td><td>0.0</td><td>0.0</td><td>0.0</td><td>292827.0</td><td>227566.0</td><td>237663.0</td><td>317163.0</td><td>317163.0</td><td>0.0</td><td>0.0</td><td>0.0</td><td>0.0</td><td>0.0</td><td>0.0</td><td>483759.0</td><td>483759.0</td><td>58430.0</td><td>58430.0</td><td>20043.0</td><td>20043.0</td><td>0.0</td><td>0.0</td><td>0.0</td><td>0.0</td><td>0.0</td><td>0.0</td><td>0.0</td><td>0.0</td><td>0.0</td><td>0.0</td></tr><tr><td>&quot;mean&quot;</td><td>2.3564e7</td><td>2.009445</td><td>0.573833</td><td>0.010192</td><td>0.573102</td><td>0.572745</td><td>-0.000852</td><td>-0.03838</td><td>-0.005058</td><td>-0.013839</td><td>0.082467</td><td>32.762992</td><td>4.875799</td><td>170.69312</td><td>-0.038973</td><td>-0.026642</td><td>-0.041218</td><td>-0.251219</td><td>-0.20489</td><td>-0.242808</td><td>-0.008927</td><td>-0.031894</td><td>-0.209704</td><td>0.037687</td><td>0.067906</td><td>0.072203</td><td>0.572287</td><td>0.092576</td><td>-0.049244</td><td>-0.234434</td><td>-0.155543</td><td>-0.215313</td><td>-0.2576</td><td>0.036165</td><td>0.420549</td><td>-0.015209</td><td>&hellip;</td><td>-0.103892</td><td>0.074961</td><td>0.048527</td><td>0.086814</td><td>-0.028328</td><td>0.027874</td><td>-0.015198</td><td>-0.002545</td><td>-0.00665</td><td>0.012388</td><td>-0.179578</td><td>-0.145254</td><td>-0.166556</td><td>-0.043152</td><td>-0.050118</td><td>-0.042604</td><td>-0.023995</td><td>-0.040502</td><td>-0.032992</td><td>-0.021157</td><td>-0.036682</td><td>-0.016559</td><td>-0.023103</td><td>-0.002237</td><td>-0.008022</td><td>-0.00659</td><td>-0.012559</td><td>-0.001545</td><td>-0.000866</td><td>-0.000142</td><td>-0.01638</td><td>-0.012442</td><td>-0.016624</td><td>-0.002141</td><td>0.001476</td><td>-0.001114</td><td>5.409279</td></tr><tr><td>&quot;std&quot;</td><td>1.3604e7</td><td>1.129388</td><td>1.327413</td><td>1.084941</td><td>1.32287</td><td>1.322849</td><td>1.037188</td><td>1.02012</td><td>1.065836</td><td>1.058633</td><td>0.973704</td><td>23.897102</td><td>3.036514</td><td>164.523054</td><td>0.93135</td><td>0.903511</td><td>0.927618</td><td>0.916496</td><td>0.891434</td><td>0.911261</td><td>1.035968</td><td>1.060218</td><td>0.905527</td><td>0.88762</td><td>0.979838</td><td>0.940164</td><td>1.449629</td><td>1.020206</td><td>1.059212</td><td>1.05812</td><td>1.038651</td><td>0.878222</td><td>0.927363</td><td>0.737381</td><td>1.264526</td><td>0.98832</td><td>&hellip;</td><td>1.004431</td><td>1.036738</td><td>0.914435</td><td>0.999288</td><td>0.998483</td><td>1.03619</td><td>0.951424</td><td>0.94698</td><td>0.952109</td><td>1.112283</td><td>0.79263</td><td>0.718381</td><td>0.724299</td><td>1.04563</td><td>1.065957</td><td>0.915921</td><td>0.882024</td><td>0.907692</td><td>0.942279</td><td>0.886376</td><td>0.930929</td><td>0.966191</td><td>0.958618</td><td>0.956047</td><td>0.948959</td><td>0.949269</td><td>0.943592</td><td>0.591211</td><td>0.587551</td><td>0.599179</td><td>0.819231</td><td>0.87284</td><td>0.734546</td><td>0.889852</td><td>0.916042</td><td>0.864412</td><td>2.610668</td></tr><tr><td>&quot;min&quot;</td><td>0.0</td><td>0.149967</td><td>-5.794129</td><td>-5.741592</td><td>-5.72601</td><td>-5.60189</td><td>-5.79988</td><td>-25.350399</td><td>-58.604362</td><td>-39.085358</td><td>-15.566865</td><td>2.0</td><td>1.0</td><td>9.0</td><td>-1.913078</td><td>-0.921612</td><td>-1.399126</td><td>-1.688744</td><td>-1.760566</td><td>-1.731827</td><td>-6.000734</td><td>-5.772067</td><td>-4.620031</td><td>-0.558637</td><td>-2.602898</td><td>-2.585011</td><td>-3.234935</td><td>-2.178431</td><td>-3.451056</td><td>-3.475544</td><td>-4.063898</td><td>-1.59573</td><td>-1.670693</td><td>-0.503498</td><td>-5.841329</td><td>-5.44908</td><td>&hellip;</td><td>-5.356531</td><td>-5.353856</td><td>-5.606056</td><td>-5.698468</td><td>-5.528082</td><td>-5.369931</td><td>-36.406746</td><td>-169.922882</td><td>-62.636726</td><td>-5.740418</td><td>-0.932498</td><td>-0.834446</td><td>-0.952489</td><td>-5.220601</td><td>-5.906378</td><td>-1.698194</td><td>-0.740409</td><td>-1.321859</td><td>-1.894538</td><td>-0.825984</td><td>-1.401122</td><td>-7.017025</td><td>-6.107176</td><td>-6.279804</td><td>-5.730657</td><td>-5.920879</td><td>-6.159515</td><td>-5.0</td><td>-5.0</td><td>-5.0</td><td>-5.0</td><td>-5.0</td><td>-5.0</td><td>-5.0</td><td>-5.0</td><td>-5.0</td><td>0.0</td></tr><tr><td>&quot;25%&quot;</td><td>1.1781834e7</td><td>1.210248</td><td>-0.332597</td><td>-0.721098</td><td>-0.329828</td><td>-0.330473</td><td>-0.706751</td><td>-0.48758</td><td>-0.423991</td><td>-0.45811</td><td>-0.383698</td><td>11.0</td><td>3.0</td><td>59.0</td><td>-0.502319</td><td>-0.381587</td><td>-0.477013</td><td>-0.70299</td><td>-0.619538</td><td>-0.687114</td><td>-0.703462</td><td>-0.735385</td><td>-0.753683</td><td>-0.192191</td><td>-0.659105</td><td>-0.672382</td><td>-0.430413</td><td>-0.724598</td><td>-0.807654</td><td>-1.058077</td><td>-0.921974</td><td>-0.657959</td><td>-0.733317</td><td>-0.193346</td><td>-0.463388</td><td>-0.653698</td><td>&hellip;</td><td>-0.816762</td><td>-0.628716</td><td>-0.51377</td><td>-0.583466</td><td>-0.695265</td><td>-0.683238</td><td>-0.39056</td><td>-0.219139</td><td>-0.328788</td><td>-0.715441</td><td>-0.394248</td><td>-0.36148</td><td>-0.379126</td><td>-0.763339</td><td>-0.76966</td><td>-0.494946</td><td>-0.326631</td><td>-0.445909</td><td>-0.501901</td><td>-0.354698</td><td>-0.482947</td><td>-0.341742</td><td>-0.348328</td><td>-0.291265</td><td>-0.302702</td><td>-0.297005</td><td>-0.303903</td><td>-0.19025</td><td>-0.163768</td><td>-0.199878</td><td>-0.310065</td><td>-0.383654</td><td>-0.225414</td><td>-0.382761</td><td>-0.419719</td><td>-0.334288</td><td>3.0</td></tr><tr><td>&quot;50%&quot;</td><td>2.3563669e7</td><td>1.749686</td><td>0.405783</td><td>0.007342</td><td>0.407041</td><td>0.406398</td><td>0.002276</td><td>-0.056492</td><td>-0.009067</td><td>-0.033127</td><td>0.066749</td><td>30.0</td><td>4.0</td><td>76.0</td><td>-0.241653</td><td>-0.250703</td><td>-0.263261</td><td>-0.494275</td><td>-0.439048</td><td>-0.485204</td><td>0.013223</td><td>-0.019893</td><td>-0.203267</td><td>-0.071634</td><td>-0.090226</td><td>-0.074281</td><td>0.359284</td><td>-0.092646</td><td>-0.038531</td><td>-0.305663</td><td>-0.203686</td><td>-0.491794</td><td>-0.521971</td><td>-0.070778</td><td>0.376537</td><td>-0.013907</td><td>&hellip;</td><td>-0.125911</td><td>0.084552</td><td>0.102193</td><td>0.114908</td><td>-0.01574</td><td>0.020898</td><td>0.005477</td><td>-0.003226</td><td>0.0004</td><td>0.03493</td><td>-0.299991</td><td>-0.276134</td><td>-0.289316</td><td>-0.027499</td><td>-0.043403</td><td>-0.253352</td><td>-0.229626</td><td>-0.262043</td><td>-0.22897</td><td>-0.239457</td><td>-0.258222</td><td>-0.222002</td><td>-0.214756</td><td>-0.225563</td><td>-0.215698</td><td>-0.203016</td><td>-0.194892</td><td>-0.004543</td><td>-0.023831</td><td>-0.000862</td><td>-0.025754</td><td>-0.04469</td><td>-0.009662</td><td>-0.025566</td><td>-0.039172</td><td>-0.008617</td><td>6.0</td></tr><tr><td>&quot;75%&quot;</td><td>3.5345503e7</td><td>2.525645</td><td>1.261608</td><td>0.729377</td><td>1.258622</td><td>1.258682</td><td>0.703709</td><td>0.390622</td><td>0.40295</td><td>0.399753</td><td>0.545776</td><td>50.0</td><td>7.0</td><td>230.0</td><td>0.151159</td><td>0.013216</td><td>0.096103</td><td>-0.158807</td><td>-0.133404</td><td>-0.155685</td><td>0.689326</td><td>0.697446</td><td>0.325079</td><td>0.136483</td><td>0.687804</td><td>0.777812</td><td>1.334911</td><td>0.792469</td><td>0.463732</td><td>0.580433</td><td>0.637064</td><td>-0.165001</td><td>-0.159384</td><td>0.136456</td><td>1.267941</td><td>0.62241</td><td>&hellip;</td><td>0.571886</td><td>0.791087</td><td>0.625111</td><td>0.796459</td><td>0.650474</td><td>0.735661</td><td>0.385927</td><td>0.223869</td><td>0.338723</td><td>0.747711</td><td>-0.154715</td><td>-0.139755</td><td>-0.149665</td><td>0.665365</td><td>0.688806</td><td>0.124938</td><td>-0.027538</td><td>0.058261</td><td>0.172525</td><td>0.005978</td><td>0.118007</td><td>0.061969</td><td>0.062082</td><td>-0.017734</td><td>-0.015261</td><td>0.048274</td><td>0.048617</td><td>0.181948</td><td>0.127383</td><td>0.199062</td><td>0.261112</td><td>0.313263</td><td>0.200578</td><td>0.334321</td><td>0.355323</td><td>0.311202</td><td>8.0</td></tr><tr><td>&quot;max&quot;</td><td>4.7127337e7</td><td>10.240419</td><td>6.477002</td><td>6.292391</td><td>6.490265</td><td>6.695623</td><td>6.16416</td><td>35.726223</td><td>93.644058</td><td>54.941608</td><td>21.695173</td><td>82.0</td><td>12.0</td><td>539.0</td><td>139.418411</td><td>381.20224</td><td>169.11882</td><td>111.079552</td><td>220.132477</td><td>134.500641</td><td>5.82537</td><td>5.972393</td><td>5.421159</td><td>161.486771</td><td>4.128449</td><td>3.24372</td><td>10.744452</td><td>4.136297</td><td>4.862733</td><td>2.64355</td><td>2.88091</td><td>7.534706</td><td>9.410683</td><td>127.98037</td><td>6.007876</td><td>5.996757</td><td>&hellip;</td><td>5.672063</td><td>5.705534</td><td>5.173214</td><td>5.216465</td><td>5.696934</td><td>5.514725</td><td>58.441505</td><td>256.867371</td><td>120.785431</td><td>5.746197</td><td>392.206909</td><td>162.320709</td><td>159.498932</td><td>5.786398</td><td>5.668077</td><td>93.847923</td><td>336.036957</td><td>121.076111</td><td>167.668549</td><td>735.592896</td><td>216.262894</td><td>200.948776</td><td>228.661392</td><td>213.313828</td><td>260.911194</td><td>208.127609</td><td>257.45401</td><td>5.0</td><td>5.0</td><td>5.0</td><td>5.0</td><td>5.0</td><td>5.0</td><td>5.0</td><td>5.0</td><td>5.0</td><td>9.0</td></tr></tbody></table></div>"
      ],
      "text/plain": [
       "shape: (9, 92)\n",
       "┌───────────┬───────────┬───────────┬───────────┬───┬───────────┬───────────┬───────────┬──────────┐\n",
       "│ statistic ┆ id        ┆ weight    ┆ feature_0 ┆ … ┆ responder ┆ responder ┆ responder ┆ partitio │\n",
       "│ ---       ┆ ---       ┆ ---       ┆ 0         ┆   ┆ _6        ┆ _7        ┆ _8        ┆ n_id     │\n",
       "│ str       ┆ f64       ┆ f64       ┆ ---       ┆   ┆ ---       ┆ ---       ┆ ---       ┆ ---      │\n",
       "│           ┆           ┆           ┆ f64       ┆   ┆ f64       ┆ f64       ┆ f64       ┆ f64      │\n",
       "╞═══════════╪═══════════╪═══════════╪═══════════╪═══╪═══════════╪═══════════╪═══════════╪══════════╡\n",
       "│ count     ┆ 4.7127338 ┆ 4.7127338 ┆ 4.3945286 ┆ … ┆ 4.7127338 ┆ 4.7127338 ┆ 4.7127338 ┆ 4.712733 │\n",
       "│           ┆ e7        ┆ e7        ┆ e7        ┆   ┆ e7        ┆ e7        ┆ e7        ┆ 8e7      │\n",
       "│ null_coun ┆ 0.0       ┆ 0.0       ┆ 3.182052e ┆ … ┆ 0.0       ┆ 0.0       ┆ 0.0       ┆ 0.0      │\n",
       "│ t         ┆           ┆           ┆ 6         ┆   ┆           ┆           ┆           ┆          │\n",
       "│ mean      ┆ 2.3564e7  ┆ 2.009445  ┆ 0.573833  ┆ … ┆ -0.002141 ┆ 0.001476  ┆ -0.001114 ┆ 5.409279 │\n",
       "│ std       ┆ 1.3604e7  ┆ 1.129388  ┆ 1.327413  ┆ … ┆ 0.889852  ┆ 0.916042  ┆ 0.864412  ┆ 2.610668 │\n",
       "│ min       ┆ 0.0       ┆ 0.149967  ┆ -5.794129 ┆ … ┆ -5.0      ┆ -5.0      ┆ -5.0      ┆ 0.0      │\n",
       "│ 25%       ┆ 1.1781834 ┆ 1.210248  ┆ -0.332597 ┆ … ┆ -0.382761 ┆ -0.419719 ┆ -0.334288 ┆ 3.0      │\n",
       "│           ┆ e7        ┆           ┆           ┆   ┆           ┆           ┆           ┆          │\n",
       "│ 50%       ┆ 2.3563669 ┆ 1.749686  ┆ 0.405783  ┆ … ┆ -0.025566 ┆ -0.039172 ┆ -0.008617 ┆ 6.0      │\n",
       "│           ┆ e7        ┆           ┆           ┆   ┆           ┆           ┆           ┆          │\n",
       "│ 75%       ┆ 3.5345503 ┆ 2.525645  ┆ 1.261608  ┆ … ┆ 0.334321  ┆ 0.355323  ┆ 0.311202  ┆ 8.0      │\n",
       "│           ┆ e7        ┆           ┆           ┆   ┆           ┆           ┆           ┆          │\n",
       "│ max       ┆ 4.7127337 ┆ 10.240419 ┆ 6.477002  ┆ … ┆ 5.0       ┆ 5.0       ┆ 5.0       ┆ 9.0      │\n",
       "│           ┆ e7        ┆           ┆           ┆   ┆           ┆           ┆           ┆          │\n",
       "└───────────┴───────────┴───────────┴───────────┴───┴───────────┴───────────┴───────────┴──────────┘"
      ]
     },
     "metadata": {},
     "output_type": "display_data"
    }
   ],
   "source": [
    "# Function to create a title with description\n",
    "def create_title(title, description):\n",
    "    return HTML(f\"\"\"\n",
    "    <h3>{title}</h3>\n",
    "    <p><em>{description}</em></p>\n",
    "    \"\"\")\n",
    "\n",
    "display(create_title(\"The first x training rows\", \n",
    "                     \"--\"))\n",
    "display(train_first_rows)\n",
    "# Display statistics\n",
    "display(create_title(\"Statistical Summary of Training Data\", \n",
    "                     \"This table provides key statistical measures for each column in the dataset, including count, mean, standard deviation, and quartiles.\"))\n",
    "display(train_statistics)"
   ]
  },
  {
   "cell_type": "code",
   "execution_count": 16,
   "metadata": {},
   "outputs": [
    {
     "data": {
      "image/png": "[encoded data removed]",
      "text/plain": [
       "<Figure size 720x432 with 1 Axes>"
      ]
     },
     "metadata": {
      "needs_background": "light"
     },
     "output_type": "display_data"
    }
   ],
   "source": [
    "# Distribution of responder_6 (our target)\n",
    "responder_6 = train.select('responder_6').collect()\n",
    "plt.figure(figsize=(10, 6))\n",
    "sns.histplot(responder_6['responder_6'], kde=True)\n",
    "plt.title('Distribution of responder_6 (train)')\n",
    "plt.show()"
   ]
  },
  {
   "cell_type": "code",
   "execution_count": 38,
   "metadata": {},
   "outputs": [
    {
     "name": "stderr",
     "output_type": "stream",
     "text": [
      "<ipython-input-38-1c1026dd9323>:13: PerformanceWarning: Determining the column names of a LazyFrame requires resolving its schema, which is a potentially expensive operation. Use `LazyFrame.collect_schema().names()` to get the column names without this warning.\n",
      "  feature_cols = [col for col in train.columns] #if col.startswith('feature_')]\n"
     ]
    },
    {
     "name": "stdout",
     "output_type": "stream",
     "text": [
      "Starting correlation computation with target variable...\n"
     ]
    },
    {
     "name": "stderr",
     "output_type": "stream",
     "text": [
      "Computing correlations: 100%|██████████| 94/94 [00:55<00:00,  1.69it/s]\n"
     ]
    }
   ],
   "source": [
    "def get_target_correlations(lazy_df, feature_cols, target_col):\n",
    "    correlations = []\n",
    "    \n",
    "    with tqdm(total=len(feature_cols), desc=\"Computing correlations\") as pbar:\n",
    "        for feature in feature_cols:\n",
    "            corr = lazy_df.select(pl.corr(feature, target_col)).collect().item()\n",
    "            correlations.append((feature, corr))\n",
    "            pbar.update(1)\n",
    "    \n",
    "    return sorted(correlations, key=lambda x: abs(x[1]), reverse=True)\n",
    "\n",
    "# Get feature columns\n",
    "feature_cols = [col for col in train.columns]\n",
    "target_col = 'responder_6'\n",
    "\n",
    "# Compute correlations with progress bar\n",
    "print(\"Starting correlation computation with target variable...\")\n",
    "target_correlations = get_target_correlations(train, feature_cols, target_col)"
   ]
  },
  {
   "cell_type": "code",
   "execution_count": 39,
   "metadata": {},
   "outputs": [
    {
     "data": {
      "image/png": "[encoded data removed]",
      "text/plain": [
       "<Figure size 864x576 with 1 Axes>"
      ]
     },
     "metadata": {
      "needs_background": "light"
     },
     "output_type": "display_data"
    }
   ],
   "source": [
    "\n",
    "def plot_top_correlations(correlations, n=94):\n",
    "    top_n = correlations[:n]\n",
    "    features, corrs = zip(*top_n)\n",
    "    \n",
    "    plt.figure(figsize=(12, 8))\n",
    "    plt.bar(features, corrs)\n",
    "    plt.xticks(rotation=90)\n",
    "    plt.title(f'Top {n} Feature Correlations with responder_6')\n",
    "    plt.xlabel('Features')\n",
    "    plt.ylabel('Correlation Coefficient')\n",
    "    plt.tight_layout()\n",
    "    plt.show()\n",
    "\n",
    "plot_top_correlations(target_correlations)"
   ]
  },
  {
   "cell_type": "code",
   "execution_count": 19,
   "metadata": {},
   "outputs": [],
   "source": [
    "def compute_lagged_correlations(df: pl.LazyFrame, feature_cols: list, target_col: str, max_lag: int = 5) -> pl.DataFrame:\n",
    "    \"\"\"\n",
    "    Compute lagged correlations between features and target for a LazyFrame, excluding NaN correlations.\n",
    "    \n",
    "    Args:\n",
    "    df (pl.LazyFrame): Input LazyFrame\n",
    "    feature_cols (list): List of feature column names\n",
    "    target_col (str): Name of the target column\n",
    "    max_lag (int): Maximum lag to consider\n",
    "    \n",
    "    Returns:\n",
    "    pl.DataFrame: Dataframe of average correlations, correlation counts, and NaN counts\n",
    "    \"\"\"\n",
    "    correlations = []\n",
    "    \n",
    "    # Get unique date_ids\n",
    "    unique_dates = df.select(pl.col('date_id').unique()).collect().to_series().sort()\n",
    "    \n",
    "    for date_id in tqdm(unique_dates, desc=\"Processing dates\"):\n",
    "        # Filter data for the current date\n",
    "        day_data = df.filter(pl.col('date_id') == date_id)\n",
    "        \n",
    "        for feature in feature_cols:\n",
    "            for lag in range(1, max_lag + 1):\n",
    "                feature_lag_key = f\"{feature}_lag{lag}\"\n",
    "                \n",
    "                # Compute correlation between lagged feature and target\n",
    "                corr = day_data.select([\n",
    "                    pl.corr(pl.col(feature).shift(lag), pl.col(target_col)).alias('correlation')\n",
    "                ]).collect().item()\n",
    "                \n",
    "                correlations.append((feature_lag_key, date_id, corr))\n",
    "    \n",
    "    # Convert correlations to DataFrame and compute statistics\n",
    "    corr_df = pl.DataFrame(correlations, schema=['feature_lag', 'date_id', 'correlation'])\n",
    "    \n",
    "    result = (corr_df\n",
    "        .lazy()\n",
    "        .group_by('feature_lag')\n",
    "        .agg([\n",
    "            pl.col('correlation').mean().alias('avg_correlation'),\n",
    "            pl.col('correlation').count().alias('total_count'),\n",
    "            pl.col('correlation').filter(pl.col('correlation').is_not_nan()).count().alias('valid_count')\n",
    "        ])\n",
    "        .with_columns([\n",
    "            (pl.col('valid_count') / pl.col('total_count') * 100).alias('valid_percentage'),\n",
    "            (pl.col('total_count') - pl.col('valid_count')).alias('nan_count')\n",
    "        ])\n",
    "        .sort('avg_correlation', descending=True)\n",
    "        .collect()\n",
    "    )\n",
    "    \n",
    "    return result\n"
   ]
  },
  {
   "cell_type": "code",
   "execution_count": 21,
   "metadata": {},
   "outputs": [
    {
     "name": "stdout",
     "output_type": "stream",
     "text": [
      "Computing lagged correlations...\n"
     ]
    },
    {
     "name": "stderr",
     "output_type": "stream",
     "text": [
      "Processing dates:   0%|          | 6/1699 [00:12<57:33,  2.04s/it]\n"
     ]
    },
    {
     "ename": "KeyboardInterrupt",
     "evalue": "",
     "output_type": "error",
     "traceback": [
      "\u001b[1;31m---------------------------------------------------------------------------\u001b[0m",
      "\u001b[1;31mKeyboardInterrupt\u001b[0m                         Traceback (most recent call last)",
      "Cell \u001b[1;32mIn[21], line 8\u001b[0m\n\u001b[0;32m      5\u001b[0m max_lag \u001b[38;5;241m=\u001b[39m \u001b[38;5;241m5\u001b[39m\n\u001b[0;32m      7\u001b[0m \u001b[38;5;28mprint\u001b[39m(\u001b[38;5;124m\"\u001b[39m\u001b[38;5;124mComputing lagged correlations...\u001b[39m\u001b[38;5;124m\"\u001b[39m)\n\u001b[1;32m----> 8\u001b[0m lagged_correlations \u001b[38;5;241m=\u001b[39m \u001b[43mcompute_lagged_correlations\u001b[49m\u001b[43m(\u001b[49m\u001b[43mtrain\u001b[49m\u001b[43m,\u001b[49m\u001b[43m \u001b[49m\u001b[43mfeature_cols\u001b[49m\u001b[43m,\u001b[49m\u001b[43m \u001b[49m\u001b[43mtarget_col\u001b[49m\u001b[43m,\u001b[49m\u001b[43m \u001b[49m\u001b[43mmax_lag\u001b[49m\u001b[43m)\u001b[49m\n\u001b[0;32m     10\u001b[0m \u001b[38;5;66;03m# Display the results\u001b[39;00m\n\u001b[0;32m     11\u001b[0m \u001b[38;5;28mprint\u001b[39m(lagged_correlations)\n",
      "Cell \u001b[1;32mIn[19], line 30\u001b[0m, in \u001b[0;36mcompute_lagged_correlations\u001b[1;34m(df, feature_cols, target_col, max_lag)\u001b[0m\n\u001b[0;32m     25\u001b[0m             feature_lag_key \u001b[38;5;241m=\u001b[39m \u001b[38;5;124mf\u001b[39m\u001b[38;5;124m\"\u001b[39m\u001b[38;5;132;01m{\u001b[39;00mfeature\u001b[38;5;132;01m}\u001b[39;00m\u001b[38;5;124m_lag\u001b[39m\u001b[38;5;132;01m{\u001b[39;00mlag\u001b[38;5;132;01m}\u001b[39;00m\u001b[38;5;124m\"\u001b[39m\n\u001b[0;32m     27\u001b[0m             \u001b[38;5;66;03m# Compute correlation between lagged feature and target\u001b[39;00m\n\u001b[0;32m     28\u001b[0m             corr \u001b[38;5;241m=\u001b[39m \u001b[43mday_data\u001b[49m\u001b[38;5;241;43m.\u001b[39;49m\u001b[43mselect\u001b[49m\u001b[43m(\u001b[49m\u001b[43m[\u001b[49m\n\u001b[0;32m     29\u001b[0m \u001b[43m                \u001b[49m\u001b[43mpl\u001b[49m\u001b[38;5;241;43m.\u001b[39;49m\u001b[43mcorr\u001b[49m\u001b[43m(\u001b[49m\u001b[43mpl\u001b[49m\u001b[38;5;241;43m.\u001b[39;49m\u001b[43mcol\u001b[49m\u001b[43m(\u001b[49m\u001b[43mfeature\u001b[49m\u001b[43m)\u001b[49m\u001b[38;5;241;43m.\u001b[39;49m\u001b[43mshift\u001b[49m\u001b[43m(\u001b[49m\u001b[43mlag\u001b[49m\u001b[43m)\u001b[49m\u001b[43m,\u001b[49m\u001b[43m \u001b[49m\u001b[43mpl\u001b[49m\u001b[38;5;241;43m.\u001b[39;49m\u001b[43mcol\u001b[49m\u001b[43m(\u001b[49m\u001b[43mtarget_col\u001b[49m\u001b[43m)\u001b[49m\u001b[43m)\u001b[49m\u001b[38;5;241;43m.\u001b[39;49m\u001b[43malias\u001b[49m\u001b[43m(\u001b[49m\u001b[38;5;124;43m'\u001b[39;49m\u001b[38;5;124;43mcorrelation\u001b[39;49m\u001b[38;5;124;43m'\u001b[39;49m\u001b[43m)\u001b[49m\n\u001b[1;32m---> 30\u001b[0m \u001b[43m            \u001b[49m\u001b[43m]\u001b[49m\u001b[43m)\u001b[49m\u001b[38;5;241;43m.\u001b[39;49m\u001b[43mcollect\u001b[49m\u001b[43m(\u001b[49m\u001b[43m)\u001b[49m\u001b[38;5;241m.\u001b[39mitem()\n\u001b[0;32m     32\u001b[0m             correlations\u001b[38;5;241m.\u001b[39mappend((feature_lag_key, date_id, corr))\n\u001b[0;32m     34\u001b[0m \u001b[38;5;66;03m# Convert correlations to DataFrame and compute statistics\u001b[39;00m\n",
      "File \u001b[1;32mc:\\Users\\jacks\\AppData\\Local\\Programs\\Python\\Python311\\Lib\\site-packages\\polars\\lazyframe\\frame.py:2050\u001b[0m, in \u001b[0;36mLazyFrame.collect\u001b[1;34m(self, type_coercion, predicate_pushdown, projection_pushdown, simplify_expression, slice_pushdown, comm_subplan_elim, comm_subexpr_elim, cluster_with_columns, collapse_joins, no_optimization, streaming, engine, background, _eager, **_kwargs)\u001b[0m\n\u001b[0;32m   2048\u001b[0m \u001b[38;5;66;03m# Only for testing purposes\u001b[39;00m\n\u001b[0;32m   2049\u001b[0m callback \u001b[38;5;241m=\u001b[39m _kwargs\u001b[38;5;241m.\u001b[39mget(\u001b[38;5;124m\"\u001b[39m\u001b[38;5;124mpost_opt_callback\u001b[39m\u001b[38;5;124m\"\u001b[39m, callback)\n\u001b[1;32m-> 2050\u001b[0m \u001b[38;5;28;01mreturn\u001b[39;00m wrap_df(\u001b[43mldf\u001b[49m\u001b[38;5;241;43m.\u001b[39;49m\u001b[43mcollect\u001b[49m\u001b[43m(\u001b[49m\u001b[43mcallback\u001b[49m\u001b[43m)\u001b[49m)\n",
      "\u001b[1;31mKeyboardInterrupt\u001b[0m: "
     ]
    }
   ],
   "source": [
    "# Usage\n",
    "# Get feature columns without triggering the performance warning\n",
    "feature_cols = [col for col in train.collect_schema().names() if col.startswith('id')]\n",
    "target_col = 'responder_6'\n",
    "max_lag = 1\n",
    "\n",
    "print(\"Computing lagged correlations...\")\n",
    "lagged_correlations = compute_lagged_correlations(train, feature_cols, target_col, max_lag)\n",
    "\n",
    "# Display the results\n",
    "print(lagged_correlations)"
   ]
  },
  {
   "cell_type": "code",
   "execution_count": 7,
   "metadata": {},
   "outputs": [],
   "source": [
    "# Plot top correlations\n",
    "def plot_top_correlations(correlations, n=20):\n",
    "    plt.figure(figsize=(15, 10))\n",
    "    sns.barplot(x='avg_correlation', y='column_0', data=correlations.head(n))\n",
    "    plt.title(f'Top {n} Lagged Feature Correlations with responder_6')\n",
    "    plt.xlabel('Average Correlation Coefficient')\n",
    "    plt.ylabel('Feature (with lag)')\n",
    "    plt.tight_layout()\n",
    "    plt.show()"
   ]
  },
  {
   "cell_type": "code",
   "execution_count": 8,
   "metadata": {},
   "outputs": [
    {
     "ename": "NameError",
     "evalue": "name 'lagged_correlations' is not defined",
     "output_type": "error",
     "traceback": [
      "\u001b[1;31m---------------------------------------------------------------------------\u001b[0m",
      "\u001b[1;31mNameError\u001b[0m                                 Traceback (most recent call last)",
      "Cell \u001b[1;32mIn[8], line 1\u001b[0m\n\u001b[1;32m----> 1\u001b[0m plot_top_correlations(\u001b[43mlagged_correlations\u001b[49m)\n",
      "\u001b[1;31mNameError\u001b[0m: name 'lagged_correlations' is not defined"
     ]
    }
   ],
   "source": [
    "\n",
    "plot_top_correlations(lagged_correlations)"
   ]
  },
  {
   "cell_type": "code",
   "execution_count": null,
   "metadata": {},
   "outputs": [],
   "source": [
    "# Heatmap of top features across lags\n",
    "def plot_correlation_heatmap(correlations, n_features=10):\n",
    "    # Reshape data for heatmap\n",
    "    top_features = correlations['column_0'].str.split('_lag').select(pl.col('field_0')).unique().head(n_features)\n",
    "    heatmap_data = correlations.filter(pl.col('column_0').str.contains('^(' + '|'.join(top_features) + ')'))\n",
    "    heatmap_data = heatmap_data.with_columns([\n",
    "        pl.col('column_0').str.extract('(.+)_lag(\\d+)', [0, 1])\n",
    "    ]).pivot(\n",
    "        values='avg_correlation',\n",
    "        index='field_0',\n",
    "        columns='field_1'\n",
    "    ).sort('field_0')\n",
    "    \n",
    "    plt.figure(figsize=(12, 10))\n",
    "    sns.heatmap(heatmap_data, annot=True, cmap='coolwarm', center=0)\n",
    "    plt.title(f'Correlation Heatmap of Top {n_features} Features Across Lags')\n",
    "    plt.xlabel('Lag')\n",
    "    plt.ylabel('Feature')\n",
    "    plt.tight_layout()\n",
    "    plt.show()\n",
    "\n",
    "plot_correlation_heatmap(lagged_correlations)\n",
    "\n",
    "# Analysis of correlation stability\n",
    "def plot_correlation_stability(df, feature_cols, target_col, n_features=5):\n",
    "    correlations_over_time = []\n",
    "    \n",
    "    for date_id in tqdm(df['date_id'].unique().sort(), desc=\"Processing dates\"):\n",
    "        day_data = df.filter(pl.col('date_id') == date_id)\n",
    "        \n",
    "        day_correlations = day_data.select([\n",
    "            pl.corr(feature, target_col).alias(feature)\n",
    "            for feature in feature_cols\n",
    "        ])\n",
    "        \n",
    "        correlations_over_time.append(day_correlations.with_column(pl.lit(date_id).alias('date_id')))\n",
    "    \n",
    "    correlations_df = pl.concat(correlations_over_time)\n",
    "    \n",
    "    # Plot stability for top features\n",
    "    top_features = lagged_correlations.head(n_features)['column_0'].str.split('_lag').select(pl.col('field_0'))\n",
    "    \n",
    "    plt.figure(figsize=(15, 10))\n",
    "    for feature in top_features:\n",
    "        plt.plot(correlations_df['date_id'], correlations_df[feature], label=feature)\n",
    "    \n",
    "    plt.title(f'Correlation Stability of Top {n_features} Features Over Time')\n",
    "    plt.xlabel('Date ID')\n",
    "    plt.ylabel('Correlation Coefficient')\n",
    "    plt.legend()\n",
    "    plt.tight_layout()\n",
    "    plt.show()\n",
    "\n",
    "plot_correlation_stability(train_sample, feature_cols, target_col)"
   ]
  },
  {
   "cell_type": "code",
   "execution_count": null,
   "metadata": {},
   "outputs": [],
   "source": [
    "# Time series plot of responder_6 for a single symbol_id\n",
    "symbol_data = train.filter(pl.col('symbol_id') == train.select('symbol_id').first().collect().item()).collect()"
   ]
  },
  {
   "cell_type": "code",
   "execution_count": null,
   "metadata": {},
   "outputs": [],
   "source": [
    "plt.figure(figsize=(15, 6))\n",
    "plt.plot(symbol_data['date_id'], symbol_data['responder_6'])\n",
    "plt.title(f'responder_6 over time for symbol_id {symbol_data[\"symbol_id\"][0]}')\n",
    "plt.xlabel('date_id')\n",
    "plt.ylabel('responder_6')\n",
    "plt.show()"
   ]
  }
 ],
 "metadata": {
  "kernelspec": {
   "display_name": "Python 3",
   "language": "python",
   "name": "python3"
  },
  "language_info": {
   "codemirror_mode": {
    "name": "ipython",
    "version": 3
   },
   "file_extension": ".py",
   "mimetype": "text/x-python",
   "name": "python",
   "nbconvert_exporter": "python",
   "pygments_lexer": "ipython3",
   "version": "3.11.4"
  }
 },
 "nbformat": 4,
 "nbformat_minor": 2
}
