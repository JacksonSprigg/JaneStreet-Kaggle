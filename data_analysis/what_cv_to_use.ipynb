{
 "cells": [
  {
   "cell_type": "code",
   "execution_count": 2,
   "metadata": {},
   "outputs": [],
   "source": [
    "import os\n",
    "import sys\n",
    "import lightgbm as lgb\n",
    "import polars as pl\n",
    "import pandas as pd\n",
    "import numpy as np\n",
    "from tqdm import tqdm\n",
    "import matplotlib.pyplot as plt\n",
    "import seaborn as sns\n",
    "\n",
    "# Setup paths\n",
    "NOTEBOOK_DIR = os.getcwd()  # data_analysis\n",
    "PROJ_DIR = os.path.dirname(NOTEBOOK_DIR)  # main project folder\n",
    "MODEL_DIR = os.path.join(PROJ_DIR, \"training\", \"trained_models\")\n",
    "DATA_DIR = os.path.join(PROJ_DIR, \"jane-street-real-time-market-data-forecasting\")\n",
    "\n",
    "# Add training source to path for imports\n",
    "sys.path.append(os.path.join(PROJ_DIR, \"training\"))\n",
    "sys.path.append(os.path.join(PROJ_DIR, \"training\", \"src\"))\n",
    "sys.path.append(os.path.join(PROJ_DIR, \"training\", \"src\", \"utils\"))\n",
    "\n",
    "# Import our utility functions\n",
    "from src.data_loading import DataLoader\n",
    "from src.utils.metrics import r2_score_weighted"
   ]
  },
  {
   "cell_type": "code",
   "execution_count": 3,
   "metadata": {},
   "outputs": [
    {
     "name": "stdout",
     "output_type": "stream",
     "text": [
      "\n",
      "📊 Analyzing column structure...\n",
      "Found 79 features and 12 columns to exclude\n",
      "Loading full dataset...\n",
      "\n",
      "🔍 Processing null values...\n"
     ]
    },
    {
     "name": "stderr",
     "output_type": "stream",
     "text": [
      "Creating null flags:   3%|▎         | 2/79 [00:00<00:15,  4.91it/s]"
     ]
    },
    {
     "name": "stdout",
     "output_type": "stream",
     "text": [
      "  feature_00: 3,182,052 nulls (6.75%)\n",
      "  feature_01: 3,182,052 nulls (6.75%)\n"
     ]
    },
    {
     "name": "stderr",
     "output_type": "stream",
     "text": [
      "Creating null flags:   5%|▌         | 4/79 [00:00<00:11,  6.75it/s]"
     ]
    },
    {
     "name": "stdout",
     "output_type": "stream",
     "text": [
      "  feature_02: 3,182,052 nulls (6.75%)\n",
      "  feature_03: 3,182,052 nulls (6.75%)\n"
     ]
    },
    {
     "name": "stderr",
     "output_type": "stream",
     "text": [
      "Creating null flags:   8%|▊         | 6/79 [00:00<00:09,  7.72it/s]"
     ]
    },
    {
     "name": "stdout",
     "output_type": "stream",
     "text": [
      "  feature_04: 3,182,052 nulls (6.75%)\n"
     ]
    },
    {
     "name": "stderr",
     "output_type": "stream",
     "text": [
      "Creating null flags:  14%|█▍        | 11/79 [00:01<00:07,  9.35it/s]"
     ]
    },
    {
     "name": "stdout",
     "output_type": "stream",
     "text": [
      "  feature_08: 300,247 nulls (0.64%)\n"
     ]
    },
    {
     "name": "stderr",
     "output_type": "stream",
     "text": [
      "Creating null flags:  22%|██▏       | 17/79 [00:02<00:07,  8.67it/s]"
     ]
    },
    {
     "name": "stdout",
     "output_type": "stream",
     "text": [
      "  feature_15: 1,209,299 nulls (2.57%)\n",
      "  feature_16: 261 nulls (0.00%)\n"
     ]
    },
    {
     "name": "stderr",
     "output_type": "stream",
     "text": [
      "Creating null flags:  24%|██▍       | 19/79 [00:02<00:07,  8.17it/s]"
     ]
    },
    {
     "name": "stdout",
     "output_type": "stream",
     "text": [
      "  feature_17: 201,838 nulls (0.43%)\n",
      "  feature_18: 226 nulls (0.00%)\n"
     ]
    },
    {
     "name": "stderr",
     "output_type": "stream",
     "text": [
      "Creating null flags:  27%|██▋       | 21/79 [00:02<00:07,  8.18it/s]"
     ]
    },
    {
     "name": "stdout",
     "output_type": "stream",
     "text": [
      "  feature_19: 226 nulls (0.00%)\n"
     ]
    },
    {
     "name": "stderr",
     "output_type": "stream",
     "text": [
      "Creating null flags:  29%|██▉       | 23/79 [00:02<00:06,  8.42it/s]"
     ]
    },
    {
     "name": "stdout",
     "output_type": "stream",
     "text": [
      "  feature_21: 8,435,985 nulls (17.90%)\n"
     ]
    },
    {
     "name": "stderr",
     "output_type": "stream",
     "text": [
      "Creating null flags:  35%|███▌      | 28/79 [00:03<00:06,  8.15it/s]"
     ]
    },
    {
     "name": "stdout",
     "output_type": "stream",
     "text": [
      "  feature_26: 8,435,985 nulls (17.90%)\n",
      "  feature_27: 8,435,985 nulls (17.90%)\n"
     ]
    },
    {
     "name": "stderr",
     "output_type": "stream",
     "text": [
      "Creating null flags:  42%|████▏     | 33/79 [00:04<00:05,  8.24it/s]"
     ]
    },
    {
     "name": "stdout",
     "output_type": "stream",
     "text": [
      "  feature_31: 8,435,985 nulls (17.90%)\n",
      "  feature_32: 478,457 nulls (1.02%)\n"
     ]
    },
    {
     "name": "stderr",
     "output_type": "stream",
     "text": [
      "Creating null flags:  44%|████▍     | 35/79 [00:04<00:05,  7.98it/s]"
     ]
    },
    {
     "name": "stdout",
     "output_type": "stream",
     "text": [
      "  feature_33: 478,457 nulls (1.02%)\n"
     ]
    },
    {
     "name": "stderr",
     "output_type": "stream",
     "text": [
      "Creating null flags:  49%|████▉     | 39/79 [00:04<00:04,  8.01it/s]"
     ]
    },
    {
     "name": "stdout",
     "output_type": "stream",
     "text": [
      "  feature_37: 849 nulls (0.00%)\n"
     ]
    },
    {
     "name": "stderr",
     "output_type": "stream",
     "text": [
      "Creating null flags:  52%|█████▏    | 41/79 [00:05<00:04,  8.35it/s]"
     ]
    },
    {
     "name": "stdout",
     "output_type": "stream",
     "text": [
      "  feature_39: 4,300,649 nulls (9.13%)\n",
      "  feature_40: 67,856 nulls (0.14%)\n"
     ]
    },
    {
     "name": "stderr",
     "output_type": "stream",
     "text": [
      "Creating null flags:  54%|█████▍    | 43/79 [00:05<00:04,  8.22it/s]"
     ]
    },
    {
     "name": "stdout",
     "output_type": "stream",
     "text": [
      "  feature_41: 1,093,012 nulls (2.32%)\n",
      "  feature_42: 4,300,649 nulls (9.13%)\n"
     ]
    },
    {
     "name": "stderr",
     "output_type": "stream",
     "text": [
      "Creating null flags:  57%|█████▋    | 45/79 [00:05<00:04,  8.17it/s]"
     ]
    },
    {
     "name": "stdout",
     "output_type": "stream",
     "text": [
      "  feature_43: 67,856 nulls (0.14%)\n",
      "  feature_44: 1,093,012 nulls (2.32%)\n"
     ]
    },
    {
     "name": "stderr",
     "output_type": "stream",
     "text": [
      "Creating null flags:  59%|█████▉    | 47/79 [00:05<00:04,  7.95it/s]"
     ]
    },
    {
     "name": "stdout",
     "output_type": "stream",
     "text": [
      "  feature_45: 317,163 nulls (0.67%)\n",
      "  feature_46: 317,163 nulls (0.67%)\n"
     ]
    },
    {
     "name": "stderr",
     "output_type": "stream",
     "text": [
      "Creating null flags:  62%|██████▏   | 49/79 [00:06<00:03,  7.84it/s]"
     ]
    },
    {
     "name": "stdout",
     "output_type": "stream",
     "text": [
      "  feature_47: 87 nulls (0.00%)\n"
     ]
    },
    {
     "name": "stderr",
     "output_type": "stream",
     "text": [
      "Creating null flags:  66%|██████▌   | 52/79 [00:06<00:03,  8.24it/s]"
     ]
    },
    {
     "name": "stdout",
     "output_type": "stream",
     "text": [
      "  feature_50: 4,254,098 nulls (9.03%)\n",
      "  feature_51: 13,805 nulls (0.03%)\n"
     ]
    },
    {
     "name": "stderr",
     "output_type": "stream",
     "text": [
      "Creating null flags:  68%|██████▊   | 54/79 [00:06<00:03,  8.22it/s]"
     ]
    },
    {
     "name": "stdout",
     "output_type": "stream",
     "text": [
      "  feature_52: 1,044,898 nulls (2.22%)\n",
      "  feature_53: 4,254,098 nulls (9.03%)\n"
     ]
    },
    {
     "name": "stderr",
     "output_type": "stream",
     "text": [
      "Creating null flags:  71%|███████   | 56/79 [00:06<00:02,  8.16it/s]"
     ]
    },
    {
     "name": "stdout",
     "output_type": "stream",
     "text": [
      "  feature_54: 13,805 nulls (0.03%)\n",
      "  feature_55: 1,044,898 nulls (2.22%)\n"
     ]
    },
    {
     "name": "stderr",
     "output_type": "stream",
     "text": [
      "Creating null flags:  73%|███████▎  | 58/79 [00:07<00:02,  8.46it/s]"
     ]
    },
    {
     "name": "stdout",
     "output_type": "stream",
     "text": [
      "  feature_56: 226 nulls (0.00%)\n",
      "  feature_57: 226 nulls (0.00%)\n"
     ]
    },
    {
     "name": "stderr",
     "output_type": "stream",
     "text": [
      "Creating null flags:  76%|███████▌  | 60/79 [00:07<00:02,  8.09it/s]"
     ]
    },
    {
     "name": "stdout",
     "output_type": "stream",
     "text": [
      "  feature_58: 478,452 nulls (1.02%)\n"
     ]
    },
    {
     "name": "stderr",
     "output_type": "stream",
     "text": [
      "Creating null flags:  81%|████████  | 64/79 [00:07<00:01,  8.13it/s]"
     ]
    },
    {
     "name": "stdout",
     "output_type": "stream",
     "text": [
      "  feature_62: 292,827 nulls (0.62%)\n",
      "  feature_63: 227,566 nulls (0.48%)\n"
     ]
    },
    {
     "name": "stderr",
     "output_type": "stream",
     "text": [
      "Creating null flags:  84%|████████▎ | 66/79 [00:08<00:01,  7.91it/s]"
     ]
    },
    {
     "name": "stdout",
     "output_type": "stream",
     "text": [
      "  feature_64: 237,663 nulls (0.50%)\n",
      "  feature_65: 317,163 nulls (0.67%)\n"
     ]
    },
    {
     "name": "stderr",
     "output_type": "stream",
     "text": [
      "Creating null flags:  86%|████████▌ | 68/79 [00:08<00:01,  7.87it/s]"
     ]
    },
    {
     "name": "stdout",
     "output_type": "stream",
     "text": [
      "  feature_66: 317,163 nulls (0.67%)\n"
     ]
    },
    {
     "name": "stderr",
     "output_type": "stream",
     "text": [
      "Creating null flags:  95%|█████████▍| 75/79 [00:09<00:00,  7.84it/s]"
     ]
    },
    {
     "name": "stdout",
     "output_type": "stream",
     "text": [
      "  feature_73: 483,759 nulls (1.03%)\n",
      "  feature_74: 483,759 nulls (1.03%)\n"
     ]
    },
    {
     "name": "stderr",
     "output_type": "stream",
     "text": [
      "Creating null flags:  97%|█████████▋| 77/79 [00:09<00:00,  8.05it/s]"
     ]
    },
    {
     "name": "stdout",
     "output_type": "stream",
     "text": [
      "  feature_75: 58,430 nulls (0.12%)\n",
      "  feature_76: 58,430 nulls (0.12%)\n"
     ]
    },
    {
     "name": "stderr",
     "output_type": "stream",
     "text": [
      "Creating null flags: 100%|██████████| 79/79 [00:09<00:00,  8.07it/s]"
     ]
    },
    {
     "name": "stdout",
     "output_type": "stream",
     "text": [
      "  feature_77: 20,043 nulls (0.04%)\n",
      "  feature_78: 20,043 nulls (0.04%)\n",
      "\n",
      "📈 Forward filling values within symbol groups...\n"
     ]
    },
    {
     "name": "stderr",
     "output_type": "stream",
     "text": [
      "\n"
     ]
    },
    {
     "name": "stdout",
     "output_type": "stream",
     "text": [
      "Forward fill completed in 123.10 seconds\n",
      "\n",
      "⚠️ Backward filling remaining nulls (first rows)...\n",
      "Backward fill completed in 121.26 seconds\n",
      "\n",
      "Dataset shape: (47127338, 172)\n",
      "Date range: 0 to 1698\n"
     ]
    }
   ],
   "source": [
    "# Initialize data loader and get columns\n",
    "data_loader = DataLoader(DATA_DIR)\n",
    "feature_cols, exclude_cols = data_loader.get_feature_columns(\n",
    "    pl.scan_parquet(os.path.join(DATA_DIR, \"train.parquet\"))\n",
    ")\n",
    "\n",
    "# Load and preprocess full dataset\n",
    "print(\"Loading full dataset...\")\n",
    "train_df = pl.scan_parquet(os.path.join(DATA_DIR, \"train.parquet\")).collect().to_pandas()\n",
    "train_df = data_loader.handle_nulls(train_df, feature_cols)\n",
    "\n",
    "print(f\"\\nDataset shape: {train_df.shape}\")\n",
    "print(f\"Date range: {train_df['date_id'].min()} to {train_df['date_id'].max()}\")"
   ]
  },
  {
   "cell_type": "code",
   "execution_count": 14,
   "metadata": {},
   "outputs": [],
   "source": [
    "# Model settings and setup\n",
    "models = {\n",
    "    #'Day240': \"model_iter_970_valr2_0.012957280530144666.txt\",\n",
    "    #'Day50': \"model_iter_472_valr2_0.007525290004666063.txt\",\n",
    "    #'Day500Val20': \"model_iter_681_valr2_0.0076366825565921115.txt\",\n",
    "    '-750Val20': \"model_iter_891_valr2_0.008637235153353351.txt\"\n",
    "    #'4':\"model_iter_667_valr2_0.007462378707644102.txt\"\n",
    "}\n",
    "\n",
    "\n",
    "\n",
    "def setup_prediction(model_name):\n",
    "    \"\"\"Load and setup model for prediction\"\"\"\n",
    "    model_path = os.path.join(MODEL_DIR, model_name)\n",
    "    return lgb.Booster(model_file=model_path)\n",
    "\n",
    "# Load all models\n",
    "loaded_models = {name: setup_prediction(filename) \n",
    "                for name, filename in models.items()}"
   ]
  },
  {
   "cell_type": "code",
   "execution_count": 15,
   "metadata": {},
   "outputs": [
    {
     "name": "stdout",
     "output_type": "stream",
     "text": [
      "\n",
      "Testing different validation windows...\n"
     ]
    },
    {
     "name": "stderr",
     "output_type": "stream",
     "text": [
      "Testing -750Val20: 100%|██████████| 6/6 [02:24<00:00, 24.05s/it]\n"
     ]
    }
   ],
   "source": [
    "# Define validation window sizes to test (in days)\n",
    "val_windows = [5, 10, 12, 15, 17, 20] #, 30, 50, 100, 120, 180, 240]\n",
    "\n",
    "# Store results\n",
    "results = []\n",
    "\n",
    "# Get feature columns for model\n",
    "model_cols = [col for col in train_df.columns \n",
    "             if col not in exclude_cols and col != 'responder_6']\n",
    "\n",
    "# Calculate scores for each window size and model\n",
    "print(\"\\nTesting different validation windows...\")\n",
    "for model_name, model in loaded_models.items():\n",
    "    for window in tqdm(val_windows, desc=f\"Testing {model_name}\"):\n",
    "        # Get the validation set\n",
    "        val_start_date = train_df['date_id'].max() - window\n",
    "        val_mask = train_df['date_id'] >= val_start_date\n",
    "        \n",
    "        # Split data\n",
    "        X_val = train_df[model_cols].loc[val_mask].to_numpy()\n",
    "        y_val = train_df['responder_6'].loc[val_mask].to_numpy()\n",
    "        w_val = train_df['weight'].loc[val_mask].to_numpy()\n",
    "        \n",
    "        # Get predictions\n",
    "        y_pred = model.predict(X_val)\n",
    "        \n",
    "        # Calculate score\n",
    "        score = r2_score_weighted(y_val, y_pred, w_val)\n",
    "        \n",
    "        results.append({\n",
    "            'model': model_name,\n",
    "            'window_size': window,\n",
    "            'score': score,\n",
    "            'n_samples': len(y_val)\n",
    "        })"
   ]
  },
  {
   "cell_type": "code",
   "execution_count": 17,
   "metadata": {},
   "outputs": [
    {
     "data": {
      "image/png": "[encoded data removed]",
      "text/plain": [
       "<Figure size 1200x600 with 1 Axes>"
      ]
     },
     "metadata": {},
     "output_type": "display_data"
    },
    {
     "name": "stdout",
     "output_type": "stream",
     "text": [
      "\n",
      "Detailed Results:\n",
      "model        -750Val20\n",
      "window_size           \n",
      "5             0.007215\n",
      "10            0.007087\n",
      "12            0.007468\n",
      "15            0.007507\n",
      "17            0.009026\n",
      "20            0.008637\n"
     ]
    }
   ],
   "source": [
    "# Convert results to DataFrame\n",
    "results_df = pd.DataFrame(results)\n",
    "\n",
    "# Plot results\n",
    "plt.figure(figsize=(12, 6))\n",
    "sns.lineplot(data=results_df, x='window_size', y='score', hue='model', marker='o')\n",
    "plt.title('Model Performance vs Validation Window Size')\n",
    "plt.xlabel('Validation Window (days)')\n",
    "plt.ylabel('Weighted R² Score')\n",
    "plt.grid(True, alpha=0.3)\n",
    "plt.legend(title='Model', bbox_to_anchor=(1.05, 1), loc='upper left')\n",
    "plt.tight_layout()\n",
    "plt.show()\n",
    "\n",
    "# Print detailed results\n",
    "print(\"\\nDetailed Results:\")\n",
    "pivot_df = results_df.pivot(index='window_size', columns='model', values='score')\n",
    "print(pivot_df.round(6).to_string())"
   ]
  },
  {
   "cell_type": "code",
   "execution_count": 18,
   "metadata": {},
   "outputs": [
    {
     "name": "stdout",
     "output_type": "stream",
     "text": [
      "\n",
      "Window Size Correlations with LB scores (sorted by absolute correlation):\n",
      "Window size 20: 0.7354\n",
      "Window size 17: 0.6757\n",
      "Window size 5: 0.5615\n",
      "Window size 15: 0.5307\n",
      "Window size 12: 0.3917\n",
      "Window size 10: 0.2366\n"
     ]
    }
   ],
   "source": [
    "import pandas as pd\n",
    "import numpy as np\n",
    "\n",
    "# Create dataframe from the results\n",
    "window_sizes = [5, 10, 12, 15, 17, 20]\n",
    "results = {\n",
    "    'window_size': window_sizes,\n",
    "    'Day120': [0.005530, 0.005648, 0.005478, 0.005652, 0.007101, 0.006685],\n",
    "    'Day240': [0.005827, 0.006291, 0.006288, 0.006119, 0.007201, 0.006599],\n",
    "    'Day50': [0.005682, 0.006246, 0.006285, 0.006237, 0.007608, 0.007182],\n",
    "    'Day500Val20': [0.006283, 0.006215, 0.006387, 0.006474, 0.008001, 0.007637],\n",
    "    'model4': [0.005718, 0.006379, 0.006341, 0.006271, 0.007712, 0.007212],\n",
    "    '-750Val20': [0.007215, 0.007087, 0.007468, 0.007507, 0.009026, 0.008637]\n",
    "}\n",
    "\n",
    "# LB scores for each model\n",
    "lb_scores = {\n",
    "    'Day240': 0.0039,\n",
    "    'Day50': 0.0043,\n",
    "    'Day500Val20': 0.0047,\n",
    "    'model4': 0.0042,\n",
    "    '-750Val20': 0.0045\n",
    "}\n",
    "\n",
    "# Calculate correlation for each window size\n",
    "window_correlations = {}\n",
    "for window_idx, window_size in enumerate(window_sizes):\n",
    "    # Get all validation scores for this window size\n",
    "    validation_scores = []\n",
    "    lb_scores_list = []\n",
    "    \n",
    "    for model, lb_score in lb_scores.items():\n",
    "        model_name = 'Day500Val20' if model == 'Day500Val20' else model\n",
    "        validation_scores.append(results[model_name][window_idx])\n",
    "        lb_scores_list.append(lb_score)\n",
    "    \n",
    "    correlation = np.corrcoef(validation_scores, lb_scores_list)[0,1]\n",
    "    window_correlations[window_size] = correlation\n",
    "\n",
    "# Print correlations sorted by value\n",
    "sorted_correlations = sorted(window_correlations.items(), key=lambda x: abs(x[1]), reverse=True)\n",
    "print(\"\\nWindow Size Correlations with LB scores (sorted by absolute correlation):\")\n",
    "for window_size, correlation in sorted_correlations:\n",
    "    print(f\"Window size {window_size}: {correlation:.4f}\")"
   ]
  },
  {
   "cell_type": "code",
   "execution_count": null,
   "metadata": {},
   "outputs": [],
   "source": []
  }
 ],
 "metadata": {
  "kernelspec": {
   "display_name": "simxrd_env",
   "language": "python",
   "name": "python3"
  },
  "language_info": {
   "codemirror_mode": {
    "name": "ipython",
    "version": 3
   },
   "file_extension": ".py",
   "mimetype": "text/x-python",
   "name": "python",
   "nbconvert_exporter": "python",
   "pygments_lexer": "ipython3",
   "version": "3.10.14"
  }
 },
 "nbformat": 4,
 "nbformat_minor": 2
}
