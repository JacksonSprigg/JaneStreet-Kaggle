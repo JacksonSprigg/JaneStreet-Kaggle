{
 "cells": [
  {
   "cell_type": "code",
   "execution_count": 1,
   "metadata": {},
   "outputs": [],
   "source": [
    "import os\n",
    "import sys\n",
    "import lightgbm as lgb\n",
    "import polars as pl\n",
    "import pandas as pd\n",
    "import numpy as np\n",
    "from tqdm import tqdm\n",
    "import matplotlib.pyplot as plt\n",
    "import seaborn as sns\n",
    "\n",
    "# Setup paths\n",
    "NOTEBOOK_DIR = os.getcwd()  # data_analysis\n",
    "PROJ_DIR = os.path.dirname(NOTEBOOK_DIR)  # main project folder\n",
    "MODEL_DIR = os.path.join(PROJ_DIR, \"training\", \"trained_models\")\n",
    "DATA_DIR = os.path.join(PROJ_DIR, \"jane-street-real-time-market-data-forecasting\")\n",
    "\n",
    "# Add training source to path for imports\n",
    "sys.path.append(os.path.join(PROJ_DIR, \"training\"))\n",
    "sys.path.append(os.path.join(PROJ_DIR, \"training\", \"src\"))\n",
    "sys.path.append(os.path.join(PROJ_DIR, \"training\", \"src\", \"utils\"))\n",
    "\n",
    "# Import our utility functions\n",
    "from src.data_loading import DataLoader\n",
    "from src.utils.metrics import r2_score_weighted"
   ]
  },
  {
   "cell_type": "code",
   "execution_count": 3,
   "metadata": {},
   "outputs": [
    {
     "name": "stdout",
     "output_type": "stream",
     "text": [
      "\n",
      "📊 Analyzing column structure...\n",
      "Found 79 features and 12 columns to exclude\n",
      "Loading full dataset...\n",
      "\n",
      "🔍 Processing null values...\n"
     ]
    },
    {
     "name": "stderr",
     "output_type": "stream",
     "text": [
      "Creating null flags:   3%|▎         | 2/79 [00:00<00:14,  5.14it/s]"
     ]
    },
    {
     "name": "stdout",
     "output_type": "stream",
     "text": [
      "  feature_00: 3,182,052 nulls (6.75%)\n",
      "  feature_01: 3,182,052 nulls (6.75%)\n"
     ]
    },
    {
     "name": "stderr",
     "output_type": "stream",
     "text": [
      "Creating null flags:   5%|▌         | 4/79 [00:00<00:11,  6.62it/s]"
     ]
    },
    {
     "name": "stdout",
     "output_type": "stream",
     "text": [
      "  feature_02: 3,182,052 nulls (6.75%)\n",
      "  feature_03: 3,182,052 nulls (6.75%)\n"
     ]
    },
    {
     "name": "stderr",
     "output_type": "stream",
     "text": [
      "Creating null flags:   8%|▊         | 6/79 [00:00<00:10,  7.29it/s]"
     ]
    },
    {
     "name": "stdout",
     "output_type": "stream",
     "text": [
      "  feature_04: 3,182,052 nulls (6.75%)\n"
     ]
    },
    {
     "name": "stderr",
     "output_type": "stream",
     "text": [
      "Creating null flags:  14%|█▍        | 11/79 [00:01<00:07,  9.58it/s]"
     ]
    },
    {
     "name": "stdout",
     "output_type": "stream",
     "text": [
      "  feature_08: 300,247 nulls (0.64%)\n"
     ]
    },
    {
     "name": "stderr",
     "output_type": "stream",
     "text": [
      "Creating null flags:  22%|██▏       | 17/79 [00:02<00:07,  8.44it/s]"
     ]
    },
    {
     "name": "stdout",
     "output_type": "stream",
     "text": [
      "  feature_15: 1,209,299 nulls (2.57%)\n",
      "  feature_16: 261 nulls (0.00%)\n"
     ]
    },
    {
     "name": "stderr",
     "output_type": "stream",
     "text": [
      "Creating null flags:  24%|██▍       | 19/79 [00:02<00:07,  8.27it/s]"
     ]
    },
    {
     "name": "stdout",
     "output_type": "stream",
     "text": [
      "  feature_17: 201,838 nulls (0.43%)\n",
      "  feature_18: 226 nulls (0.00%)\n"
     ]
    },
    {
     "name": "stderr",
     "output_type": "stream",
     "text": [
      "Creating null flags:  27%|██▋       | 21/79 [00:02<00:07,  8.23it/s]"
     ]
    },
    {
     "name": "stdout",
     "output_type": "stream",
     "text": [
      "  feature_19: 226 nulls (0.00%)\n"
     ]
    },
    {
     "name": "stderr",
     "output_type": "stream",
     "text": [
      "Creating null flags:  29%|██▉       | 23/79 [00:02<00:06,  8.43it/s]"
     ]
    },
    {
     "name": "stdout",
     "output_type": "stream",
     "text": [
      "  feature_21: 8,435,985 nulls (17.90%)\n"
     ]
    },
    {
     "name": "stderr",
     "output_type": "stream",
     "text": [
      "Creating null flags:  35%|███▌      | 28/79 [00:03<00:06,  7.84it/s]"
     ]
    },
    {
     "name": "stdout",
     "output_type": "stream",
     "text": [
      "  feature_26: 8,435,985 nulls (17.90%)\n",
      "  feature_27: 8,435,985 nulls (17.90%)\n"
     ]
    },
    {
     "name": "stderr",
     "output_type": "stream",
     "text": [
      "Creating null flags:  42%|████▏     | 33/79 [00:04<00:06,  7.65it/s]"
     ]
    },
    {
     "name": "stdout",
     "output_type": "stream",
     "text": [
      "  feature_31: 8,435,985 nulls (17.90%)\n",
      "  feature_32: 478,457 nulls (1.02%)\n"
     ]
    },
    {
     "name": "stderr",
     "output_type": "stream",
     "text": [
      "Creating null flags:  44%|████▍     | 35/79 [00:04<00:05,  8.09it/s]"
     ]
    },
    {
     "name": "stdout",
     "output_type": "stream",
     "text": [
      "  feature_33: 478,457 nulls (1.02%)\n"
     ]
    },
    {
     "name": "stderr",
     "output_type": "stream",
     "text": [
      "Creating null flags:  49%|████▉     | 39/79 [00:04<00:04,  8.44it/s]"
     ]
    },
    {
     "name": "stdout",
     "output_type": "stream",
     "text": [
      "  feature_37: 849 nulls (0.00%)\n"
     ]
    },
    {
     "name": "stderr",
     "output_type": "stream",
     "text": [
      "Creating null flags:  52%|█████▏    | 41/79 [00:05<00:04,  8.51it/s]"
     ]
    },
    {
     "name": "stdout",
     "output_type": "stream",
     "text": [
      "  feature_39: 4,300,649 nulls (9.13%)\n",
      "  feature_40: 67,856 nulls (0.14%)\n"
     ]
    },
    {
     "name": "stderr",
     "output_type": "stream",
     "text": [
      "Creating null flags:  54%|█████▍    | 43/79 [00:05<00:04,  8.05it/s]"
     ]
    },
    {
     "name": "stdout",
     "output_type": "stream",
     "text": [
      "  feature_41: 1,093,012 nulls (2.32%)\n",
      "  feature_42: 4,300,649 nulls (9.13%)\n"
     ]
    },
    {
     "name": "stderr",
     "output_type": "stream",
     "text": [
      "Creating null flags:  57%|█████▋    | 45/79 [00:05<00:04,  8.04it/s]"
     ]
    },
    {
     "name": "stdout",
     "output_type": "stream",
     "text": [
      "  feature_43: 67,856 nulls (0.14%)\n",
      "  feature_44: 1,093,012 nulls (2.32%)\n"
     ]
    },
    {
     "name": "stderr",
     "output_type": "stream",
     "text": [
      "Creating null flags:  59%|█████▉    | 47/79 [00:05<00:03,  8.12it/s]"
     ]
    },
    {
     "name": "stdout",
     "output_type": "stream",
     "text": [
      "  feature_45: 317,163 nulls (0.67%)\n",
      "  feature_46: 317,163 nulls (0.67%)\n"
     ]
    },
    {
     "name": "stderr",
     "output_type": "stream",
     "text": [
      "Creating null flags:  62%|██████▏   | 49/79 [00:06<00:03,  7.85it/s]"
     ]
    },
    {
     "name": "stdout",
     "output_type": "stream",
     "text": [
      "  feature_47: 87 nulls (0.00%)\n"
     ]
    },
    {
     "name": "stderr",
     "output_type": "stream",
     "text": [
      "Creating null flags:  66%|██████▌   | 52/79 [00:06<00:03,  7.69it/s]"
     ]
    },
    {
     "name": "stdout",
     "output_type": "stream",
     "text": [
      "  feature_50: 4,254,098 nulls (9.03%)\n",
      "  feature_51: 13,805 nulls (0.03%)\n"
     ]
    },
    {
     "name": "stderr",
     "output_type": "stream",
     "text": [
      "Creating null flags:  68%|██████▊   | 54/79 [00:06<00:03,  7.89it/s]"
     ]
    },
    {
     "name": "stdout",
     "output_type": "stream",
     "text": [
      "  feature_52: 1,044,898 nulls (2.22%)\n",
      "  feature_53: 4,254,098 nulls (9.03%)\n"
     ]
    },
    {
     "name": "stderr",
     "output_type": "stream",
     "text": [
      "Creating null flags:  71%|███████   | 56/79 [00:06<00:02,  8.23it/s]"
     ]
    },
    {
     "name": "stdout",
     "output_type": "stream",
     "text": [
      "  feature_54: 13,805 nulls (0.03%)\n",
      "  feature_55: 1,044,898 nulls (2.22%)\n"
     ]
    },
    {
     "name": "stderr",
     "output_type": "stream",
     "text": [
      "Creating null flags:  73%|███████▎  | 58/79 [00:07<00:02,  8.10it/s]"
     ]
    },
    {
     "name": "stdout",
     "output_type": "stream",
     "text": [
      "  feature_56: 226 nulls (0.00%)\n",
      "  feature_57: 226 nulls (0.00%)\n"
     ]
    },
    {
     "name": "stderr",
     "output_type": "stream",
     "text": [
      "Creating null flags:  76%|███████▌  | 60/79 [00:07<00:02,  8.34it/s]"
     ]
    },
    {
     "name": "stdout",
     "output_type": "stream",
     "text": [
      "  feature_58: 478,452 nulls (1.02%)\n"
     ]
    },
    {
     "name": "stderr",
     "output_type": "stream",
     "text": [
      "Creating null flags:  81%|████████  | 64/79 [00:08<00:01,  7.78it/s]"
     ]
    },
    {
     "name": "stdout",
     "output_type": "stream",
     "text": [
      "  feature_62: 292,827 nulls (0.62%)\n",
      "  feature_63: 227,566 nulls (0.48%)\n"
     ]
    },
    {
     "name": "stderr",
     "output_type": "stream",
     "text": [
      "Creating null flags:  84%|████████▎ | 66/79 [00:08<00:01,  7.69it/s]"
     ]
    },
    {
     "name": "stdout",
     "output_type": "stream",
     "text": [
      "  feature_64: 237,663 nulls (0.50%)\n",
      "  feature_65: 317,163 nulls (0.67%)\n"
     ]
    },
    {
     "name": "stderr",
     "output_type": "stream",
     "text": [
      "Creating null flags:  86%|████████▌ | 68/79 [00:08<00:01,  8.12it/s]"
     ]
    },
    {
     "name": "stdout",
     "output_type": "stream",
     "text": [
      "  feature_66: 317,163 nulls (0.67%)\n"
     ]
    },
    {
     "name": "stderr",
     "output_type": "stream",
     "text": [
      "Creating null flags:  95%|█████████▍| 75/79 [00:09<00:00,  8.14it/s]"
     ]
    },
    {
     "name": "stdout",
     "output_type": "stream",
     "text": [
      "  feature_73: 483,759 nulls (1.03%)\n",
      "  feature_74: 483,759 nulls (1.03%)\n"
     ]
    },
    {
     "name": "stderr",
     "output_type": "stream",
     "text": [
      "Creating null flags:  97%|█████████▋| 77/79 [00:09<00:00,  7.23it/s]"
     ]
    },
    {
     "name": "stdout",
     "output_type": "stream",
     "text": [
      "  feature_75: 58,430 nulls (0.12%)\n",
      "  feature_76: 58,430 nulls (0.12%)\n"
     ]
    },
    {
     "name": "stderr",
     "output_type": "stream",
     "text": [
      "Creating null flags: 100%|██████████| 79/79 [00:09<00:00,  7.93it/s]"
     ]
    },
    {
     "name": "stdout",
     "output_type": "stream",
     "text": [
      "  feature_77: 20,043 nulls (0.04%)\n",
      "  feature_78: 20,043 nulls (0.04%)\n",
      "\n",
      "📈 Forward filling values within symbol groups...\n"
     ]
    },
    {
     "name": "stderr",
     "output_type": "stream",
     "text": [
      "\n"
     ]
    },
    {
     "name": "stdout",
     "output_type": "stream",
     "text": [
      "Forward fill completed in 156.25 seconds\n",
      "\n",
      "⚠️ Backward filling remaining nulls (first rows)...\n",
      "Backward fill completed in 144.84 seconds\n",
      "\n",
      "Dataset shape: (47127338, 172)\n",
      "Date range: 0 to 1698\n"
     ]
    }
   ],
   "source": [
    "# Initialize data loader and get columns\n",
    "data_loader = DataLoader(DATA_DIR)\n",
    "feature_cols, exclude_cols = data_loader.get_feature_columns(\n",
    "    pl.scan_parquet(os.path.join(DATA_DIR, \"train.parquet\"))\n",
    ")\n",
    "\n",
    "# Load and preprocess full dataset\n",
    "print(\"Loading full dataset...\")\n",
    "train_df = pl.scan_parquet(os.path.join(DATA_DIR, \"train.parquet\")).collect().to_pandas()\n",
    "train_df = data_loader.handle_nulls(train_df, feature_cols)\n",
    "\n",
    "print(f\"\\nDataset shape: {train_df.shape}\")\n",
    "print(f\"Date range: {train_df['date_id'].min()} to {train_df['date_id'].max()}\")"
   ]
  },
  {
   "cell_type": "code",
   "execution_count": 1,
   "metadata": {},
   "outputs": [
    {
     "ename": "NameError",
     "evalue": "name 'os' is not defined",
     "output_type": "error",
     "traceback": [
      "\u001b[0;31m---------------------------------------------------------------------------\u001b[0m",
      "\u001b[0;31mNameError\u001b[0m                                 Traceback (most recent call last)",
      "Cell \u001b[0;32mIn[1], line 22\u001b[0m\n\u001b[1;32m     19\u001b[0m     \u001b[38;5;28;01mreturn\u001b[39;00m lgb\u001b[38;5;241m.\u001b[39mBooster(model_file\u001b[38;5;241m=\u001b[39mmodel_path)\n\u001b[1;32m     21\u001b[0m \u001b[38;5;66;03m# Load all models\u001b[39;00m\n\u001b[0;32m---> 22\u001b[0m loaded_models \u001b[38;5;241m=\u001b[39m {name: setup_prediction(filename) \n\u001b[1;32m     23\u001b[0m                 \u001b[38;5;28;01mfor\u001b[39;00m name, filename \u001b[38;5;129;01min\u001b[39;00m models\u001b[38;5;241m.\u001b[39mitems()}\n",
      "Cell \u001b[0;32mIn[1], line 22\u001b[0m, in \u001b[0;36m<dictcomp>\u001b[0;34m(.0)\u001b[0m\n\u001b[1;32m     19\u001b[0m     \u001b[38;5;28;01mreturn\u001b[39;00m lgb\u001b[38;5;241m.\u001b[39mBooster(model_file\u001b[38;5;241m=\u001b[39mmodel_path)\n\u001b[1;32m     21\u001b[0m \u001b[38;5;66;03m# Load all models\u001b[39;00m\n\u001b[0;32m---> 22\u001b[0m loaded_models \u001b[38;5;241m=\u001b[39m {name: \u001b[43msetup_prediction\u001b[49m\u001b[43m(\u001b[49m\u001b[43mfilename\u001b[49m\u001b[43m)\u001b[49m \n\u001b[1;32m     23\u001b[0m                 \u001b[38;5;28;01mfor\u001b[39;00m name, filename \u001b[38;5;129;01min\u001b[39;00m models\u001b[38;5;241m.\u001b[39mitems()}\n",
      "Cell \u001b[0;32mIn[1], line 18\u001b[0m, in \u001b[0;36msetup_prediction\u001b[0;34m(model_name)\u001b[0m\n\u001b[1;32m     16\u001b[0m \u001b[38;5;28;01mdef\u001b[39;00m \u001b[38;5;21msetup_prediction\u001b[39m(model_name):\n\u001b[1;32m     17\u001b[0m \u001b[38;5;250m    \u001b[39m\u001b[38;5;124;03m\"\"\"Load and setup model for prediction\"\"\"\u001b[39;00m\n\u001b[0;32m---> 18\u001b[0m     model_path \u001b[38;5;241m=\u001b[39m \u001b[43mos\u001b[49m\u001b[38;5;241m.\u001b[39mpath\u001b[38;5;241m.\u001b[39mjoin(MODEL_DIR, model_name)\n\u001b[1;32m     19\u001b[0m     \u001b[38;5;28;01mreturn\u001b[39;00m lgb\u001b[38;5;241m.\u001b[39mBooster(model_file\u001b[38;5;241m=\u001b[39mmodel_path)\n",
      "\u001b[0;31mNameError\u001b[0m: name 'os' is not defined"
     ]
    }
   ],
   "source": [
    "# Model settings and setup\n",
    "models = {\n",
    "    'Day240': \"model_iter_970_valr2_0.012957280530144666.txt\",\n",
    "    'Day120': \"model_iter_982_valr2_0.008557002203278263.txt\",\n",
    "    'Day98': \"model_iter_453_valr2_0.006576789941025729.txt\",\n",
    "    'Day50': \"model_iter_472_valr2_0.007525290004666063.txt\",\n",
    "    'Day500Val20': \"model_iter_681_valr2_0.0076366825565921115.txt\",\n",
    "    '1': \"model_iter_76_valr2_0.0032829192773827787.txt\",\n",
    "    '2': \"model_iter_434_valr2_0.007476.txt\",\n",
    "    '3': \"model_iter_434_valr2_0.007480.txt\",\n",
    "    '4':\"model_iter_667_valr2_0.007462378707644102.txt\"\n",
    "}\n",
    "\n",
    "\n",
    "\n",
    "def setup_prediction(model_name):\n",
    "    \"\"\"Load and setup model for prediction\"\"\"\n",
    "    model_path = os.path.join(MODEL_DIR, model_name)\n",
    "    return lgb.Booster(model_file=model_path)\n",
    "\n",
    "# Load all models\n",
    "loaded_models = {name: setup_prediction(filename) \n",
    "                for name, filename in models.items()}"
   ]
  },
  {
   "cell_type": "code",
   "execution_count": 16,
   "metadata": {},
   "outputs": [
    {
     "name": "stdout",
     "output_type": "stream",
     "text": [
      "\n",
      "Testing different validation windows...\n"
     ]
    },
    {
     "name": "stderr",
     "output_type": "stream",
     "text": [
      "Testing Day240: 100%|██████████| 8/8 [04:42<00:00, 35.36s/it]\n",
      "Testing Day120: 100%|██████████| 8/8 [04:39<00:00, 34.88s/it]\n",
      "Testing Day98: 100%|██████████| 8/8 [03:47<00:00, 28.48s/it]\n",
      "Testing Day50: 100%|██████████| 8/8 [03:48<00:00, 28.60s/it]\n",
      "Testing Day500Val20: 100%|██████████| 8/8 [03:57<00:00, 29.64s/it]\n"
     ]
    }
   ],
   "source": [
    "# Define validation window sizes to test (in days)\n",
    "val_windows = [10, 20] #, 30, 50, 100, 120, 180, 240]\n",
    "\n",
    "# Store results\n",
    "results = []\n",
    "\n",
    "# Get feature columns for model\n",
    "model_cols = [col for col in train_df.columns \n",
    "             if col not in exclude_cols and col != 'responder_6']\n",
    "\n",
    "# Calculate scores for each window size and model\n",
    "print(\"\\nTesting different validation windows...\")\n",
    "for model_name, model in loaded_models.items():\n",
    "    for window in tqdm(val_windows, desc=f\"Testing {model_name}\"):\n",
    "        # Get the validation set\n",
    "        val_start_date = train_df['date_id'].max() - window\n",
    "        val_mask = train_df['date_id'] >= val_start_date\n",
    "        \n",
    "        # Split data\n",
    "        X_val = train_df[model_cols].loc[val_mask].to_numpy()\n",
    "        y_val = train_df['responder_6'].loc[val_mask].to_numpy()\n",
    "        w_val = train_df['weight'].loc[val_mask].to_numpy()\n",
    "        \n",
    "        # Get predictions\n",
    "        y_pred = model.predict(X_val)\n",
    "        \n",
    "        # Calculate score\n",
    "        score = r2_score_weighted(y_val, y_pred, w_val)\n",
    "        \n",
    "        results.append({\n",
    "            'model': model_name,\n",
    "            'window_size': window,\n",
    "            'score': score,\n",
    "            'n_samples': len(y_val)\n",
    "        })"
   ]
  },
  {
   "cell_type": "code",
   "execution_count": 17,
   "metadata": {},
   "outputs": [
    {
     "data": {
      "image/png": "[encoded data removed]",
      "text/plain": [
       "<Figure size 1200x600 with 1 Axes>"
      ]
     },
     "metadata": {},
     "output_type": "display_data"
    },
    {
     "name": "stdout",
     "output_type": "stream",
     "text": [
      "\n",
      "Detailed Results:\n",
      "model          Day120    Day240     Day50  Day500Val20     Day98\n",
      "window_size                                                     \n",
      "10           0.005648  0.006291  0.006246     0.006215  0.005907\n",
      "20           0.006685  0.006599  0.007182     0.007637  0.006605\n",
      "30           0.006220  0.005755  0.006795     0.009462  0.006131\n",
      "50           0.006889  0.006343  0.007485     0.012081  0.006857\n",
      "100          0.006718  0.006445  0.008204     0.015075  0.006706\n",
      "120          0.008561  0.008285  0.010017     0.017796  0.008773\n",
      "180          0.038348  0.008667  0.026359     0.039415  0.023664\n",
      "240          0.041810  0.012971  0.029695     0.046854  0.027913\n"
     ]
    }
   ],
   "source": [
    "# Convert results to DataFrame\n",
    "results_df = pd.DataFrame(results)\n",
    "\n",
    "# Plot results\n",
    "plt.figure(figsize=(12, 6))\n",
    "sns.lineplot(data=results_df, x='window_size', y='score', hue='model', marker='o')\n",
    "plt.title('Model Performance vs Validation Window Size')\n",
    "plt.xlabel('Validation Window (days)')\n",
    "plt.ylabel('Weighted R² Score')\n",
    "plt.grid(True, alpha=0.3)\n",
    "plt.legend(title='Model', bbox_to_anchor=(1.05, 1), loc='upper left')\n",
    "plt.tight_layout()\n",
    "plt.show()\n",
    "\n",
    "# Print detailed results\n",
    "print(\"\\nDetailed Results:\")\n",
    "pivot_df = results_df.pivot(index='window_size', columns='model', values='score')\n",
    "print(pivot_df.round(6).to_string())"
   ]
  },
  {
   "cell_type": "code",
   "execution_count": null,
   "metadata": {},
   "outputs": [],
   "source": []
  }
 ],
 "metadata": {
  "kernelspec": {
   "display_name": "simxrd_env",
   "language": "python",
   "name": "python3"
  },
  "language_info": {
   "codemirror_mode": {
    "name": "ipython",
    "version": 3
   },
   "file_extension": ".py",
   "mimetype": "text/x-python",
   "name": "python",
   "nbconvert_exporter": "python",
   "pygments_lexer": "ipython3",
   "version": "3.10.14"
  }
 },
 "nbformat": 4,
 "nbformat_minor": 2
}
