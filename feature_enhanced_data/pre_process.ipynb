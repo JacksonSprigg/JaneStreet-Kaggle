{
 "cells": [
  {
   "cell_type": "code",
   "execution_count": 11,
   "metadata": {},
   "outputs": [],
   "source": [
    "import os\n",
    "import polars as pl\n",
    "import pandas as pd\n",
    "import numpy as np\n",
    "from tqdm import tqdm\n",
    "from time import time"
   ]
  },
  {
   "cell_type": "code",
   "execution_count": 12,
   "metadata": {},
   "outputs": [],
   "source": [
    "# Setup paths\n",
    "PROJ_DIR = os.path.dirname(os.getcwd())\n",
    "DATA_DIR = os.path.join(PROJ_DIR, \"jane-street-real-time-market-data-forecasting\")\n",
    "OUTPUT_DIR = os.path.join(PROJ_DIR, \"feature_enhanced_data\")\n",
    "\n",
    "# Create output directory if it doesn't exist\n",
    "os.makedirs(OUTPUT_DIR, exist_ok=True)\n",
    "\n",
    "# Feature column definitions\n",
    "FEATURE_COLS = [f'feature_{i:02d}' for i in range(79)]"
   ]
  },
  {
   "cell_type": "markdown",
   "metadata": {},
   "source": [
    "### Null flags + forward then backward fill data"
   ]
  },
  {
   "cell_type": "code",
   "execution_count": 13,
   "metadata": {},
   "outputs": [],
   "source": [
    "def handle_nulls(df: pd.DataFrame, feature_cols: list) -> pd.DataFrame:\n",
    "    \"\"\"\n",
    "    Strategy:\n",
    "    1. Create null flags for ALL features (not just ones with nulls)\n",
    "    2. Forward fill within each symbol_id group\n",
    "    3. Backward fill remaining nulls (handles first rows)\n",
    "    \"\"\"\n",
    "    print(\"\\n🔍 Processing null values...\")\n",
    "    \n",
    "    # Store original shape for validation\n",
    "    original_shape = df.shape\n",
    "    \n",
    "    # Create null flags for ALL features\n",
    "    null_features = []\n",
    "    for col in tqdm(feature_cols, desc=\"Creating null flags\"):\n",
    "        # Create flag column regardless of null presence\n",
    "        flag_col = f'{col}_is_null'\n",
    "        df[flag_col] = df[col].isnull().astype(np.int8)\n",
    "        \n",
    "        # Still track statistics for logging\n",
    "        null_count = df[col].isnull().sum()\n",
    "        if null_count > 0:\n",
    "            null_features.append(col)\n",
    "            print(f\"  {col}: {null_count:,} nulls ({(null_count/len(df))*100:.2f}%)\")\n",
    "    \n",
    "    # First forward fill within each symbol_id group\n",
    "    print(\"\\n📈 Forward filling values within symbol groups...\")\n",
    "    ffill_start = time()\n",
    "    df[feature_cols] = df.groupby('symbol_id')[feature_cols].ffill()\n",
    "    ffill_time = time() - ffill_start\n",
    "    print(f\"Forward fill completed in {ffill_time:.2f} seconds\")\n",
    "    \n",
    "    # Handle remaining nulls (first rows) with backward fill\n",
    "    remaining_nulls = df[feature_cols].isnull().sum()\n",
    "    if remaining_nulls.any():\n",
    "        print(\"\\n⚠️ Backward filling remaining nulls (first rows)...\")\n",
    "        bfill_start = time()\n",
    "        df[feature_cols] = df.groupby('symbol_id')[feature_cols].bfill()\n",
    "        bfill_time = time() - bfill_start\n",
    "        print(f\"Backward fill completed in {bfill_time:.2f} seconds\")\n",
    "        \n",
    "        # Check if any nulls still remain (this would happen if entire column is null for a symbol)\n",
    "        final_nulls = df[feature_cols].isnull().sum()\n",
    "        if final_nulls.any():\n",
    "            print(\"\\n⚠️ Warning: Some columns still have nulls after forward and backward fill.\")\n",
    "            print(\"These are likely entire null columns for some symbols.\")\n",
    "            # Fill these with 0 or another appropriate value\n",
    "            zero_fill_start = time()\n",
    "            df[feature_cols] = df[feature_cols].fillna(0)\n",
    "            zero_fill_time = time() - zero_fill_start\n",
    "            print(f\"Zero fill completed in {zero_fill_time:.2f} seconds\")\n",
    "    \n",
    "    # Validate processing\n",
    "    assert df[feature_cols].isnull().sum().sum() == 0, \"Found remaining nulls after processing\"\n",
    "    assert df.shape[0] == original_shape[0], \"Row count changed during processing\"\n",
    "    \n",
    "    return df"
   ]
  },
  {
   "cell_type": "markdown",
   "metadata": {},
   "source": [
    "### Create new data set"
   ]
  },
  {
   "cell_type": "code",
   "execution_count": null,
   "metadata": {},
   "outputs": [
    {
     "name": "stdout",
     "output_type": "stream",
     "text": [
      "🚀 Starting data enhancement process...\n",
      "Reading training data...\n",
      "Converting to pandas DataFrame...\n"
     ]
    },
    {
     "name": "stderr",
     "output_type": "stream",
     "text": [
      "Loading data: 100%|██████████| 1/1 [00:56<00:00, 56.15s/it]\n"
     ]
    },
    {
     "name": "stdout",
     "output_type": "stream",
     "text": [
      "\n",
      "Initial DataFrame shape: (47127338, 94)\n",
      "Initial memory usage: 16584.38 MB\n",
      "\n",
      "🔍 Processing null values...\n"
     ]
    },
    {
     "name": "stderr",
     "output_type": "stream",
     "text": [
      "Creating null flags:   1%|▏         | 1/79 [00:00<00:46,  1.66it/s]"
     ]
    },
    {
     "name": "stdout",
     "output_type": "stream",
     "text": [
      "  feature_00: 3,182,052 nulls (6.75%)\n"
     ]
    },
    {
     "name": "stderr",
     "output_type": "stream",
     "text": [
      "Creating null flags:   3%|▎         | 2/79 [00:02<01:32,  1.20s/it]"
     ]
    },
    {
     "name": "stdout",
     "output_type": "stream",
     "text": [
      "  feature_01: 3,182,052 nulls (6.75%)\n"
     ]
    },
    {
     "name": "stderr",
     "output_type": "stream",
     "text": [
      "Creating null flags:   4%|▍         | 3/79 [00:03<01:50,  1.46s/it]"
     ]
    },
    {
     "name": "stdout",
     "output_type": "stream",
     "text": [
      "  feature_02: 3,182,052 nulls (6.75%)\n"
     ]
    },
    {
     "name": "stderr",
     "output_type": "stream",
     "text": [
      "Creating null flags:   5%|▌         | 4/79 [00:05<01:45,  1.41s/it]"
     ]
    },
    {
     "name": "stdout",
     "output_type": "stream",
     "text": [
      "  feature_03: 3,182,052 nulls (6.75%)\n"
     ]
    },
    {
     "name": "stderr",
     "output_type": "stream",
     "text": [
      "Creating null flags:   6%|▋         | 5/79 [00:06<01:44,  1.41s/it]"
     ]
    },
    {
     "name": "stdout",
     "output_type": "stream",
     "text": [
      "  feature_04: 3,182,052 nulls (6.75%)\n"
     ]
    },
    {
     "name": "stderr",
     "output_type": "stream",
     "text": [
      "Creating null flags:  13%|█▎        | 10/79 [00:11<00:55,  1.23it/s]"
     ]
    },
    {
     "name": "stdout",
     "output_type": "stream",
     "text": [
      "  feature_08: 300,247 nulls (0.64%)\n"
     ]
    },
    {
     "name": "stderr",
     "output_type": "stream",
     "text": [
      "Creating null flags:  22%|██▏       | 17/79 [00:12<00:16,  3.71it/s]"
     ]
    },
    {
     "name": "stdout",
     "output_type": "stream",
     "text": [
      "  feature_15: 1,209,299 nulls (2.57%)\n",
      "  feature_16: 261 nulls (0.00%)\n"
     ]
    },
    {
     "name": "stderr",
     "output_type": "stream",
     "text": [
      "Creating null flags:  23%|██▎       | 18/79 [00:13<00:14,  4.23it/s]"
     ]
    },
    {
     "name": "stdout",
     "output_type": "stream",
     "text": [
      "  feature_17: 201,838 nulls (0.43%)\n"
     ]
    },
    {
     "name": "stderr",
     "output_type": "stream",
     "text": [
      "Creating null flags:  24%|██▍       | 19/79 [00:16<01:07,  1.13s/it]"
     ]
    },
    {
     "name": "stdout",
     "output_type": "stream",
     "text": [
      "  feature_18: 226 nulls (0.00%)\n"
     ]
    },
    {
     "name": "stderr",
     "output_type": "stream",
     "text": [
      "Creating null flags:  25%|██▌       | 20/79 [00:22<02:32,  2.59s/it]"
     ]
    },
    {
     "name": "stdout",
     "output_type": "stream",
     "text": [
      "  feature_19: 226 nulls (0.00%)\n"
     ]
    },
    {
     "name": "stderr",
     "output_type": "stream",
     "text": [
      "Creating null flags:  28%|██▊       | 22/79 [00:38<04:55,  5.18s/it]"
     ]
    },
    {
     "name": "stdout",
     "output_type": "stream",
     "text": [
      "  feature_21: 8,435,985 nulls (17.90%)\n"
     ]
    },
    {
     "name": "stderr",
     "output_type": "stream",
     "text": [
      "Creating null flags:  35%|███▌      | 28/79 [00:46<01:03,  1.24s/it]"
     ]
    },
    {
     "name": "stdout",
     "output_type": "stream",
     "text": [
      "  feature_26: 8,435,985 nulls (17.90%)\n",
      "  feature_27: 8,435,985 nulls (17.90%)\n"
     ]
    },
    {
     "name": "stderr",
     "output_type": "stream",
     "text": [
      "Creating null flags:  42%|████▏     | 33/79 [00:47<00:15,  2.93it/s]"
     ]
    },
    {
     "name": "stdout",
     "output_type": "stream",
     "text": [
      "  feature_31: 8,435,985 nulls (17.90%)\n",
      "  feature_32: 478,457 nulls (1.02%)\n"
     ]
    },
    {
     "name": "stderr",
     "output_type": "stream",
     "text": [
      "Creating null flags:  44%|████▍     | 35/79 [00:47<00:10,  4.11it/s]"
     ]
    },
    {
     "name": "stdout",
     "output_type": "stream",
     "text": [
      "  feature_33: 478,457 nulls (1.02%)\n"
     ]
    },
    {
     "name": "stderr",
     "output_type": "stream",
     "text": [
      "Creating null flags:  48%|████▊     | 38/79 [00:48<00:13,  3.13it/s]"
     ]
    },
    {
     "name": "stdout",
     "output_type": "stream",
     "text": [
      "  feature_37: 849 nulls (0.00%)\n"
     ]
    },
    {
     "name": "stderr",
     "output_type": "stream",
     "text": [
      "Creating null flags:  51%|█████     | 40/79 [00:49<00:16,  2.34it/s]"
     ]
    },
    {
     "name": "stdout",
     "output_type": "stream",
     "text": [
      "  feature_39: 4,300,649 nulls (9.13%)\n"
     ]
    },
    {
     "name": "stderr",
     "output_type": "stream",
     "text": [
      "Creating null flags:  52%|█████▏    | 41/79 [00:50<00:20,  1.90it/s]"
     ]
    },
    {
     "name": "stdout",
     "output_type": "stream",
     "text": [
      "  feature_40: 67,856 nulls (0.14%)\n"
     ]
    },
    {
     "name": "stderr",
     "output_type": "stream",
     "text": [
      "Creating null flags:  53%|█████▎    | 42/79 [00:51<00:21,  1.73it/s]"
     ]
    },
    {
     "name": "stdout",
     "output_type": "stream",
     "text": [
      "  feature_41: 1,093,012 nulls (2.32%)\n"
     ]
    },
    {
     "name": "stderr",
     "output_type": "stream",
     "text": [
      "Creating null flags:  54%|█████▍    | 43/79 [00:51<00:20,  1.79it/s]"
     ]
    },
    {
     "name": "stdout",
     "output_type": "stream",
     "text": [
      "  feature_42: 4,300,649 nulls (9.13%)\n"
     ]
    },
    {
     "name": "stderr",
     "output_type": "stream",
     "text": [
      "Creating null flags:  56%|█████▌    | 44/79 [00:52<00:20,  1.75it/s]"
     ]
    },
    {
     "name": "stdout",
     "output_type": "stream",
     "text": [
      "  feature_43: 67,856 nulls (0.14%)\n"
     ]
    },
    {
     "name": "stderr",
     "output_type": "stream",
     "text": [
      "Creating null flags:  57%|█████▋    | 45/79 [00:53<00:28,  1.18it/s]"
     ]
    },
    {
     "name": "stdout",
     "output_type": "stream",
     "text": [
      "  feature_44: 1,093,012 nulls (2.32%)\n"
     ]
    },
    {
     "name": "stderr",
     "output_type": "stream",
     "text": [
      "Creating null flags:  58%|█████▊    | 46/79 [00:54<00:31,  1.04it/s]"
     ]
    },
    {
     "name": "stdout",
     "output_type": "stream",
     "text": [
      "  feature_45: 317,163 nulls (0.67%)\n"
     ]
    },
    {
     "name": "stderr",
     "output_type": "stream",
     "text": [
      "Creating null flags:  59%|█████▉    | 47/79 [00:55<00:30,  1.04it/s]"
     ]
    },
    {
     "name": "stdout",
     "output_type": "stream",
     "text": [
      "  feature_46: 317,163 nulls (0.67%)\n"
     ]
    },
    {
     "name": "stderr",
     "output_type": "stream",
     "text": [
      "Creating null flags:  61%|██████    | 48/79 [00:56<00:26,  1.17it/s]"
     ]
    },
    {
     "name": "stdout",
     "output_type": "stream",
     "text": [
      "  feature_47: 87 nulls (0.00%)\n"
     ]
    },
    {
     "name": "stderr",
     "output_type": "stream",
     "text": [
      "Creating null flags:  65%|██████▍   | 51/79 [00:59<00:25,  1.09it/s]"
     ]
    },
    {
     "name": "stdout",
     "output_type": "stream",
     "text": [
      "  feature_50: 4,254,098 nulls (9.03%)\n"
     ]
    },
    {
     "name": "stderr",
     "output_type": "stream",
     "text": [
      "Creating null flags:  66%|██████▌   | 52/79 [01:00<00:25,  1.07it/s]"
     ]
    },
    {
     "name": "stdout",
     "output_type": "stream",
     "text": [
      "  feature_51: 13,805 nulls (0.03%)\n"
     ]
    },
    {
     "name": "stderr",
     "output_type": "stream",
     "text": [
      "Creating null flags:  67%|██████▋   | 53/79 [01:01<00:28,  1.10s/it]"
     ]
    },
    {
     "name": "stdout",
     "output_type": "stream",
     "text": [
      "  feature_52: 1,044,898 nulls (2.22%)\n"
     ]
    },
    {
     "name": "stderr",
     "output_type": "stream",
     "text": [
      "Creating null flags:  68%|██████▊   | 54/79 [01:02<00:29,  1.19s/it]"
     ]
    },
    {
     "name": "stdout",
     "output_type": "stream",
     "text": [
      "  feature_53: 4,254,098 nulls (9.03%)\n"
     ]
    },
    {
     "name": "stderr",
     "output_type": "stream",
     "text": [
      "Creating null flags:  70%|██████▉   | 55/79 [01:03<00:26,  1.09s/it]"
     ]
    },
    {
     "name": "stdout",
     "output_type": "stream",
     "text": [
      "  feature_54: 13,805 nulls (0.03%)\n"
     ]
    },
    {
     "name": "stderr",
     "output_type": "stream",
     "text": [
      "Creating null flags:  71%|███████   | 56/79 [01:04<00:21,  1.08it/s]"
     ]
    },
    {
     "name": "stdout",
     "output_type": "stream",
     "text": [
      "  feature_55: 1,044,898 nulls (2.22%)\n"
     ]
    },
    {
     "name": "stderr",
     "output_type": "stream",
     "text": [
      "Creating null flags:  72%|███████▏  | 57/79 [01:05<00:22,  1.02s/it]"
     ]
    },
    {
     "name": "stdout",
     "output_type": "stream",
     "text": [
      "  feature_56: 226 nulls (0.00%)\n"
     ]
    },
    {
     "name": "stderr",
     "output_type": "stream",
     "text": [
      "Creating null flags:  73%|███████▎  | 58/79 [01:06<00:22,  1.09s/it]"
     ]
    },
    {
     "name": "stdout",
     "output_type": "stream",
     "text": [
      "  feature_57: 226 nulls (0.00%)\n"
     ]
    },
    {
     "name": "stderr",
     "output_type": "stream",
     "text": [
      "Creating null flags:  75%|███████▍  | 59/79 [01:07<00:18,  1.07it/s]"
     ]
    },
    {
     "name": "stdout",
     "output_type": "stream",
     "text": [
      "  feature_58: 478,452 nulls (1.02%)\n"
     ]
    },
    {
     "name": "stderr",
     "output_type": "stream",
     "text": [
      "Creating null flags:  80%|███████▉  | 63/79 [01:10<00:11,  1.41it/s]"
     ]
    },
    {
     "name": "stdout",
     "output_type": "stream",
     "text": [
      "  feature_62: 292,827 nulls (0.62%)\n"
     ]
    },
    {
     "name": "stderr",
     "output_type": "stream",
     "text": [
      "Creating null flags:  81%|████████  | 64/79 [01:11<00:09,  1.59it/s]"
     ]
    },
    {
     "name": "stdout",
     "output_type": "stream",
     "text": [
      "  feature_63: 227,566 nulls (0.48%)\n"
     ]
    },
    {
     "name": "stderr",
     "output_type": "stream",
     "text": [
      "Creating null flags:  82%|████████▏ | 65/79 [01:12<00:10,  1.33it/s]"
     ]
    },
    {
     "name": "stdout",
     "output_type": "stream",
     "text": [
      "  feature_64: 237,663 nulls (0.50%)\n"
     ]
    },
    {
     "name": "stderr",
     "output_type": "stream",
     "text": [
      "Creating null flags:  84%|████████▎ | 66/79 [01:13<00:13,  1.07s/it]"
     ]
    },
    {
     "name": "stdout",
     "output_type": "stream",
     "text": [
      "  feature_65: 317,163 nulls (0.67%)\n"
     ]
    },
    {
     "name": "stderr",
     "output_type": "stream",
     "text": [
      "Creating null flags:  85%|████████▍ | 67/79 [01:18<00:23,  1.98s/it]"
     ]
    },
    {
     "name": "stdout",
     "output_type": "stream",
     "text": [
      "  feature_66: 317,163 nulls (0.67%)\n"
     ]
    },
    {
     "name": "stderr",
     "output_type": "stream",
     "text": [
      "Creating null flags:  94%|█████████▎| 74/79 [01:47<00:16,  3.37s/it]"
     ]
    },
    {
     "name": "stdout",
     "output_type": "stream",
     "text": [
      "  feature_73: 483,759 nulls (1.03%)\n"
     ]
    },
    {
     "name": "stderr",
     "output_type": "stream",
     "text": [
      "Creating null flags:  95%|█████████▍| 75/79 [01:47<00:09,  2.45s/it]"
     ]
    },
    {
     "name": "stdout",
     "output_type": "stream",
     "text": [
      "  feature_74: 483,759 nulls (1.03%)\n"
     ]
    },
    {
     "name": "stderr",
     "output_type": "stream",
     "text": [
      "Creating null flags:  96%|█████████▌| 76/79 [01:47<00:05,  1.82s/it]"
     ]
    },
    {
     "name": "stdout",
     "output_type": "stream",
     "text": [
      "  feature_75: 58,430 nulls (0.12%)\n"
     ]
    },
    {
     "name": "stderr",
     "output_type": "stream",
     "text": [
      "Creating null flags:  97%|█████████▋| 77/79 [01:48<00:02,  1.40s/it]"
     ]
    },
    {
     "name": "stdout",
     "output_type": "stream",
     "text": [
      "  feature_76: 58,430 nulls (0.12%)\n"
     ]
    },
    {
     "name": "stderr",
     "output_type": "stream",
     "text": [
      "Creating null flags:  99%|█████████▊| 78/79 [01:48<00:01,  1.08s/it]"
     ]
    },
    {
     "name": "stdout",
     "output_type": "stream",
     "text": [
      "  feature_77: 20,043 nulls (0.04%)\n"
     ]
    },
    {
     "name": "stderr",
     "output_type": "stream",
     "text": [
      "Creating null flags: 100%|██████████| 79/79 [01:48<00:00,  1.38s/it]"
     ]
    },
    {
     "name": "stdout",
     "output_type": "stream",
     "text": [
      "  feature_78: 20,043 nulls (0.04%)\n",
      "\n",
      "📈 Forward filling values within symbol groups...\n"
     ]
    },
    {
     "name": "stderr",
     "output_type": "stream",
     "text": [
      "\n"
     ]
    },
    {
     "name": "stdout",
     "output_type": "stream",
     "text": [
      "Forward fill completed in 288.62 seconds\n",
      "\n",
      "⚠️ Backward filling remaining nulls (first rows)...\n",
      "Backward fill completed in 216.95 seconds\n",
      "\n",
      "💾 Saving enhanced data to /monfs01/projects/ys68/JaneStreet-Kaggle/feature_enhanced_data/enhanced_train.parquet\n",
      "\n",
      "✨ Processing completed in 922.12 seconds\n",
      "\n",
      "Sample of enhanced data (first 5 rows of first feature):\n",
      "   feature_00  feature_00_is_null\n",
      "0    1.161135                   1\n",
      "1    1.157178                   1\n",
      "2    2.085530                   1\n",
      "3    1.237014                   1\n",
      "4    1.358605                   1\n"
     ]
    }
   ],
   "source": [
    "print(\"🚀 Starting data enhancement process...\")\n",
    "start_time = time()\n",
    "\n",
    "# Load training data\n",
    "print(\"Reading training data...\")\n",
    "train = pl.scan_parquet(os.path.join(DATA_DIR, \"train.parquet\")).\\\n",
    "    select(\n",
    "        pl.int_range(pl.len(), dtype=pl.UInt64).alias(\"id\"),\n",
    "        pl.all(),\n",
    "    )\n",
    "\n",
    "print(\"Converting to pandas DataFrame...\")\n",
    "with tqdm(total=1, desc=\"Loading data\") as pbar:\n",
    "    train_df = train.collect().to_pandas()\n",
    "    pbar.update(1)\n",
    "\n",
    "# Record initial shape and memory usage\n",
    "initial_shape = train_df.shape\n",
    "initial_mem = train_df.memory_usage().sum() / 1024 / 1024\n",
    "print(f\"\\nInitial DataFrame shape: {initial_shape}\")\n",
    "print(f\"Initial memory usage: {initial_mem:.2f} MB\")\n",
    "\n",
    "# Process the data\n",
    "enhanced_train = handle_nulls(train_df, FEATURE_COLS)\n",
    "\n",
    "# Convert back to Polars for efficient partitioned saving\n",
    "print(\"\\n💾 Converting to Polars DataFrame for partitioned saving...\")\n",
    "pl_enhanced = pl.from_pandas(enhanced_train)\n",
    "\n",
    "# Calculate partition sizes\n",
    "n_partitions = 20\n",
    "rows_per_partition = len(pl_enhanced) // n_partitions\n",
    "print(f\"Saving {n_partitions} partitions with ~{rows_per_partition:,} rows each\")\n",
    "\n",
    "# Create output directory structure\n",
    "output_dir = os.path.join(OUTPUT_DIR, \"enhanced_train.parquet\")\n",
    "os.makedirs(output_dir, exist_ok=True)\n",
    "\n",
    "# Save partitioned data\n",
    "print(\"\\n💾 Saving partitioned enhanced data...\")\n",
    "for i in tqdm(range(n_partitions), desc=\"Saving partitions\"):\n",
    "    start_idx = i * rows_per_partition\n",
    "    end_idx = None if i == n_partitions - 1 else (i + 1) * rows_per_partition\n",
    "    \n",
    "    partition = pl_enhanced.slice(start_idx, rows_per_partition if end_idx else len(pl_enhanced) - start_idx)\n",
    "    partition_path = os.path.join(output_dir, f\"partition_id={i}\")\n",
    "    os.makedirs(partition_path, exist_ok=True)\n",
    "    partition.write_parquet(os.path.join(partition_path, \"part-0.parquet\"))\n",
    "\n",
    "end_time = time()\n",
    "print(f\"\\n✨ Processing completed in {end_time - start_time:.2f} seconds\")\n",
    "\n",
    "# Print sample of changes\n",
    "print(\"\\nSample of enhanced data (first 5 rows of first feature):\")\n",
    "sample = pl_enhanced.select(['feature_00', 'feature_00_is_null']).head(5)\n",
    "print(sample)"
   ]
  }
 ],
 "metadata": {
  "kernelspec": {
   "display_name": "simxrd_env",
   "language": "python",
   "name": "python3"
  },
  "language_info": {
   "codemirror_mode": {
    "name": "ipython",
    "version": 3
   },
   "file_extension": ".py",
   "mimetype": "text/x-python",
   "name": "python",
   "nbconvert_exporter": "python",
   "pygments_lexer": "ipython3",
   "version": "3.10.14"
  }
 },
 "nbformat": 4,
 "nbformat_minor": 2
}
