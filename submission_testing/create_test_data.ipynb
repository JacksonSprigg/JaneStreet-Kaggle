{
 "cells": [
  {
   "cell_type": "code",
   "execution_count": 1,
   "metadata": {},
   "outputs": [
    {
     "name": "stdout",
     "output_type": "stream",
     "text": [
      "Original data directory: /monfs01/projects/ys68/JaneStreet-Kaggle/jane-street-real-time-market-data-forecasting\n",
      "Local test data will be saved to: /monfs01/projects/ys68/JaneStreet-Kaggle/submission_testing/local_test_data\n"
     ]
    }
   ],
   "source": [
    "import os\n",
    "import polars as pl\n",
    "import numpy as np\n",
    "\n",
    "# Setup paths relative to this notebook's location\n",
    "NOTEBOOK_DIR = os.getcwd()  # submissions folder\n",
    "PROJ_DIR = os.path.dirname(NOTEBOOK_DIR)  # main project folder\n",
    "DATA_DIR = os.path.join(PROJ_DIR, \"jane-street-real-time-market-data-forecasting\")\n",
    "LOCAL_TEST_DIR = os.path.join(NOTEBOOK_DIR, \"local_test_data\")\n",
    "\n",
    "# Create local test directory if it doesn't exist\n",
    "os.makedirs(LOCAL_TEST_DIR, exist_ok=True)"
   ]
  },
  {
   "cell_type": "code",
   "execution_count": 2,
   "metadata": {},
   "outputs": [
    {
     "name": "stdout",
     "output_type": "stream",
     "text": [
      "Training data schema:\n",
      "\n",
      "Sample of training data:\n"
     ]
    },
    {
     "name": "stderr",
     "output_type": "stream",
     "text": [
      "/tmp/ipykernel_946138/1687631273.py:10: PerformanceWarning: Resolving the schema of a LazyFrame is a potentially expensive operation. Use `LazyFrame.collect_schema()` to get the schema without this warning.\n",
      "  train.schema\n",
      "/tmp/ipykernel_946138/1687631273.py:14: DeprecationWarning: `LazyFrame.fetch` is deprecated. `LazyFrame.fetch` is deprecated; use `LazyFrame.collect` instead, in conjunction with a call to `head`.\n",
      "  sample = train.fetch(5)\n"
     ]
    },
    {
     "name": "stdout",
     "output_type": "stream",
     "text": [
      "shape: (5, 94)\n",
      "┌─────┬─────────┬─────────┬───────────┬───┬─────────────┬─────────────┬─────────────┬──────────────┐\n",
      "│ id  ┆ date_id ┆ time_id ┆ symbol_id ┆ … ┆ responder_6 ┆ responder_7 ┆ responder_8 ┆ partition_id │\n",
      "│ --- ┆ ---     ┆ ---     ┆ ---       ┆   ┆ ---         ┆ ---         ┆ ---         ┆ ---          │\n",
      "│ u64 ┆ i16     ┆ i16     ┆ i8        ┆   ┆ f32         ┆ f32         ┆ f32         ┆ i64          │\n",
      "╞═════╪═════════╪═════════╪═══════════╪═══╪═════════════╪═════════════╪═════════════╪══════════════╡\n",
      "│ 0   ┆ 0       ┆ 0       ┆ 1         ┆ … ┆ 0.775981    ┆ 0.346999    ┆ 0.095504    ┆ 0            │\n",
      "│ 1   ┆ 0       ┆ 0       ┆ 7         ┆ … ┆ 0.703665    ┆ 0.216683    ┆ 0.778639    ┆ 0            │\n",
      "│ 2   ┆ 0       ┆ 0       ┆ 9         ┆ … ┆ 2.109352    ┆ 0.670881    ┆ 0.772828    ┆ 0            │\n",
      "│ 3   ┆ 0       ┆ 0       ┆ 10        ┆ … ┆ 1.114137    ┆ 0.775199    ┆ -1.379516   ┆ 0            │\n",
      "│ 4   ┆ 0       ┆ 0       ┆ 14        ┆ … ┆ -3.57282    ┆ -1.089123   ┆ -5.0        ┆ 0            │\n",
      "└─────┴─────────┴─────────┴───────────┴───┴─────────────┴─────────────┴─────────────┴──────────────┘\n"
     ]
    }
   ],
   "source": [
    "# Load a small subset of training data\n",
    "train = pl.scan_parquet(os.path.join(DATA_DIR, \"train.parquet\")).\\\n",
    "    select(\n",
    "        pl.int_range(pl.len(), dtype=pl.UInt64).alias(\"id\"),\n",
    "        pl.all(),\n",
    "    )\n",
    "\n",
    "# Show schema to verify columns we need\n",
    "print(\"Training data schema:\")\n",
    "train.schema\n",
    "\n",
    "# Fetch first few rows to verify data\n",
    "print(\"\\nSample of training data:\")\n",
    "sample = train.fetch(5)\n",
    "print(sample)"
   ]
  },
  {
   "cell_type": "code",
   "execution_count": 7,
   "metadata": {},
   "outputs": [
    {
     "name": "stdout",
     "output_type": "stream",
     "text": [
      "Sampled test data shape: (187792, 93)\n",
      "\n",
      "Distribution in test data:\n",
      "shape: (5, 3)\n",
      "┌─────────┬───────────┬─────────┐\n",
      "│ date_id ┆ n_symbols ┆ n_times │\n",
      "│ ---     ┆ ---       ┆ ---     │\n",
      "│ i16     ┆ u32       ┆ u32     │\n",
      "╞═════════╪═══════════╪═════════╡\n",
      "│ 1698    ┆ 39        ┆ 968     │\n",
      "│ 1695    ┆ 39        ┆ 968     │\n",
      "│ 1696    ┆ 38        ┆ 968     │\n",
      "│ 1694    ┆ 39        ┆ 968     │\n",
      "│ 1697    ┆ 39        ┆ 968     │\n",
      "└─────────┴───────────┴─────────┘\n"
     ]
    }
   ],
   "source": [
    "# Load training data\n",
    "train = pl.scan_parquet(os.path.join(DATA_DIR, \"train.parquet\"))\n",
    "\n",
    "# Get the last 5 date_ids\n",
    "max_date = train.select(pl.col('date_id').max()).collect().item()\n",
    "test_dates = pl.Series(range(max_date-4, max_date+1))\n",
    "\n",
    "# Get all data for these dates\n",
    "local_test = train.filter(\n",
    "    pl.col('date_id').is_in(test_dates)\n",
    ").collect()\n",
    "\n",
    "print(f\"Sampled test data shape: {local_test.shape}\")\n",
    "print(\"\\nDistribution in test data:\")\n",
    "print(local_test.group_by('date_id').agg(\n",
    "    pl.n_unique('symbol_id').alias('n_symbols'),\n",
    "    pl.n_unique('time_id').alias('n_times')\n",
    "))"
   ]
  },
  {
   "cell_type": "code",
   "execution_count": 8,
   "metadata": {},
   "outputs": [
    {
     "name": "stdout",
     "output_type": "stream",
     "text": [
      "Test data structure:\n",
      "Schema([('row_id', Int64), ('date_id', Int16), ('time_id', Int16), ('symbol_id', Int8), ('weight', Float32), ('is_scored', Boolean), ('feature_00', Float32), ('feature_01', Float32), ('feature_02', Float32), ('feature_03', Float32), ('feature_04', Float32), ('feature_05', Float32), ('feature_06', Float32), ('feature_07', Float32), ('feature_08', Float32), ('feature_09', Float32), ('feature_10', Float32), ('feature_11', Float32), ('feature_12', Float32), ('feature_13', Float32), ('feature_14', Float32), ('feature_15', Float32), ('feature_16', Float32), ('feature_17', Float32), ('feature_18', Float32), ('feature_19', Float32), ('feature_20', Float32), ('feature_21', Float32), ('feature_22', Float32), ('feature_23', Float32), ('feature_24', Float32), ('feature_25', Float32), ('feature_26', Float32), ('feature_27', Float32), ('feature_28', Float32), ('feature_29', Float32), ('feature_30', Float32), ('feature_31', Float32), ('feature_32', Float32), ('feature_33', Float32), ('feature_34', Float32), ('feature_35', Float32), ('feature_36', Float32), ('feature_37', Float32), ('feature_38', Float32), ('feature_39', Float32), ('feature_40', Float32), ('feature_41', Float32), ('feature_42', Float32), ('feature_43', Float32), ('feature_44', Float32), ('feature_45', Float32), ('feature_46', Float32), ('feature_47', Float32), ('feature_48', Float32), ('feature_49', Float32), ('feature_50', Float32), ('feature_51', Float32), ('feature_52', Float32), ('feature_53', Float32), ('feature_54', Float32), ('feature_55', Float32), ('feature_56', Float32), ('feature_57', Float32), ('feature_58', Float32), ('feature_59', Float32), ('feature_60', Float32), ('feature_61', Float32), ('feature_62', Float32), ('feature_63', Float32), ('feature_64', Float32), ('feature_65', Float32), ('feature_66', Float32), ('feature_67', Float32), ('feature_68', Float32), ('feature_69', Float32), ('feature_70', Float32), ('feature_71', Float32), ('feature_72', Float32), ('feature_73', Float32), ('feature_74', Float32), ('feature_75', Float32), ('feature_76', Float32), ('feature_77', Float32), ('feature_78', Float32), ('responder_6', Float32)])\n",
      "\n",
      "Shape: (187792, 86)\n"
     ]
    }
   ],
   "source": [
    "def create_title(title):\n",
    "    return HTML(f\"\"\"\n",
    "    <h3>{title}</h3>\n",
    "    \"\"\")\n",
    "\n",
    "# Look at the data before saving\n",
    "with pl.Config(tbl_rows=16, tbl_cols=-1):\n",
    "    display(create_title(\"First rows of our formatted test data\"))\n",
    "    display(local_test_formatted.head(16))\n",
    "\n",
    "# Get some statistics\n",
    "test_statistics = local_test_formatted.select([\n",
    "    pl.all().mean().round(4).alias('mean'),\n",
    "    pl.all().std().round(4).alias('std'),\n",
    "    pl.all().min().alias('min'),\n",
    "    pl.all().max().alias('max'),\n",
    "    pl.all().null_count().alias('null_count')\n",
    "]).transpose(\n",
    "    column_names=['statistic'],\n",
    "    include_header=True\n",
    ")\n",
    "\n",
    "with pl.Config(tbl_rows=-1, tbl_cols=-1):\n",
    "    display(create_title(\"Statistical Summary of Test Data\"))\n",
    "    display(test_statistics)"
   ]
  },
  {
   "cell_type": "code",
   "execution_count": null,
   "metadata": {},
   "outputs": [],
   "source": [
    "# Save to our local test directory\n",
    "local_test_formatted.write_parquet(\n",
    "    os.path.join(LOCAL_TEST_DIR, \"test.parquet\")\n",
    ")"
   ]
  }
 ],
 "metadata": {
  "kernelspec": {
   "display_name": "simxrd_env",
   "language": "python",
   "name": "python3"
  },
  "language_info": {
   "codemirror_mode": {
    "name": "ipython",
    "version": 3
   },
   "file_extension": ".py",
   "mimetype": "text/x-python",
   "name": "python",
   "nbconvert_exporter": "python",
   "pygments_lexer": "ipython3",
   "version": "3.10.14"
  }
 },
 "nbformat": 4,
 "nbformat_minor": 2
}
