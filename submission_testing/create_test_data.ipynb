{
 "cells": [
  {
   "cell_type": "markdown",
   "metadata": {},
   "source": [
    "### Paths and imports"
   ]
  },
  {
   "cell_type": "code",
   "execution_count": 37,
   "metadata": {},
   "outputs": [],
   "source": [
    "import os\n",
    "import polars as pl\n",
    "import shutil\n",
    "\n",
    "from IPython.display import HTML, display"
   ]
  },
  {
   "cell_type": "code",
   "execution_count": 38,
   "metadata": {},
   "outputs": [],
   "source": [
    "# TODO: Variable is scored. \n",
    "# TODO: Lags aren't actually lagged"
   ]
  },
  {
   "cell_type": "code",
   "execution_count": 39,
   "metadata": {},
   "outputs": [],
   "source": [
    "# Setup paths relative to this notebook's location\n",
    "NOTEBOOK_DIR = os.getcwd()  # submissions folder\n",
    "PROJ_DIR = os.path.dirname(NOTEBOOK_DIR)  # main project folder\n",
    "DATA_DIR = os.path.join(PROJ_DIR, \"jane-street-real-time-market-data-forecasting\")\n",
    "LOCAL_TEST_DIR = os.path.join(NOTEBOOK_DIR, \"local_test_data\")\n",
    "\n",
    "# Create local test directory if it doesn't exist\n",
    "os.makedirs(LOCAL_TEST_DIR, exist_ok=True)"
   ]
  },
  {
   "cell_type": "markdown",
   "metadata": {},
   "source": [
    "### Grab a sample of train to turn into test data"
   ]
  },
  {
   "cell_type": "code",
   "execution_count": 43,
   "metadata": {},
   "outputs": [
    {
     "name": "stdout",
     "output_type": "stream",
     "text": [
      "Created date ranges:\n",
      "Test dates: 1694 to 1698 (n=5)\n",
      "Lag dates: 1693 to 1697 (n=5)\n",
      "\n",
      "Test data shape: (187792, 93)\n",
      "Lag data shape: (187792, 93)\n"
     ]
    }
   ],
   "source": [
    "def get_test_and_lag_dates(train_df: pl.LazyFrame, test_start_date: int, test_end_date: int = None) -> tuple[pl.Series, pl.Series]:\n",
    "\n",
    "    # Validate test_start_date exists in data\n",
    "    min_date = train_df.select(pl.col('date_id').min()).collect().item()\n",
    "    max_date = train_df.select(pl.col('date_id').max()).collect().item()\n",
    "    \n",
    "    if test_start_date < min_date:\n",
    "        raise ValueError(f\"test_start_date ({test_start_date}) must be >= minimum date in dataset ({min_date})\")\n",
    "    \n",
    "    # If no end date specified, use max date\n",
    "    if test_end_date is None:\n",
    "        test_end_date = max_date\n",
    "    elif test_end_date > max_date:\n",
    "        raise ValueError(f\"test_end_date ({test_end_date}) must be <= maximum date in dataset ({max_date})\")\n",
    "    \n",
    "    # Generate date ranges\n",
    "    test_dates = pl.Series(range(test_start_date, test_end_date + 1))\n",
    "    # Lag dates are shifted back by one day but maintain same length\n",
    "    lag_dates = pl.Series(range(test_start_date - 1, test_end_date))\n",
    "    \n",
    "    print(f\"Created date ranges:\")\n",
    "    print(f\"Test dates: {test_dates.min()} to {test_dates.max()} (n={len(test_dates)})\")\n",
    "    print(f\"Lag dates: {lag_dates.min()} to {lag_dates.max()} (n={len(lag_dates)})\")\n",
    "    \n",
    "    return test_dates, lag_dates"
   ]
  },
  {
   "cell_type": "code",
   "execution_count": null,
   "metadata": {},
   "outputs": [],
   "source": [
    "train = pl.scan_parquet(os.path.join(DATA_DIR, \"train.parquet\"))\n",
    "\n",
    "# Note that there are 1698 days\n",
    "start = 1650\n",
    "end = 1670\n",
    "test_dates, lag_dates = get_test_and_lag_dates(train, test_start_date=start, test_end_date=end)\n",
    "\n",
    "# Get all data for both test and lags\n",
    "test_data = train.filter(\n",
    "    pl.col('date_id').is_in(test_dates)\n",
    ").collect()\n",
    "\n",
    "lag_data = train.filter(\n",
    "    pl.col('date_id').is_in(lag_dates)\n",
    ").collect()"
   ]
  },
  {
   "cell_type": "markdown",
   "metadata": {},
   "source": [
    "### Create test and lags from this sample"
   ]
  },
  {
   "cell_type": "code",
   "execution_count": 41,
   "metadata": {},
   "outputs": [],
   "source": [
    "# Create test data matching competition format\n",
    "local_test_formatted = test_data.select([\n",
    "    pl.int_range(0, pl.len()).cast(pl.UInt64).alias('id'),\n",
    "    pl.int_range(0, pl.len()).cast(pl.Int64).alias('row_id'),\n",
    "    # Shift date_ids to start at 0 while preserving order\n",
    "    (pl.col('date_id') - test_data['date_id'].min()).cast(pl.Int16).alias('date_id'),\n",
    "    pl.col('time_id').cast(pl.Int16),\n",
    "    pl.col('symbol_id').cast(pl.Int8),\n",
    "    pl.col('weight').cast(pl.Float32),\n",
    "    pl.lit(True).alias('is_scored'),  # All rows scored in our local test\n",
    "    \n",
    "    # Get all feature columns in order\n",
    "    *[pl.col(f'feature_{i:02d}').cast(pl.Float32) for i in range(79)],\n",
    "    # Keep responder_6 for scoring\n",
    "    pl.col('responder_6').cast(pl.Float32)\n",
    "])\n",
    "\n",
    "# Create lags data matching competition format\n",
    "local_lags_formatted = lag_data.select([\n",
    "    pl.int_range(0, pl.len()).cast(pl.UInt64).alias('id'),\n",
    "    # Shift date_ids to start at 0 while preserving order\n",
    "    (pl.col('date_id') - lag_data['date_id'].min()).cast(pl.Int16).alias('date_id'),\n",
    "    pl.col('time_id').cast(pl.Int16),\n",
    "    pl.col('symbol_id').cast(pl.Int8),\n",
    "    # Get all responders with _lag_1 suffix\n",
    "    *[pl.col(f'responder_{i}').cast(pl.Float32).alias(f'responder_{i}_lag_1') \n",
    "      for i in range(9)]\n",
    "])"
   ]
  },
  {
   "cell_type": "markdown",
   "metadata": {},
   "source": [
    "### Have a peak"
   ]
  },
  {
   "cell_type": "code",
   "execution_count": 42,
   "metadata": {},
   "outputs": [
    {
     "data": {
      "text/html": [
       "\n",
       "    <h3>First rows of our formatted test data</h3>\n",
       "    "
      ],
      "text/plain": [
       "<IPython.core.display.HTML object>"
      ]
     },
     "metadata": {},
     "output_type": "display_data"
    },
    {
     "data": {
      "text/html": [
       "<div><style>\n",
       ".dataframe > thead > tr,\n",
       ".dataframe > tbody > tr {\n",
       "  text-align: right;\n",
       "  white-space: pre-wrap;\n",
       "}\n",
       "</style>\n",
       "<small>shape: (187_792, 87)</small><table border=\"1\" class=\"dataframe\"><thead><tr><th>id</th><th>row_id</th><th>date_id</th><th>time_id</th><th>symbol_id</th><th>weight</th><th>is_scored</th><th>feature_00</th><th>feature_01</th><th>feature_02</th><th>feature_03</th><th>feature_04</th><th>feature_05</th><th>feature_06</th><th>feature_07</th><th>feature_08</th><th>feature_09</th><th>feature_10</th><th>feature_11</th><th>feature_12</th><th>feature_13</th><th>feature_14</th><th>feature_15</th><th>feature_16</th><th>feature_17</th><th>feature_18</th><th>feature_19</th><th>feature_20</th><th>feature_21</th><th>feature_22</th><th>feature_23</th><th>feature_24</th><th>feature_25</th><th>feature_26</th><th>feature_27</th><th>feature_28</th><th>feature_29</th><th>feature_30</th><th>feature_31</th><th>feature_32</th><th>feature_33</th><th>feature_34</th><th>feature_35</th><th>feature_36</th><th>feature_37</th><th>feature_38</th><th>feature_39</th><th>feature_40</th><th>feature_41</th><th>feature_42</th><th>feature_43</th><th>feature_44</th><th>feature_45</th><th>feature_46</th><th>feature_47</th><th>feature_48</th><th>feature_49</th><th>feature_50</th><th>feature_51</th><th>feature_52</th><th>feature_53</th><th>feature_54</th><th>feature_55</th><th>feature_56</th><th>feature_57</th><th>feature_58</th><th>feature_59</th><th>feature_60</th><th>feature_61</th><th>feature_62</th><th>feature_63</th><th>feature_64</th><th>feature_65</th><th>feature_66</th><th>feature_67</th><th>feature_68</th><th>feature_69</th><th>feature_70</th><th>feature_71</th><th>feature_72</th><th>feature_73</th><th>feature_74</th><th>feature_75</th><th>feature_76</th><th>feature_77</th><th>feature_78</th><th>responder_6</th></tr><tr><td>u64</td><td>i64</td><td>i16</td><td>i16</td><td>i8</td><td>f32</td><td>bool</td><td>f32</td><td>f32</td><td>f32</td><td>f32</td><td>f32</td><td>f32</td><td>f32</td><td>f32</td><td>f32</td><td>f32</td><td>f32</td><td>f32</td><td>f32</td><td>f32</td><td>f32</td><td>f32</td><td>f32</td><td>f32</td><td>f32</td><td>f32</td><td>f32</td><td>f32</td><td>f32</td><td>f32</td><td>f32</td><td>f32</td><td>f32</td><td>f32</td><td>f32</td><td>f32</td><td>f32</td><td>f32</td><td>f32</td><td>f32</td><td>f32</td><td>f32</td><td>f32</td><td>f32</td><td>f32</td><td>f32</td><td>f32</td><td>f32</td><td>f32</td><td>f32</td><td>f32</td><td>f32</td><td>f32</td><td>f32</td><td>f32</td><td>f32</td><td>f32</td><td>f32</td><td>f32</td><td>f32</td><td>f32</td><td>f32</td><td>f32</td><td>f32</td><td>f32</td><td>f32</td><td>f32</td><td>f32</td><td>f32</td><td>f32</td><td>f32</td><td>f32</td><td>f32</td><td>f32</td><td>f32</td><td>f32</td><td>f32</td><td>f32</td><td>f32</td><td>f32</td><td>f32</td><td>f32</td><td>f32</td><td>f32</td><td>f32</td><td>f32</td></tr></thead><tbody><tr><td>0</td><td>0</td><td>0</td><td>0</td><td>0</td><td>3.152647</td><td>true</td><td>2.919276</td><td>1.92291</td><td>2.582785</td><td>3.105847</td><td>2.293566</td><td>-0.370599</td><td>0.138311</td><td>-0.130688</td><td>0.275721</td><td>11.0</td><td>7.0</td><td>76.0</td><td>-0.94706</td><td>0.664533</td><td>-0.269485</td><td>null</td><td>-0.996777</td><td>null</td><td>-1.604461</td><td>-1.644228</td><td>1.278864</td><td>-0.155247</td><td>1.313421</td><td>0.492202</td><td>1.66719</td><td>1.436057</td><td>1.102688</td><td>0.757871</td><td>0.637915</td><td>-0.465332</td><td>-1.108307</td><td>-0.170706</td><td>null</td><td>null</td><td>-0.593546</td><td>0.044052</td><td>1.378604</td><td>0.040623</td><td>0.129284</td><td>null</td><td>0.640934</td><td>null</td><td>null</td><td>-0.220958</td><td>null</td><td>-1.448401</td><td>1.199859</td><td>0.081077</td><td>-0.166701</td><td>-0.009289</td><td>null</td><td>0.374428</td><td>null</td><td>null</td><td>-0.566921</td><td>null</td><td>-2.329654</td><td>1.716035</td><td>null</td><td>-0.765468</td><td>-0.347655</td><td>1.137164</td><td>-0.322298</td><td>-0.455329</td><td>-0.303883</td><td>-1.375988</td><td>-1.668673</td><td>-0.82594</td><td>0.803257</td><td>-0.310364</td><td>-1.189274</td><td>0.368912</td><td>-0.591277</td><td>null</td><td>null</td><td>-0.269808</td><td>-0.241873</td><td>-0.312287</td><td>-0.272453</td><td>-0.256121</td></tr><tr><td>1</td><td>1</td><td>0</td><td>0</td><td>1</td><td>2.89644</td><td>true</td><td>2.87712</td><td>1.995329</td><td>2.278081</td><td>3.169037</td><td>2.582665</td><td>-0.38225</td><td>0.212546</td><td>-0.17336</td><td>0.36353</td><td>11.0</td><td>7.0</td><td>76.0</td><td>-0.970736</td><td>2.009739</td><td>-0.195846</td><td>null</td><td>-0.379707</td><td>null</td><td>-1.482726</td><td>-2.315325</td><td>1.266528</td><td>0.008514</td><td>0.886489</td><td>0.875512</td><td>1.193528</td><td>0.457954</td><td>-1.116456</td><td>-0.068779</td><td>0.815845</td><td>-0.758722</td><td>-0.658705</td><td>0.007348</td><td>null</td><td>null</td><td>-0.342805</td><td>0.707429</td><td>1.829124</td><td>0.102788</td><td>0.132547</td><td>null</td><td>0.014285</td><td>null</td><td>null</td><td>-0.846931</td><td>null</td><td>-1.391555</td><td>0.952372</td><td>0.250118</td><td>-1.121867</td><td>-0.064084</td><td>null</td><td>0.388397</td><td>null</td><td>null</td><td>-1.082998</td><td>null</td><td>-1.733198</td><td>0.761915</td><td>null</td><td>-1.50701</td><td>-0.539962</td><td>1.137164</td><td>-0.469725</td><td>-0.346583</td><td>-0.347141</td><td>-1.382208</td><td>-2.353191</td><td>-0.749504</td><td>1.993429</td><td>-0.056408</td><td>-0.916642</td><td>0.388281</td><td>-0.458708</td><td>null</td><td>null</td><td>-0.155287</td><td>-0.129516</td><td>-0.307254</td><td>-0.279362</td><td>-0.154576</td></tr><tr><td>&hellip;</td><td>&hellip;</td><td>&hellip;</td><td>&hellip;</td><td>&hellip;</td><td>&hellip;</td><td>&hellip;</td><td>&hellip;</td><td>&hellip;</td><td>&hellip;</td><td>&hellip;</td><td>&hellip;</td><td>&hellip;</td><td>&hellip;</td><td>&hellip;</td><td>&hellip;</td><td>&hellip;</td><td>&hellip;</td><td>&hellip;</td><td>&hellip;</td><td>&hellip;</td><td>&hellip;</td><td>&hellip;</td><td>&hellip;</td><td>&hellip;</td><td>&hellip;</td><td>&hellip;</td><td>&hellip;</td><td>&hellip;</td><td>&hellip;</td><td>&hellip;</td><td>&hellip;</td><td>&hellip;</td><td>&hellip;</td><td>&hellip;</td><td>&hellip;</td><td>&hellip;</td><td>&hellip;</td><td>&hellip;</td><td>&hellip;</td><td>&hellip;</td><td>&hellip;</td><td>&hellip;</td><td>&hellip;</td><td>&hellip;</td><td>&hellip;</td><td>&hellip;</td><td>&hellip;</td><td>&hellip;</td><td>&hellip;</td><td>&hellip;</td><td>&hellip;</td><td>&hellip;</td><td>&hellip;</td><td>&hellip;</td><td>&hellip;</td><td>&hellip;</td><td>&hellip;</td><td>&hellip;</td><td>&hellip;</td><td>&hellip;</td><td>&hellip;</td><td>&hellip;</td><td>&hellip;</td><td>&hellip;</td><td>&hellip;</td><td>&hellip;</td><td>&hellip;</td><td>&hellip;</td><td>&hellip;</td><td>&hellip;</td><td>&hellip;</td><td>&hellip;</td><td>&hellip;</td><td>&hellip;</td><td>&hellip;</td><td>&hellip;</td><td>&hellip;</td><td>&hellip;</td><td>&hellip;</td><td>&hellip;</td><td>&hellip;</td><td>&hellip;</td><td>&hellip;</td><td>&hellip;</td><td>&hellip;</td><td>&hellip;</td></tr><tr><td>187790</td><td>187790</td><td>4</td><td>967</td><td>37</td><td>1.243116</td><td>true</td><td>2.663298</td><td>-0.889112</td><td>2.313155</td><td>3.101428</td><td>0.324454</td><td>0.618944</td><td>1.185663</td><td>1.599724</td><td>0.319719</td><td>34.0</td><td>4.0</td><td>214.0</td><td>0.759314</td><td>0.284057</td><td>0.41716</td><td>-0.611075</td><td>-0.513717</td><td>-0.891423</td><td>1.84994</td><td>0.406756</td><td>-1.608196</td><td>-0.252663</td><td>-0.271574</td><td>-0.051405</td><td>0.098146</td><td>-0.653961</td><td>0.173676</td><td>-0.016497</td><td>-0.404509</td><td>-0.577262</td><td>-0.731429</td><td>-0.21646</td><td>3.018564</td><td>-0.472061</td><td>3.13922</td><td>3.065858</td><td>0.842925</td><td>0.053283</td><td>-0.074403</td><td>0.500129</td><td>0.08263</td><td>0.336223</td><td>0.643934</td><td>-0.422367</td><td>-0.418195</td><td>0.203037</td><td>-0.702278</td><td>0.543305</td><td>-0.195764</td><td>0.693364</td><td>0.953293</td><td>0.352567</td><td>0.471775</td><td>1.876459</td><td>-0.143377</td><td>0.845516</td><td>0.301135</td><td>-0.395703</td><td>0.738038</td><td>-0.04124</td><td>1.270645</td><td>-1.101531</td><td>-0.358106</td><td>-0.141883</td><td>-0.255192</td><td>2.489247</td><td>0.537652</td><td>0.982107</td><td>-0.158009</td><td>0.137389</td><td>0.478357</td><td>0.782692</td><td>0.581421</td><td>-0.106056</td><td>-0.111017</td><td>0.163867</td><td>0.169331</td><td>-0.037563</td><td>-0.029483</td><td>-0.148711</td></tr><tr><td>187791</td><td>187791</td><td>4</td><td>967</td><td>38</td><td>3.193685</td><td>true</td><td>2.728506</td><td>-0.745238</td><td>2.788789</td><td>2.343393</td><td>0.454731</td><td>0.862839</td><td>0.964795</td><td>2.089673</td><td>0.344931</td><td>50.0</td><td>1.0</td><td>522.0</td><td>0.406531</td><td>0.618247</td><td>1.01327</td><td>-0.952069</td><td>-0.679168</td><td>-0.597603</td><td>0.375125</td><td>1.97537</td><td>-0.440974</td><td>-0.072018</td><td>1.741353</td><td>1.380735</td><td>-0.110494</td><td>-0.874806</td><td>0.553424</td><td>0.532243</td><td>0.263214</td><td>-0.757856</td><td>-0.869204</td><td>-0.062955</td><td>3.619233</td><td>-0.386316</td><td>3.54456</td><td>3.120631</td><td>-1.443649</td><td>-0.257411</td><td>-0.309567</td><td>1.366358</td><td>-0.220885</td><td>0.029798</td><td>1.094489</td><td>-0.051078</td><td>-0.114243</td><td>0.517313</td><td>0.852201</td><td>0.522199</td><td>-0.027275</td><td>0.471593</td><td>1.213111</td><td>0.263278</td><td>0.915804</td><td>1.862022</td><td>0.503819</td><td>1.310126</td><td>0.662521</td><td>1.654948</td><td>1.090367</td><td>0.535922</td><td>0.653011</td><td>-1.101531</td><td>-0.622853</td><td>-0.363631</td><td>-0.395652</td><td>-0.016812</td><td>2.016734</td><td>0.241486</td><td>0.253229</td><td>0.228745</td><td>0.462717</td><td>0.799635</td><td>0.706102</td><td>-0.376377</td><td>-0.286764</td><td>-0.359046</td><td>-0.246135</td><td>-0.288941</td><td>-0.247774</td><td>-0.138548</td></tr></tbody></table></div>"
      ],
      "text/plain": [
       "shape: (187_792, 87)\n",
       "┌─────┬─────┬─────┬─────┬─────┬─────┬─────┬─────┬─────┬─────┬─────┬─────┬─────┬─────┬─────┬─────┬─────┬─────┬─────┬─────┬─────┬─────┬─────┬─────┬─────┬─────┬─────┬─────┬─────┬─────┬─────┬─────┬─────┬─────┬─────┬─────┬─────┬─────┬─────┬─────┬─────┬─────┬─────┬─────┬─────┬─────┬─────┬─────┬─────┬─────┬─────┬─────┬─────┬─────┬─────┬─────┬─────┬─────┬─────┬─────┬─────┬─────┬─────┬─────┬─────┬─────┬─────┬─────┬─────┬─────┬─────┬─────┬─────┬─────┬─────┬─────┬─────┬─────┬─────┬─────┬─────┬─────┬─────┬─────┬─────┬─────┬─────┐\n",
       "│ id  ┆ row ┆ dat ┆ tim ┆ sym ┆ wei ┆ is_ ┆ fea ┆ fea ┆ fea ┆ fea ┆ fea ┆ fea ┆ fea ┆ fea ┆ fea ┆ fea ┆ fea ┆ fea ┆ fea ┆ fea ┆ fea ┆ fea ┆ fea ┆ fea ┆ fea ┆ fea ┆ fea ┆ fea ┆ fea ┆ fea ┆ fea ┆ fea ┆ fea ┆ fea ┆ fea ┆ fea ┆ fea ┆ fea ┆ fea ┆ fea ┆ fea ┆ fea ┆ fea ┆ fea ┆ fea ┆ fea ┆ fea ┆ fea ┆ fea ┆ fea ┆ fea ┆ fea ┆ fea ┆ fea ┆ fea ┆ fea ┆ fea ┆ fea ┆ fea ┆ fea ┆ fea ┆ fea ┆ fea ┆ fea ┆ fea ┆ fea ┆ fea ┆ fea ┆ fea ┆ fea ┆ fea ┆ fea ┆ fea ┆ fea ┆ fea ┆ fea ┆ fea ┆ fea ┆ fea ┆ fea ┆ fea ┆ fea ┆ fea ┆ fea ┆ fea ┆ res │\n",
       "│ --- ┆ _id ┆ e_i ┆ e_i ┆ bol ┆ ght ┆ sco ┆ tur ┆ tur ┆ tur ┆ tur ┆ tur ┆ tur ┆ tur ┆ tur ┆ tur ┆ tur ┆ tur ┆ tur ┆ tur ┆ tur ┆ tur ┆ tur ┆ tur ┆ tur ┆ tur ┆ tur ┆ tur ┆ tur ┆ tur ┆ tur ┆ tur ┆ tur ┆ tur ┆ tur ┆ tur ┆ tur ┆ tur ┆ tur ┆ tur ┆ tur ┆ tur ┆ tur ┆ tur ┆ tur ┆ tur ┆ tur ┆ tur ┆ tur ┆ tur ┆ tur ┆ tur ┆ tur ┆ tur ┆ tur ┆ tur ┆ tur ┆ tur ┆ tur ┆ tur ┆ tur ┆ tur ┆ tur ┆ tur ┆ tur ┆ tur ┆ tur ┆ tur ┆ tur ┆ tur ┆ tur ┆ tur ┆ tur ┆ tur ┆ tur ┆ tur ┆ tur ┆ tur ┆ tur ┆ tur ┆ tur ┆ tur ┆ tur ┆ tur ┆ tur ┆ tur ┆ pon │\n",
       "│ u64 ┆ --- ┆ d   ┆ d   ┆ _id ┆ --- ┆ red ┆ e_0 ┆ e_0 ┆ e_0 ┆ e_0 ┆ e_0 ┆ e_0 ┆ e_0 ┆ e_0 ┆ e_0 ┆ e_0 ┆ e_1 ┆ e_1 ┆ e_1 ┆ e_1 ┆ e_1 ┆ e_1 ┆ e_1 ┆ e_1 ┆ e_1 ┆ e_1 ┆ e_2 ┆ e_2 ┆ e_2 ┆ e_2 ┆ e_2 ┆ e_2 ┆ e_2 ┆ e_2 ┆ e_2 ┆ e_2 ┆ e_3 ┆ e_3 ┆ e_3 ┆ e_3 ┆ e_3 ┆ e_3 ┆ e_3 ┆ e_3 ┆ e_3 ┆ e_3 ┆ e_4 ┆ e_4 ┆ e_4 ┆ e_4 ┆ e_4 ┆ e_4 ┆ e_4 ┆ e_4 ┆ e_4 ┆ e_4 ┆ e_5 ┆ e_5 ┆ e_5 ┆ e_5 ┆ e_5 ┆ e_5 ┆ e_5 ┆ e_5 ┆ e_5 ┆ e_5 ┆ e_6 ┆ e_6 ┆ e_6 ┆ e_6 ┆ e_6 ┆ e_6 ┆ e_6 ┆ e_6 ┆ e_6 ┆ e_6 ┆ e_7 ┆ e_7 ┆ e_7 ┆ e_7 ┆ e_7 ┆ e_7 ┆ e_7 ┆ e_7 ┆ e_7 ┆ der │\n",
       "│     ┆ i64 ┆ --- ┆ --- ┆ --- ┆ f32 ┆ --- ┆ 0   ┆ 1   ┆ 2   ┆ 3   ┆ 4   ┆ 5   ┆ 6   ┆ 7   ┆ 8   ┆ 9   ┆ 0   ┆ 1   ┆ 2   ┆ 3   ┆ 4   ┆ 5   ┆ 6   ┆ 7   ┆ 8   ┆ 9   ┆ 0   ┆ 1   ┆ 2   ┆ 3   ┆ 4   ┆ 5   ┆ 6   ┆ 7   ┆ 8   ┆ 9   ┆ 0   ┆ 1   ┆ 2   ┆ 3   ┆ 4   ┆ 5   ┆ 6   ┆ 7   ┆ 8   ┆ 9   ┆ 0   ┆ 1   ┆ 2   ┆ 3   ┆ 4   ┆ 5   ┆ 6   ┆ 7   ┆ 8   ┆ 9   ┆ 0   ┆ 1   ┆ 2   ┆ 3   ┆ 4   ┆ 5   ┆ 6   ┆ 7   ┆ 8   ┆ 9   ┆ 0   ┆ 1   ┆ 2   ┆ 3   ┆ 4   ┆ 5   ┆ 6   ┆ 7   ┆ 8   ┆ 9   ┆ 0   ┆ 1   ┆ 2   ┆ 3   ┆ 4   ┆ 5   ┆ 6   ┆ 7   ┆ 8   ┆ _6  │\n",
       "│     ┆     ┆ i16 ┆ i16 ┆ i8  ┆     ┆ boo ┆ --- ┆ --- ┆ --- ┆ --- ┆ --- ┆ --- ┆ --- ┆ --- ┆ --- ┆ --- ┆ --- ┆ --- ┆ --- ┆ --- ┆ --- ┆ --- ┆ --- ┆ --- ┆ --- ┆ --- ┆ --- ┆ --- ┆ --- ┆ --- ┆ --- ┆ --- ┆ --- ┆ --- ┆ --- ┆ --- ┆ --- ┆ --- ┆ --- ┆ --- ┆ --- ┆ --- ┆ --- ┆ --- ┆ --- ┆ --- ┆ --- ┆ --- ┆ --- ┆ --- ┆ --- ┆ --- ┆ --- ┆ --- ┆ --- ┆ --- ┆ --- ┆ --- ┆ --- ┆ --- ┆ --- ┆ --- ┆ --- ┆ --- ┆ --- ┆ --- ┆ --- ┆ --- ┆ --- ┆ --- ┆ --- ┆ --- ┆ --- ┆ --- ┆ --- ┆ --- ┆ --- ┆ --- ┆ --- ┆ --- ┆ --- ┆ --- ┆ --- ┆ --- ┆ --- ┆ --- │\n",
       "│     ┆     ┆     ┆     ┆     ┆     ┆ l   ┆ f32 ┆ f32 ┆ f32 ┆ f32 ┆ f32 ┆ f32 ┆ f32 ┆ f32 ┆ f32 ┆ f32 ┆ f32 ┆ f32 ┆ f32 ┆ f32 ┆ f32 ┆ f32 ┆ f32 ┆ f32 ┆ f32 ┆ f32 ┆ f32 ┆ f32 ┆ f32 ┆ f32 ┆ f32 ┆ f32 ┆ f32 ┆ f32 ┆ f32 ┆ f32 ┆ f32 ┆ f32 ┆ f32 ┆ f32 ┆ f32 ┆ f32 ┆ f32 ┆ f32 ┆ f32 ┆ f32 ┆ f32 ┆ f32 ┆ f32 ┆ f32 ┆ f32 ┆ f32 ┆ f32 ┆ f32 ┆ f32 ┆ f32 ┆ f32 ┆ f32 ┆ f32 ┆ f32 ┆ f32 ┆ f32 ┆ f32 ┆ f32 ┆ f32 ┆ f32 ┆ f32 ┆ f32 ┆ f32 ┆ f32 ┆ f32 ┆ f32 ┆ f32 ┆ f32 ┆ f32 ┆ f32 ┆ f32 ┆ f32 ┆ f32 ┆ f32 ┆ f32 ┆ f32 ┆ f32 ┆ f32 ┆ f32 ┆ f32 │\n",
       "╞═════╪═════╪═════╪═════╪═════╪═════╪═════╪═════╪═════╪═════╪═════╪═════╪═════╪═════╪═════╪═════╪═════╪═════╪═════╪═════╪═════╪═════╪═════╪═════╪═════╪═════╪═════╪═════╪═════╪═════╪═════╪═════╪═════╪═════╪═════╪═════╪═════╪═════╪═════╪═════╪═════╪═════╪═════╪═════╪═════╪═════╪═════╪═════╪═════╪═════╪═════╪═════╪═════╪═════╪═════╪═════╪═════╪═════╪═════╪═════╪═════╪═════╪═════╪═════╪═════╪═════╪═════╪═════╪═════╪═════╪═════╪═════╪═════╪═════╪═════╪═════╪═════╪═════╪═════╪═════╪═════╪═════╪═════╪═════╪═════╪═════╪═════╡\n",
       "│ 0   ┆ 0   ┆ 0   ┆ 0   ┆ 0   ┆ 3.1 ┆ tru ┆ 2.9 ┆ 1.9 ┆ 2.5 ┆ 3.1 ┆ 2.2 ┆ -0. ┆ 0.1 ┆ -0. ┆ 0.2 ┆ 11. ┆ 7.0 ┆ 76. ┆ -0. ┆ 0.6 ┆ -0. ┆ nul ┆ -0. ┆ nul ┆ -1. ┆ -1. ┆ 1.2 ┆ -0. ┆ 1.3 ┆ 0.4 ┆ 1.6 ┆ 1.4 ┆ 1.1 ┆ 0.7 ┆ 0.6 ┆ -0. ┆ -1. ┆ -0. ┆ nul ┆ nul ┆ -0. ┆ 0.0 ┆ 1.3 ┆ 0.0 ┆ 0.1 ┆ nul ┆ 0.6 ┆ nul ┆ nul ┆ -0. ┆ nul ┆ -1. ┆ 1.1 ┆ 0.0 ┆ -0. ┆ -0. ┆ nul ┆ 0.3 ┆ nul ┆ nul ┆ -0. ┆ nul ┆ -2. ┆ 1.7 ┆ nul ┆ -0. ┆ -0. ┆ 1.1 ┆ -0. ┆ -0. ┆ -0. ┆ -1. ┆ -1. ┆ -0. ┆ 0.8 ┆ -0. ┆ -1. ┆ 0.3 ┆ -0. ┆ nul ┆ nul ┆ -0. ┆ -0. ┆ -0. ┆ -0. ┆ -0. │\n",
       "│     ┆     ┆     ┆     ┆     ┆ 526 ┆ e   ┆ 192 ┆ 229 ┆ 827 ┆ 058 ┆ 935 ┆ 370 ┆ 383 ┆ 130 ┆ 757 ┆ 0   ┆     ┆ 0   ┆ 947 ┆ 645 ┆ 269 ┆ l   ┆ 996 ┆ l   ┆ 604 ┆ 644 ┆ 788 ┆ 155 ┆ 134 ┆ 922 ┆ 671 ┆ 360 ┆ 026 ┆ 578 ┆ 379 ┆ 465 ┆ 108 ┆ 170 ┆ l   ┆ l   ┆ 593 ┆ 440 ┆ 786 ┆ 406 ┆ 292 ┆ l   ┆ 409 ┆ l   ┆ l   ┆ 220 ┆ l   ┆ 448 ┆ 998 ┆ 810 ┆ 166 ┆ 009 ┆ l   ┆ 744 ┆ l   ┆ l   ┆ 566 ┆ l   ┆ 329 ┆ 160 ┆ l   ┆ 765 ┆ 347 ┆ 371 ┆ 322 ┆ 455 ┆ 303 ┆ 375 ┆ 668 ┆ 825 ┆ 032 ┆ 310 ┆ 189 ┆ 689 ┆ 591 ┆ l   ┆ l   ┆ 269 ┆ 241 ┆ 312 ┆ 272 ┆ 256 │\n",
       "│     ┆     ┆     ┆     ┆     ┆ 47  ┆     ┆ 76  ┆ 1   ┆ 85  ┆ 47  ┆ 66  ┆ 599 ┆ 11  ┆ 688 ┆ 21  ┆     ┆     ┆     ┆ 06  ┆ 33  ┆ 485 ┆     ┆ 777 ┆     ┆ 461 ┆ 228 ┆ 64  ┆ 247 ┆ 21  ┆ 02  ┆ 9   ┆ 57  ┆ 88  ┆ 71  ┆ 15  ┆ 332 ┆ 307 ┆ 706 ┆     ┆     ┆ 546 ┆ 52  ┆ 04  ┆ 23  ┆ 84  ┆     ┆ 34  ┆     ┆     ┆ 958 ┆     ┆ 401 ┆ 59  ┆ 77  ┆ 701 ┆ 289 ┆     ┆ 28  ┆     ┆     ┆ 921 ┆     ┆ 654 ┆ 35  ┆     ┆ 468 ┆ 655 ┆ 64  ┆ 298 ┆ 329 ┆ 883 ┆ 988 ┆ 673 ┆ 94  ┆ 57  ┆ 364 ┆ 274 ┆ 12  ┆ 277 ┆     ┆     ┆ 808 ┆ 873 ┆ 287 ┆ 453 ┆ 121 │\n",
       "│ 1   ┆ 1   ┆ 0   ┆ 0   ┆ 1   ┆ 2.8 ┆ tru ┆ 2.8 ┆ 1.9 ┆ 2.2 ┆ 3.1 ┆ 2.5 ┆ -0. ┆ 0.2 ┆ -0. ┆ 0.3 ┆ 11. ┆ 7.0 ┆ 76. ┆ -0. ┆ 2.0 ┆ -0. ┆ nul ┆ -0. ┆ nul ┆ -1. ┆ -2. ┆ 1.2 ┆ 0.0 ┆ 0.8 ┆ 0.8 ┆ 1.1 ┆ 0.4 ┆ -1. ┆ -0. ┆ 0.8 ┆ -0. ┆ -0. ┆ 0.0 ┆ nul ┆ nul ┆ -0. ┆ 0.7 ┆ 1.8 ┆ 0.1 ┆ 0.1 ┆ nul ┆ 0.0 ┆ nul ┆ nul ┆ -0. ┆ nul ┆ -1. ┆ 0.9 ┆ 0.2 ┆ -1. ┆ -0. ┆ nul ┆ 0.3 ┆ nul ┆ nul ┆ -1. ┆ nul ┆ -1. ┆ 0.7 ┆ nul ┆ -1. ┆ -0. ┆ 1.1 ┆ -0. ┆ -0. ┆ -0. ┆ -1. ┆ -2. ┆ -0. ┆ 1.9 ┆ -0. ┆ -0. ┆ 0.3 ┆ -0. ┆ nul ┆ nul ┆ -0. ┆ -0. ┆ -0. ┆ -0. ┆ -0. │\n",
       "│     ┆     ┆     ┆     ┆     ┆ 964 ┆ e   ┆ 771 ┆ 953 ┆ 780 ┆ 690 ┆ 826 ┆ 382 ┆ 125 ┆ 173 ┆ 635 ┆ 0   ┆     ┆ 0   ┆ 970 ┆ 097 ┆ 195 ┆ l   ┆ 379 ┆ l   ┆ 482 ┆ 315 ┆ 665 ┆ 085 ┆ 864 ┆ 755 ┆ 935 ┆ 579 ┆ 116 ┆ 068 ┆ 158 ┆ 758 ┆ 658 ┆ 073 ┆ l   ┆ l   ┆ 342 ┆ 074 ┆ 291 ┆ 027 ┆ 325 ┆ l   ┆ 142 ┆ l   ┆ l   ┆ 846 ┆ l   ┆ 391 ┆ 523 ┆ 501 ┆ 121 ┆ 064 ┆ l   ┆ 883 ┆ l   ┆ l   ┆ 082 ┆ l   ┆ 733 ┆ 619 ┆ l   ┆ 507 ┆ 539 ┆ 371 ┆ 469 ┆ 346 ┆ 347 ┆ 382 ┆ 353 ┆ 749 ┆ 934 ┆ 056 ┆ 916 ┆ 882 ┆ 458 ┆ l   ┆ l   ┆ 155 ┆ 129 ┆ 307 ┆ 279 ┆ 154 │\n",
       "│     ┆     ┆     ┆     ┆     ┆ 4   ┆     ┆ 2   ┆ 29  ┆ 81  ┆ 37  ┆ 65  ┆ 25  ┆ 46  ┆ 36  ┆ 3   ┆     ┆     ┆     ┆ 736 ┆ 39  ┆ 846 ┆     ┆ 707 ┆     ┆ 726 ┆ 325 ┆ 28  ┆ 14  ┆ 89  ┆ 12  ┆ 28  ┆ 54  ┆ 456 ┆ 779 ┆ 45  ┆ 722 ┆ 705 ┆ 48  ┆     ┆     ┆ 805 ┆ 29  ┆ 24  ┆ 88  ┆ 47  ┆     ┆ 85  ┆     ┆     ┆ 931 ┆     ┆ 555 ┆ 72  ┆ 18  ┆ 867 ┆ 084 ┆     ┆ 97  ┆     ┆     ┆ 998 ┆     ┆ 198 ┆ 15  ┆     ┆ 01  ┆ 962 ┆ 64  ┆ 725 ┆ 583 ┆ 141 ┆ 208 ┆ 191 ┆ 504 ┆ 29  ┆ 408 ┆ 642 ┆ 81  ┆ 708 ┆     ┆     ┆ 287 ┆ 516 ┆ 254 ┆ 362 ┆ 576 │\n",
       "│ …   ┆ …   ┆ …   ┆ …   ┆ …   ┆ …   ┆ …   ┆ …   ┆ …   ┆ …   ┆ …   ┆ …   ┆ …   ┆ …   ┆ …   ┆ …   ┆ …   ┆ …   ┆ …   ┆ …   ┆ …   ┆ …   ┆ …   ┆ …   ┆ …   ┆ …   ┆ …   ┆ …   ┆ …   ┆ …   ┆ …   ┆ …   ┆ …   ┆ …   ┆ …   ┆ …   ┆ …   ┆ …   ┆ …   ┆ …   ┆ …   ┆ …   ┆ …   ┆ …   ┆ …   ┆ …   ┆ …   ┆ …   ┆ …   ┆ …   ┆ …   ┆ …   ┆ …   ┆ …   ┆ …   ┆ …   ┆ …   ┆ …   ┆ …   ┆ …   ┆ …   ┆ …   ┆ …   ┆ …   ┆ …   ┆ …   ┆ …   ┆ …   ┆ …   ┆ …   ┆ …   ┆ …   ┆ …   ┆ …   ┆ …   ┆ …   ┆ …   ┆ …   ┆ …   ┆ …   ┆ …   ┆ …   ┆ …   ┆ …   ┆ …   ┆ …   ┆ …   │\n",
       "│ 187 ┆ 187 ┆ 4   ┆ 967 ┆ 37  ┆ 1.2 ┆ tru ┆ 2.6 ┆ -0. ┆ 2.3 ┆ 3.1 ┆ 0.3 ┆ 0.6 ┆ 1.1 ┆ 1.5 ┆ 0.3 ┆ 34. ┆ 4.0 ┆ 214 ┆ 0.7 ┆ 0.2 ┆ 0.4 ┆ -0. ┆ -0. ┆ -0. ┆ 1.8 ┆ 0.4 ┆ -1. ┆ -0. ┆ -0. ┆ -0. ┆ 0.0 ┆ -0. ┆ 0.1 ┆ -0. ┆ -0. ┆ -0. ┆ -0. ┆ -0. ┆ 3.0 ┆ -0. ┆ 3.1 ┆ 3.0 ┆ 0.8 ┆ 0.0 ┆ -0. ┆ 0.5 ┆ 0.0 ┆ 0.3 ┆ 0.6 ┆ -0. ┆ -0. ┆ 0.2 ┆ -0. ┆ 0.5 ┆ -0. ┆ 0.6 ┆ 0.9 ┆ 0.3 ┆ 0.4 ┆ 1.8 ┆ -0. ┆ 0.8 ┆ 0.3 ┆ -0. ┆ 0.7 ┆ -0. ┆ 1.2 ┆ -1. ┆ -0. ┆ -0. ┆ -0. ┆ 2.4 ┆ 0.5 ┆ 0.9 ┆ -0. ┆ 0.1 ┆ 0.4 ┆ 0.7 ┆ 0.5 ┆ -0. ┆ -0. ┆ 0.1 ┆ 0.1 ┆ -0. ┆ -0. ┆ -0. │\n",
       "│ 790 ┆ 790 ┆     ┆     ┆     ┆ 431 ┆ e   ┆ 632 ┆ 889 ┆ 131 ┆ 014 ┆ 244 ┆ 189 ┆ 856 ┆ 997 ┆ 197 ┆ 0   ┆     ┆ .0  ┆ 593 ┆ 840 ┆ 171 ┆ 611 ┆ 513 ┆ 891 ┆ 499 ┆ 067 ┆ 608 ┆ 252 ┆ 271 ┆ 051 ┆ 981 ┆ 653 ┆ 736 ┆ 016 ┆ 404 ┆ 577 ┆ 731 ┆ 216 ┆ 185 ┆ 472 ┆ 392 ┆ 658 ┆ 429 ┆ 532 ┆ 074 ┆ 001 ┆ 826 ┆ 362 ┆ 439 ┆ 422 ┆ 418 ┆ 030 ┆ 702 ┆ 433 ┆ 195 ┆ 933 ┆ 532 ┆ 525 ┆ 717 ┆ 764 ┆ 143 ┆ 455 ┆ 011 ┆ 395 ┆ 380 ┆ 041 ┆ 706 ┆ 101 ┆ 358 ┆ 141 ┆ 255 ┆ 892 ┆ 376 ┆ 821 ┆ 158 ┆ 373 ┆ 783 ┆ 826 ┆ 814 ┆ 106 ┆ 111 ┆ 638 ┆ 693 ┆ 037 ┆ 029 ┆ 148 │\n",
       "│     ┆     ┆     ┆     ┆     ┆ 16  ┆     ┆ 98  ┆ 112 ┆ 55  ┆ 28  ┆ 54  ┆ 44  ┆ 63  ┆ 24  ┆ 19  ┆     ┆     ┆     ┆ 14  ┆ 57  ┆ 6   ┆ 075 ┆ 717 ┆ 423 ┆ 4   ┆ 56  ┆ 196 ┆ 663 ┆ 574 ┆ 405 ┆ 46  ┆ 961 ┆ 76  ┆ 497 ┆ 509 ┆ 262 ┆ 429 ┆ 46  ┆ 64  ┆ 061 ┆ 2   ┆ 58  ┆ 25  ┆ 83  ┆ 403 ┆ 29  ┆ 3   ┆ 23  ┆ 34  ┆ 367 ┆ 195 ┆ 37  ┆ 278 ┆ 05  ┆ 764 ┆ 64  ┆ 93  ┆ 67  ┆ 75  ┆ 59  ┆ 377 ┆ 16  ┆ 35  ┆ 703 ┆ 38  ┆ 24  ┆ 45  ┆ 531 ┆ 106 ┆ 883 ┆ 192 ┆ 47  ┆ 52  ┆ 07  ┆ 009 ┆ 89  ┆ 57  ┆ 92  ┆ 21  ┆ 056 ┆ 017 ┆ 67  ┆ 31  ┆ 563 ┆ 483 ┆ 711 │\n",
       "│ 187 ┆ 187 ┆ 4   ┆ 967 ┆ 38  ┆ 3.1 ┆ tru ┆ 2.7 ┆ -0. ┆ 2.7 ┆ 2.3 ┆ 0.4 ┆ 0.8 ┆ 0.9 ┆ 2.0 ┆ 0.3 ┆ 50. ┆ 1.0 ┆ 522 ┆ 0.4 ┆ 0.6 ┆ 1.0 ┆ -0. ┆ -0. ┆ -0. ┆ 0.3 ┆ 1.9 ┆ -0. ┆ -0. ┆ 1.7 ┆ 1.3 ┆ -0. ┆ -0. ┆ 0.5 ┆ 0.5 ┆ 0.2 ┆ -0. ┆ -0. ┆ -0. ┆ 3.6 ┆ -0. ┆ 3.5 ┆ 3.1 ┆ -1. ┆ -0. ┆ -0. ┆ 1.3 ┆ -0. ┆ 0.0 ┆ 1.0 ┆ -0. ┆ -0. ┆ 0.5 ┆ 0.8 ┆ 0.5 ┆ -0. ┆ 0.4 ┆ 1.2 ┆ 0.2 ┆ 0.9 ┆ 1.8 ┆ 0.5 ┆ 1.3 ┆ 0.6 ┆ 1.6 ┆ 1.0 ┆ 0.5 ┆ 0.6 ┆ -1. ┆ -0. ┆ -0. ┆ -0. ┆ -0. ┆ 2.0 ┆ 0.2 ┆ 0.2 ┆ 0.2 ┆ 0.4 ┆ 0.7 ┆ 0.7 ┆ -0. ┆ -0. ┆ -0. ┆ -0. ┆ -0. ┆ -0. ┆ -0. │\n",
       "│ 791 ┆ 791 ┆     ┆     ┆     ┆ 936 ┆ e   ┆ 285 ┆ 745 ┆ 887 ┆ 433 ┆ 547 ┆ 628 ┆ 647 ┆ 896 ┆ 449 ┆ 0   ┆     ┆ .0  ┆ 065 ┆ 182 ┆ 132 ┆ 952 ┆ 679 ┆ 597 ┆ 751 ┆ 753 ┆ 440 ┆ 072 ┆ 413 ┆ 807 ┆ 110 ┆ 874 ┆ 534 ┆ 322 ┆ 632 ┆ 757 ┆ 869 ┆ 062 ┆ 192 ┆ 386 ┆ 445 ┆ 206 ┆ 443 ┆ 257 ┆ 309 ┆ 663 ┆ 220 ┆ 297 ┆ 944 ┆ 051 ┆ 114 ┆ 173 ┆ 522 ┆ 221 ┆ 027 ┆ 715 ┆ 131 ┆ 632 ┆ 158 ┆ 620 ┆ 038 ┆ 101 ┆ 625 ┆ 549 ┆ 903 ┆ 359 ┆ 530 ┆ 101 ┆ 622 ┆ 363 ┆ 395 ┆ 016 ┆ 167 ┆ 414 ┆ 532 ┆ 287 ┆ 627 ┆ 996 ┆ 061 ┆ 376 ┆ 286 ┆ 359 ┆ 246 ┆ 288 ┆ 247 ┆ 138 │\n",
       "│     ┆     ┆     ┆     ┆     ┆ 85  ┆     ┆ 06  ┆ 238 ┆ 89  ┆ 93  ┆ 31  ┆ 39  ┆ 95  ┆ 73  ┆ 31  ┆     ┆     ┆     ┆ 31  ┆ 47  ┆ 7   ┆ 069 ┆ 168 ┆ 603 ┆ 25  ┆ 7   ┆ 974 ┆ 018 ┆ 53  ┆ 35  ┆ 494 ┆ 806 ┆ 24  ┆ 43  ┆ 14  ┆ 856 ┆ 204 ┆ 955 ┆ 33  ┆ 316 ┆ 6   ┆ 31  ┆ 649 ┆ 411 ┆ 567 ┆ 58  ┆ 885 ┆ 98  ┆ 89  ┆ 078 ┆ 243 ┆ 13  ┆ 01  ┆ 99  ┆ 275 ┆ 93  ┆ 11  ┆ 78  ┆ 04  ┆ 22  ┆ 19  ┆ 26  ┆ 21  ┆ 48  ┆ 67  ┆ 22  ┆ 11  ┆ 531 ┆ 853 ┆ 631 ┆ 652 ┆ 812 ┆ 34  ┆ 86  ┆ 29  ┆ 45  ┆ 17  ┆ 35  ┆ 02  ┆ 377 ┆ 764 ┆ 046 ┆ 135 ┆ 941 ┆ 774 ┆ 548 │\n",
       "└─────┴─────┴─────┴─────┴─────┴─────┴─────┴─────┴─────┴─────┴─────┴─────┴─────┴─────┴─────┴─────┴─────┴─────┴─────┴─────┴─────┴─────┴─────┴─────┴─────┴─────┴─────┴─────┴─────┴─────┴─────┴─────┴─────┴─────┴─────┴─────┴─────┴─────┴─────┴─────┴─────┴─────┴─────┴─────┴─────┴─────┴─────┴─────┴─────┴─────┴─────┴─────┴─────┴─────┴─────┴─────┴─────┴─────┴─────┴─────┴─────┴─────┴─────┴─────┴─────┴─────┴─────┴─────┴─────┴─────┴─────┴─────┴─────┴─────┴─────┴─────┴─────┴─────┴─────┴─────┴─────┴─────┴─────┴─────┴─────┴─────┴─────┘"
      ]
     },
     "metadata": {},
     "output_type": "display_data"
    },
    {
     "data": {
      "text/html": [
       "\n",
       "    <h3>First rows of our formatted lags data</h3>\n",
       "    "
      ],
      "text/plain": [
       "<IPython.core.display.HTML object>"
      ]
     },
     "metadata": {},
     "output_type": "display_data"
    },
    {
     "data": {
      "text/html": [
       "<div><style>\n",
       ".dataframe > thead > tr,\n",
       ".dataframe > tbody > tr {\n",
       "  text-align: right;\n",
       "  white-space: pre-wrap;\n",
       "}\n",
       "</style>\n",
       "<small>shape: (187_792, 13)</small><table border=\"1\" class=\"dataframe\"><thead><tr><th>id</th><th>date_id</th><th>time_id</th><th>symbol_id</th><th>responder_0_lag_1</th><th>responder_1_lag_1</th><th>responder_2_lag_1</th><th>responder_3_lag_1</th><th>responder_4_lag_1</th><th>responder_5_lag_1</th><th>responder_6_lag_1</th><th>responder_7_lag_1</th><th>responder_8_lag_1</th></tr><tr><td>u64</td><td>i16</td><td>i16</td><td>i8</td><td>f32</td><td>f32</td><td>f32</td><td>f32</td><td>f32</td><td>f32</td><td>f32</td><td>f32</td><td>f32</td></tr></thead><tbody><tr><td>0</td><td>0</td><td>0</td><td>0</td><td>-0.05731</td><td>-0.081993</td><td>-0.204956</td><td>-1.030227</td><td>0.700867</td><td>0.588168</td><td>-1.891638</td><td>1.016729</td><td>0.702558</td></tr><tr><td>1</td><td>0</td><td>0</td><td>1</td><td>-0.01258</td><td>-0.027038</td><td>-0.004415</td><td>-0.282159</td><td>0.236547</td><td>0.108119</td><td>-0.671197</td><td>0.361489</td><td>0.356874</td></tr><tr><td>&hellip;</td><td>&hellip;</td><td>&hellip;</td><td>&hellip;</td><td>&hellip;</td><td>&hellip;</td><td>&hellip;</td><td>&hellip;</td><td>&hellip;</td><td>&hellip;</td><td>&hellip;</td><td>&hellip;</td><td>&hellip;</td></tr><tr><td>187790</td><td>4</td><td>967</td><td>37</td><td>0.23585</td><td>0.556479</td><td>0.618944</td><td>-0.243765</td><td>-0.108361</td><td>-0.260777</td><td>-0.486923</td><td>-0.275566</td><td>-1.020708</td></tr><tr><td>187791</td><td>4</td><td>967</td><td>38</td><td>0.542563</td><td>0.513193</td><td>0.814393</td><td>0.032767</td><td>0.025435</td><td>0.311465</td><td>-0.044797</td><td>0.011133</td><td>-0.0793</td></tr></tbody></table></div>"
      ],
      "text/plain": [
       "shape: (187_792, 13)\n",
       "┌─────┬─────┬─────┬────────┬───────┬───────┬───────┬───────┬───────┬───────┬───────┬───────┬───────┐\n",
       "│ id  ┆ dat ┆ tim ┆ symbol ┆ respo ┆ respo ┆ respo ┆ respo ┆ respo ┆ respo ┆ respo ┆ respo ┆ respo │\n",
       "│ --- ┆ e_i ┆ e_i ┆ _id    ┆ nder_ ┆ nder_ ┆ nder_ ┆ nder_ ┆ nder_ ┆ nder_ ┆ nder_ ┆ nder_ ┆ nder_ │\n",
       "│ u64 ┆ d   ┆ d   ┆ ---    ┆ 0_lag ┆ 1_lag ┆ 2_lag ┆ 3_lag ┆ 4_lag ┆ 5_lag ┆ 6_lag ┆ 7_lag ┆ 8_lag │\n",
       "│     ┆ --- ┆ --- ┆ i8     ┆ _1    ┆ _1    ┆ _1    ┆ _1    ┆ _1    ┆ _1    ┆ _1    ┆ _1    ┆ _1    │\n",
       "│     ┆ i16 ┆ i16 ┆        ┆ ---   ┆ ---   ┆ ---   ┆ ---   ┆ ---   ┆ ---   ┆ ---   ┆ ---   ┆ ---   │\n",
       "│     ┆     ┆     ┆        ┆ f32   ┆ f32   ┆ f32   ┆ f32   ┆ f32   ┆ f32   ┆ f32   ┆ f32   ┆ f32   │\n",
       "╞═════╪═════╪═════╪════════╪═══════╪═══════╪═══════╪═══════╪═══════╪═══════╪═══════╪═══════╪═══════╡\n",
       "│ 0   ┆ 0   ┆ 0   ┆ 0      ┆ -0.05 ┆ -0.08 ┆ -0.20 ┆ -1.03 ┆ 0.700 ┆ 0.588 ┆ -1.89 ┆ 1.016 ┆ 0.702 │\n",
       "│     ┆     ┆     ┆        ┆ 731   ┆ 1993  ┆ 4956  ┆ 0227  ┆ 867   ┆ 168   ┆ 1638  ┆ 729   ┆ 558   │\n",
       "│ 1   ┆ 0   ┆ 0   ┆ 1      ┆ -0.01 ┆ -0.02 ┆ -0.00 ┆ -0.28 ┆ 0.236 ┆ 0.108 ┆ -0.67 ┆ 0.361 ┆ 0.356 │\n",
       "│     ┆     ┆     ┆        ┆ 258   ┆ 7038  ┆ 4415  ┆ 2159  ┆ 547   ┆ 119   ┆ 1197  ┆ 489   ┆ 874   │\n",
       "│ …   ┆ …   ┆ …   ┆ …      ┆ …     ┆ …     ┆ …     ┆ …     ┆ …     ┆ …     ┆ …     ┆ …     ┆ …     │\n",
       "│ 187 ┆ 4   ┆ 967 ┆ 37     ┆ 0.235 ┆ 0.556 ┆ 0.618 ┆ -0.24 ┆ -0.10 ┆ -0.26 ┆ -0.48 ┆ -0.27 ┆ -1.02 │\n",
       "│ 790 ┆     ┆     ┆        ┆ 85    ┆ 479   ┆ 944   ┆ 3765  ┆ 8361  ┆ 0777  ┆ 6923  ┆ 5566  ┆ 0708  │\n",
       "│ 187 ┆ 4   ┆ 967 ┆ 38     ┆ 0.542 ┆ 0.513 ┆ 0.814 ┆ 0.032 ┆ 0.025 ┆ 0.311 ┆ -0.04 ┆ 0.011 ┆ -0.07 │\n",
       "│ 791 ┆     ┆     ┆        ┆ 563   ┆ 193   ┆ 393   ┆ 767   ┆ 435   ┆ 465   ┆ 4797  ┆ 133   ┆ 93    │\n",
       "└─────┴─────┴─────┴────────┴───────┴───────┴───────┴───────┴───────┴───────┴───────┴───────┴───────┘"
      ]
     },
     "metadata": {},
     "output_type": "display_data"
    }
   ],
   "source": [
    "def create_title(title):\n",
    "    return HTML(f\"\"\"\n",
    "    <h3>{title}</h3>\n",
    "    \"\"\")\n",
    "\n",
    "# Look at the data before saving\n",
    "with pl.Config(tbl_rows=4, tbl_cols=-1):\n",
    "    display(create_title(\"First rows of our formatted test data\"))\n",
    "    display(local_test_formatted)\n",
    "\n",
    "# Look at the data before saving\n",
    "with pl.Config(tbl_rows=4, tbl_cols=-1):\n",
    "    display(create_title(\"First rows of our formatted lags data\"))\n",
    "    display(local_lags_formatted)"
   ]
  },
  {
   "cell_type": "code",
   "execution_count": 35,
   "metadata": {},
   "outputs": [
    {
     "name": "stdout",
     "output_type": "stream",
     "text": [
      "Directory structure created:\n",
      "Directory: /monfs01/projects/ys68/JaneStreet-Kaggle/submission_testing/local_test_data/test.parquet\n",
      "Directory: /monfs01/projects/ys68/JaneStreet-Kaggle/submission_testing/local_test_data/test.parquet/date_id=1\n",
      "  File: part-0.parquet\n",
      "Directory: /monfs01/projects/ys68/JaneStreet-Kaggle/submission_testing/local_test_data/test.parquet/date_id=0\n",
      "  File: part-0.parquet\n",
      "Directory: /monfs01/projects/ys68/JaneStreet-Kaggle/submission_testing/local_test_data/test.parquet/date_id=3\n",
      "  File: part-0.parquet\n",
      "Directory: /monfs01/projects/ys68/JaneStreet-Kaggle/submission_testing/local_test_data/test.parquet/date_id=2\n",
      "  File: part-0.parquet\n"
     ]
    }
   ],
   "source": [
    "# Define paths\n",
    "test_dir = os.path.join(LOCAL_TEST_DIR, \"test.parquet\")\n",
    "\n",
    "# Remove existing test directory if it exists\n",
    "if os.path.exists(test_dir):\n",
    "    shutil.rmtree(test_dir)\n",
    "\n",
    "# Create main directory\n",
    "os.makedirs(test_dir)\n",
    "\n",
    "# Get max date_id\n",
    "max_date = local_test_formatted['date_id'].max()\n",
    "\n",
    "# Save data by date_id\n",
    "for date_id in range(max_date + 1):\n",
    "    # Create date subdirectory\n",
    "    date_dir = os.path.join(test_dir, f\"date_id={date_id}\")\n",
    "    os.makedirs(date_dir)\n",
    "    \n",
    "    # Filter data for this date and save\n",
    "    local_test_formatted.filter(\n",
    "        pl.col('date_id') == date_id\n",
    "    ).write_parquet(\n",
    "        os.path.join(date_dir, \"part-0.parquet\")\n",
    "    )\n",
    "\n",
    "print(\"Directory structure created:\")\n",
    "for root, dirs, files in os.walk(test_dir):\n",
    "    print(f\"Directory: {root}\")\n",
    "    for file in files:\n",
    "        print(f\"  File: {file}\")"
   ]
  },
  {
   "cell_type": "code",
   "execution_count": 36,
   "metadata": {},
   "outputs": [
    {
     "name": "stdout",
     "output_type": "stream",
     "text": [
      "\n",
      "Lags directory structure created:\n",
      "Directory: /monfs01/projects/ys68/JaneStreet-Kaggle/submission_testing/local_test_data/lags.parquet\n",
      "Directory: /monfs01/projects/ys68/JaneStreet-Kaggle/submission_testing/local_test_data/lags.parquet/date_id=1\n",
      "  File: part-0.parquet\n",
      "Directory: /monfs01/projects/ys68/JaneStreet-Kaggle/submission_testing/local_test_data/lags.parquet/date_id=0\n",
      "  File: part-0.parquet\n",
      "Directory: /monfs01/projects/ys68/JaneStreet-Kaggle/submission_testing/local_test_data/lags.parquet/date_id=3\n",
      "  File: part-0.parquet\n",
      "Directory: /monfs01/projects/ys68/JaneStreet-Kaggle/submission_testing/local_test_data/lags.parquet/date_id=2\n",
      "  File: part-0.parquet\n"
     ]
    }
   ],
   "source": [
    "# Define paths for lags\n",
    "lags_dir = os.path.join(LOCAL_TEST_DIR, \"lags.parquet\")\n",
    "\n",
    "# Remove existing lags directory if it exists\n",
    "if os.path.exists(lags_dir):\n",
    "    shutil.rmtree(lags_dir)\n",
    "\n",
    "# Create main directory\n",
    "os.makedirs(lags_dir)\n",
    "\n",
    "# Save lags data by date_id\n",
    "for date_id in range(max_date + 1):\n",
    "    # Create date subdirectory\n",
    "    date_dir = os.path.join(lags_dir, f\"date_id={date_id}\")\n",
    "    os.makedirs(date_dir)\n",
    "    \n",
    "    # For each date_id in test, we want the previous day's responders\n",
    "    # For date_id 0, we'll use the earliest data we have\n",
    "    source_date = local_test_formatted['date_id'].min() if date_id == 0 else date_id - 1\n",
    "    \n",
    "    # Filter data for this date and save\n",
    "    local_lags_formatted.filter(\n",
    "        pl.col('date_id') == source_date\n",
    "    ).write_parquet(\n",
    "        os.path.join(date_dir, \"part-0.parquet\")\n",
    "    )\n",
    "\n",
    "print(\"\\nLags directory structure created:\")\n",
    "for root, dirs, files in os.walk(lags_dir):\n",
    "    print(f\"Directory: {root}\")\n",
    "    for file in files:\n",
    "        print(f\"  File: {file}\")"
   ]
  },
  {
   "cell_type": "code",
   "execution_count": null,
   "metadata": {},
   "outputs": [],
   "source": []
  }
 ],
 "metadata": {
  "kernelspec": {
   "display_name": "simxrd_env",
   "language": "python",
   "name": "python3"
  },
  "language_info": {
   "codemirror_mode": {
    "name": "ipython",
    "version": 3
   },
   "file_extension": ".py",
   "mimetype": "text/x-python",
   "name": "python",
   "nbconvert_exporter": "python",
   "pygments_lexer": "ipython3",
   "version": "3.10.14"
  }
 },
 "nbformat": 4,
 "nbformat_minor": 2
}
