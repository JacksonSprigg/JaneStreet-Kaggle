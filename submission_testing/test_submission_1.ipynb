{
 "cells": [
  {
   "cell_type": "markdown",
   "metadata": {},
   "source": [
    "### Imports and Set Flag"
   ]
  },
  {
   "cell_type": "code",
   "execution_count": 25,
   "metadata": {},
   "outputs": [],
   "source": [
    "import os\n",
    "import pandas as pd\n",
    "import polars as pl\n",
    "\n",
    "from typing import List\n",
    "\n",
    "\n",
    "### Environment Setup ###\n",
    "IS_KAGGLE = False  # Flag to switch between environments"
   ]
  },
  {
   "cell_type": "markdown",
   "metadata": {},
   "source": [
    "### Environment Dependent Path Setup"
   ]
  },
  {
   "cell_type": "code",
   "execution_count": 26,
   "metadata": {},
   "outputs": [],
   "source": [
    "# Setup paths based on environment\n",
    "if IS_KAGGLE:\n",
    "    data_path = '/kaggle/input/jane-street-real-time-market-data-forecasting'\n",
    "    trained_models_path = \"/kaggle/input/janestreet-models/trained_models/\"\n",
    "else:\n",
    "    # For local testing\n",
    "    import sys\n",
    "\n",
    "    # Path to main project directory\n",
    "    PROJ_DIR = os.path.dirname(os.getcwd())\n",
    "    \n",
    "    # Add paths to system path\n",
    "    sys.path.append(os.path.join(PROJ_DIR, \"jane-street-real-time-market-data-forecasting\"))\n",
    "    sys.path.append(os.path.join(PROJ_DIR, \"training\", \"src\", \"utils\"))\n",
    "    \n",
    "    # Set data path to our local test data\n",
    "    data_path = os.path.join(os.getcwd(), \"local_test_data\")\n",
    "    \n",
    "    # Import local testing metrics\n",
    "    from metrics import r2_score_weighted\n",
    "\n",
    "import kaggle_evaluation.jane_street_inference_server"
   ]
  },
  {
   "cell_type": "markdown",
   "metadata": {},
   "source": [
    "### Pre-processing"
   ]
  },
  {
   "cell_type": "code",
   "execution_count": 27,
   "metadata": {},
   "outputs": [],
   "source": [
    "def preprocess_features(df: pl.DataFrame) -> pl.DataFrame:\n",
    "    \"\"\"\n",
    "    Preprocess features consistent with training:\n",
    "    1. Create null flags for features with nulls\n",
    "    2. Fill nulls with zeros (starting point)\n",
    "    \"\"\"\n",
    "    feature_cols = [f'feature_{i:02d}' for i in range(79)]\n",
    "    \n",
    "    # Create expressions for null flags and filled features\n",
    "    expressions = []\n",
    "    \n",
    "    for col in feature_cols:\n",
    "        # Create null flag for each feature\n",
    "        expressions.append(\n",
    "            pl.col(col).is_null().cast(pl.Int8).alias(f'{col}_is_null')\n",
    "        )\n",
    "        # Fill nulls with 0\n",
    "        expressions.append(\n",
    "            pl.col(col).fill_null(0).alias(col)\n",
    "        )\n",
    "    \n",
    "    # Add all other columns and apply transformations\n",
    "    return df.with_columns(expressions)"
   ]
  },
  {
   "cell_type": "markdown",
   "metadata": {},
   "source": [
    "### Load model"
   ]
  },
  {
   "cell_type": "code",
   "execution_count": 28,
   "metadata": {},
   "outputs": [],
   "source": [
    "import lightgbm"
   ]
  },
  {
   "cell_type": "code",
   "execution_count": 29,
   "metadata": {},
   "outputs": [],
   "source": [
    "# My models\n",
    "# \"val_r2_0.0122524.joblib\"\n",
    "# \"backup_best_valr2.joblib\"\n",
    "\n",
    "# Benchmark Models\n",
    "# LGBMV1_1.joblib\n",
    "\n",
    "model_name = \"backup_best_valr2.joblib\""
   ]
  },
  {
   "cell_type": "code",
   "execution_count": 30,
   "metadata": {},
   "outputs": [],
   "source": [
    "def setup_prediction():\n",
    "    \"\"\"Load and setup model and preprocessing\"\"\"\n",
    "    if IS_KAGGLE:\n",
    "        model_path = trained_models_path + model_name\n",
    "    else:\n",
    "        model_path = os.path.join(PROJ_DIR, \"training\", \"trained_models\", model_name)\n",
    "    \n",
    "    # Load model directly as a Booster\n",
    "    model = lightgbm.Booster(model_file=model_path)\n",
    "    \n",
    "    return model\n",
    "\n",
    "# Load model globally\n",
    "model = setup_prediction()"
   ]
  },
  {
   "cell_type": "markdown",
   "metadata": {},
   "source": [
    "### Predict API"
   ]
  },
  {
   "cell_type": "code",
   "execution_count": 31,
   "metadata": {},
   "outputs": [],
   "source": [
    "# TODO: FLoat value in predictions?\n",
    "\n",
    "# Global variables\n",
    "lags_ : pl.DataFrame | None = None\n",
    "\n",
    "def predict(test: pl.DataFrame, lags: pl.DataFrame | None) -> pl.DataFrame | pd.DataFrame:\n",
    "    \"\"\"Make a prediction.\"\"\"\n",
    "    global lags_\n",
    "    \n",
    "    if lags is not None:\n",
    "        lags_ = lags\n",
    "\n",
    "    # Preprocess features\n",
    "    test = preprocess_features(test)\n",
    "    \n",
    "    # Get predictions from model using all required features including null flags\n",
    "    feature_cols = ['symbol_id', 'weight'] + \\\n",
    "                  [f'feature_{i:02d}' for i in range(79)] + \\\n",
    "                  [f'feature_{i:02d}_is_null' for i in range(79)]\n",
    "                  \n",
    "    test_data = test.select(feature_cols).to_numpy()\n",
    "    model_predictions = model.predict(test_data)\n",
    "    \n",
    "    # Create prediction DataFrame\n",
    "    predictions = test.select(\n",
    "        'row_id'\n",
    "    ).with_columns([\n",
    "        pl.Series(model_predictions, dtype=pl.Float64).alias('responder_6')\n",
    "    ])\n",
    "    \n",
    "    assert isinstance(predictions, pl.DataFrame | pd.DataFrame) # The predict function must return a DataFrame\n",
    "    assert predictions.columns == ['row_id', 'responder_6']     # with columns 'row_id', 'responer_6'\n",
    "    assert len(predictions) == len(test)                        # and as many rows as the test data.\n",
    "\n",
    "    return predictions"
   ]
  },
  {
   "cell_type": "markdown",
   "metadata": {},
   "source": [
    "### Submit"
   ]
  },
  {
   "cell_type": "code",
   "execution_count": 32,
   "metadata": {},
   "outputs": [
    {
     "name": "stderr",
     "output_type": "stream",
     "text": [
      "[LightGBM] [Fatal] The number of features in data (160) is not the same as it was in training data (122).\n",
      "You can set ``predict_disable_shape_check=true`` to discard this error, but please be aware what you are doing.\n"
     ]
    },
    {
     "ename": "GatewayRuntimeError",
     "evalue": "(<GatewayRuntimeErrorType.SERVER_RAISED_EXCEPTION: 3>, 'The number of features in data (160) is not the same as it was in training data (122).\\\\nYou can set ``predict_disable_shape_check=true`` to discard this error, but please be aware what you are doing.\", grpc_status:2, created_time:\"2024-10-26T12:45:13.390118529+11:00\"}')",
     "output_type": "error",
     "traceback": [
      "\u001b[0;31m---------------------------------------------------------------------------\u001b[0m",
      "\u001b[0;31mGatewayRuntimeError\u001b[0m                       Traceback (most recent call last)",
      "Cell \u001b[0;32mIn[32], line 8\u001b[0m\n\u001b[1;32m      6\u001b[0m     inference_server\u001b[38;5;241m.\u001b[39mserve()\n\u001b[1;32m      7\u001b[0m \u001b[38;5;28;01melse\u001b[39;00m:\n\u001b[0;32m----> 8\u001b[0m     \u001b[43minference_server\u001b[49m\u001b[38;5;241;43m.\u001b[39;49m\u001b[43mrun_local_gateway\u001b[49m\u001b[43m(\u001b[49m\n\u001b[1;32m      9\u001b[0m \u001b[43m        \u001b[49m\u001b[43m(\u001b[49m\n\u001b[1;32m     10\u001b[0m \u001b[43m            \u001b[49m\u001b[43mos\u001b[49m\u001b[38;5;241;43m.\u001b[39;49m\u001b[43mpath\u001b[49m\u001b[38;5;241;43m.\u001b[39;49m\u001b[43mjoin\u001b[49m\u001b[43m(\u001b[49m\u001b[43mdata_path\u001b[49m\u001b[43m,\u001b[49m\u001b[43m \u001b[49m\u001b[38;5;124;43m\"\u001b[39;49m\u001b[38;5;124;43mtest.parquet\u001b[39;49m\u001b[38;5;124;43m\"\u001b[39;49m\u001b[43m)\u001b[49m\u001b[43m,\u001b[49m\n\u001b[1;32m     11\u001b[0m \u001b[43m            \u001b[49m\u001b[43mos\u001b[49m\u001b[38;5;241;43m.\u001b[39;49m\u001b[43mpath\u001b[49m\u001b[38;5;241;43m.\u001b[39;49m\u001b[43mjoin\u001b[49m\u001b[43m(\u001b[49m\u001b[43mdata_path\u001b[49m\u001b[43m,\u001b[49m\u001b[43m \u001b[49m\u001b[38;5;124;43m\"\u001b[39;49m\u001b[38;5;124;43mlags.parquet\u001b[39;49m\u001b[38;5;124;43m\"\u001b[39;49m\u001b[43m)\u001b[49m\u001b[43m,\u001b[49m\n\u001b[1;32m     12\u001b[0m \u001b[43m        \u001b[49m\u001b[43m)\u001b[49m\n\u001b[1;32m     13\u001b[0m \u001b[43m    \u001b[49m\u001b[43m)\u001b[49m\n\u001b[1;32m     15\u001b[0m     \u001b[38;5;66;03m# Local scoring\u001b[39;00m\n\u001b[1;32m     16\u001b[0m     \u001b[38;5;28mprint\u001b[39m(\u001b[38;5;124m\"\u001b[39m\u001b[38;5;124mScoring submission...\u001b[39m\u001b[38;5;124m\"\u001b[39m)\n",
      "File \u001b[0;32m/monfs01/projects/ys68/JaneStreet-Kaggle/jane-street-real-time-market-data-forecasting/kaggle_evaluation/core/templates.py:141\u001b[0m, in \u001b[0;36mInferenceServer.run_local_gateway\u001b[0;34m(self, data_paths)\u001b[0m\n\u001b[1;32m    139\u001b[0m     \u001b[38;5;28mself\u001b[39m\u001b[38;5;241m.\u001b[39mgateway\u001b[38;5;241m.\u001b[39mrun()\n\u001b[1;32m    140\u001b[0m \u001b[38;5;28;01mexcept\u001b[39;00m \u001b[38;5;167;01mException\u001b[39;00m \u001b[38;5;28;01mas\u001b[39;00m err:\n\u001b[0;32m--> 141\u001b[0m     \u001b[38;5;28;01mraise\u001b[39;00m err \u001b[38;5;28;01mfrom\u001b[39;00m \u001b[38;5;28;01mNone\u001b[39;00m\n\u001b[1;32m    142\u001b[0m \u001b[38;5;28;01mfinally\u001b[39;00m:\n\u001b[1;32m    143\u001b[0m     \u001b[38;5;28mself\u001b[39m\u001b[38;5;241m.\u001b[39mserver\u001b[38;5;241m.\u001b[39mstop(\u001b[38;5;241m0\u001b[39m)\n",
      "File \u001b[0;32m/monfs01/projects/ys68/JaneStreet-Kaggle/jane-street-real-time-market-data-forecasting/kaggle_evaluation/core/templates.py:139\u001b[0m, in \u001b[0;36mInferenceServer.run_local_gateway\u001b[0;34m(self, data_paths)\u001b[0m\n\u001b[1;32m    137\u001b[0m \u001b[38;5;28;01mtry\u001b[39;00m:\n\u001b[1;32m    138\u001b[0m     \u001b[38;5;28mself\u001b[39m\u001b[38;5;241m.\u001b[39mgateway \u001b[38;5;241m=\u001b[39m \u001b[38;5;28mself\u001b[39m\u001b[38;5;241m.\u001b[39m_get_gateway_for_test(data_paths)\n\u001b[0;32m--> 139\u001b[0m     \u001b[38;5;28;43mself\u001b[39;49m\u001b[38;5;241;43m.\u001b[39;49m\u001b[43mgateway\u001b[49m\u001b[38;5;241;43m.\u001b[39;49m\u001b[43mrun\u001b[49m\u001b[43m(\u001b[49m\u001b[43m)\u001b[49m\n\u001b[1;32m    140\u001b[0m \u001b[38;5;28;01mexcept\u001b[39;00m \u001b[38;5;167;01mException\u001b[39;00m \u001b[38;5;28;01mas\u001b[39;00m err:\n\u001b[1;32m    141\u001b[0m     \u001b[38;5;28;01mraise\u001b[39;00m err \u001b[38;5;28;01mfrom\u001b[39;00m \u001b[38;5;28;01mNone\u001b[39;00m\n",
      "File \u001b[0;32m/monfs01/projects/ys68/JaneStreet-Kaggle/jane-street-real-time-market-data-forecasting/kaggle_evaluation/core/templates.py:98\u001b[0m, in \u001b[0;36mGateway.run\u001b[0;34m(self)\u001b[0m\n\u001b[1;32m     95\u001b[0m     \u001b[38;5;28mself\u001b[39m\u001b[38;5;241m.\u001b[39mwrite_result(error)\n\u001b[1;32m     96\u001b[0m \u001b[38;5;28;01melif\u001b[39;00m error:\n\u001b[1;32m     97\u001b[0m     \u001b[38;5;66;03m# For local testing\u001b[39;00m\n\u001b[0;32m---> 98\u001b[0m     \u001b[38;5;28;01mraise\u001b[39;00m error\n",
      "File \u001b[0;32m/monfs01/projects/ys68/JaneStreet-Kaggle/jane-street-real-time-market-data-forecasting/kaggle_evaluation/core/templates.py:76\u001b[0m, in \u001b[0;36mGateway.run\u001b[0;34m(self)\u001b[0m\n\u001b[1;32m     74\u001b[0m \u001b[38;5;28;01mtry\u001b[39;00m:\n\u001b[1;32m     75\u001b[0m     \u001b[38;5;28mself\u001b[39m\u001b[38;5;241m.\u001b[39munpack_data_paths()\n\u001b[0;32m---> 76\u001b[0m     predictions \u001b[38;5;241m=\u001b[39m \u001b[38;5;28;43mself\u001b[39;49m\u001b[38;5;241;43m.\u001b[39;49m\u001b[43mget_all_predictions\u001b[49m\u001b[43m(\u001b[49m\u001b[43m)\u001b[49m\n\u001b[1;32m     77\u001b[0m     \u001b[38;5;28mself\u001b[39m\u001b[38;5;241m.\u001b[39mwrite_submission(predictions)\n\u001b[1;32m     78\u001b[0m \u001b[38;5;28;01mexcept\u001b[39;00m kaggle_evaluation\u001b[38;5;241m.\u001b[39mcore\u001b[38;5;241m.\u001b[39mbase_gateway\u001b[38;5;241m.\u001b[39mGatewayRuntimeError \u001b[38;5;28;01mas\u001b[39;00m gre:\n",
      "File \u001b[0;32m/monfs01/projects/ys68/JaneStreet-Kaggle/jane-street-real-time-market-data-forecasting/kaggle_evaluation/core/templates.py:53\u001b[0m, in \u001b[0;36mGateway.get_all_predictions\u001b[0;34m(self)\u001b[0m\n\u001b[1;32m     51\u001b[0m all_predictions \u001b[38;5;241m=\u001b[39m []\n\u001b[1;32m     52\u001b[0m \u001b[38;5;28;01mfor\u001b[39;00m data_batch, validation_batch \u001b[38;5;129;01min\u001b[39;00m \u001b[38;5;28mself\u001b[39m\u001b[38;5;241m.\u001b[39mgenerate_data_batches():\n\u001b[0;32m---> 53\u001b[0m     predictions \u001b[38;5;241m=\u001b[39m \u001b[38;5;28;43mself\u001b[39;49m\u001b[38;5;241;43m.\u001b[39;49m\u001b[43mpredict\u001b[49m\u001b[43m(\u001b[49m\u001b[38;5;241;43m*\u001b[39;49m\u001b[43mdata_batch\u001b[49m\u001b[43m)\u001b[49m\n\u001b[1;32m     54\u001b[0m     \u001b[38;5;28mself\u001b[39m\u001b[38;5;241m.\u001b[39mvalidate_prediction_batch(predictions, validation_batch)\n\u001b[1;32m     55\u001b[0m     all_predictions\u001b[38;5;241m.\u001b[39mappend(predictions)\n",
      "File \u001b[0;32m/monfs01/projects/ys68/JaneStreet-Kaggle/jane-street-real-time-market-data-forecasting/kaggle_evaluation/core/templates.py:66\u001b[0m, in \u001b[0;36mGateway.predict\u001b[0;34m(self, *args, **kwargs)\u001b[0m\n\u001b[1;32m     64\u001b[0m     \u001b[38;5;28;01mreturn\u001b[39;00m \u001b[38;5;28mself\u001b[39m\u001b[38;5;241m.\u001b[39mclient\u001b[38;5;241m.\u001b[39msend(\u001b[38;5;124m'\u001b[39m\u001b[38;5;124mpredict\u001b[39m\u001b[38;5;124m'\u001b[39m, \u001b[38;5;241m*\u001b[39margs, \u001b[38;5;241m*\u001b[39m\u001b[38;5;241m*\u001b[39mkwargs)\n\u001b[1;32m     65\u001b[0m \u001b[38;5;28;01mexcept\u001b[39;00m \u001b[38;5;167;01mException\u001b[39;00m \u001b[38;5;28;01mas\u001b[39;00m e:\n\u001b[0;32m---> 66\u001b[0m     \u001b[38;5;28;43mself\u001b[39;49m\u001b[38;5;241;43m.\u001b[39;49m\u001b[43mhandle_server_error\u001b[49m\u001b[43m(\u001b[49m\u001b[43me\u001b[49m\u001b[43m,\u001b[49m\u001b[43m \u001b[49m\u001b[38;5;124;43m'\u001b[39;49m\u001b[38;5;124;43mpredict\u001b[39;49m\u001b[38;5;124;43m'\u001b[39;49m\u001b[43m)\u001b[49m\n",
      "File \u001b[0;32m/monfs01/projects/ys68/JaneStreet-Kaggle/jane-street-real-time-market-data-forecasting/kaggle_evaluation/core/base_gateway.py:191\u001b[0m, in \u001b[0;36mBaseGateway.handle_server_error\u001b[0;34m(self, exception, endpoint)\u001b[0m\n\u001b[1;32m    189\u001b[0m     message_match \u001b[38;5;241m=\u001b[39m re\u001b[38;5;241m.\u001b[39msearch(\u001b[38;5;124m'\u001b[39m\u001b[38;5;124m\"\u001b[39m\u001b[38;5;124mException calling application: (.*)\u001b[39m\u001b[38;5;124m\"\u001b[39m\u001b[38;5;124m'\u001b[39m, exception_str, re\u001b[38;5;241m.\u001b[39mIGNORECASE)\n\u001b[1;32m    190\u001b[0m     message \u001b[38;5;241m=\u001b[39m message_match\u001b[38;5;241m.\u001b[39mgroup(\u001b[38;5;241m1\u001b[39m) \u001b[38;5;28;01mif\u001b[39;00m message_match \u001b[38;5;28;01melse\u001b[39;00m exception_str\n\u001b[0;32m--> 191\u001b[0m     \u001b[38;5;28;01mraise\u001b[39;00m GatewayRuntimeError(GatewayRuntimeErrorType\u001b[38;5;241m.\u001b[39mSERVER_RAISED_EXCEPTION, message) \u001b[38;5;28;01mfrom\u001b[39;00m \u001b[38;5;28;01mNone\u001b[39;00m\n\u001b[1;32m    192\u001b[0m \u001b[38;5;28;01mif\u001b[39;00m \u001b[38;5;28misinstance\u001b[39m(exception, grpc\u001b[38;5;241m.\u001b[39m_channel\u001b[38;5;241m.\u001b[39m_InactiveRpcError):\n\u001b[1;32m    193\u001b[0m     \u001b[38;5;28;01mraise\u001b[39;00m GatewayRuntimeError(GatewayRuntimeErrorType\u001b[38;5;241m.\u001b[39mSERVER_CONNECTION_FAILED, exception_str) \u001b[38;5;28;01mfrom\u001b[39;00m \u001b[38;5;28;01mNone\u001b[39;00m\n",
      "\u001b[0;31mGatewayRuntimeError\u001b[0m: (<GatewayRuntimeErrorType.SERVER_RAISED_EXCEPTION: 3>, 'The number of features in data (160) is not the same as it was in training data (122).\\\\nYou can set ``predict_disable_shape_check=true`` to discard this error, but please be aware what you are doing.\", grpc_status:2, created_time:\"2024-10-26T12:45:13.390118529+11:00\"}')"
     ]
    }
   ],
   "source": [
    "# Set up inference server\n",
    "inference_server = kaggle_evaluation.jane_street_inference_server.JSInferenceServer(predict)\n",
    "\n",
    "# Run based on environment\n",
    "if os.getenv('KAGGLE_IS_COMPETITION_RERUN'):\n",
    "    inference_server.serve()\n",
    "else:\n",
    "    inference_server.run_local_gateway(\n",
    "        (\n",
    "            os.path.join(data_path, \"test.parquet\"),\n",
    "            os.path.join(data_path, \"lags.parquet\"),\n",
    "        )\n",
    "    )\n",
    "    \n",
    "    # Local scoring\n",
    "    print(\"Scoring submission...\")\n",
    "    predictions = pl.read_parquet(\"submission.parquet\")                      # Read submission predictions\n",
    "    test_data = pl.read_parquet(os.path.join(data_path, \"test.parquet\"))     # Read test data with actual values\n",
    "\n",
    "    # Score only rows marked for scoring\n",
    "    mask = test_data['is_scored']\n",
    "    score = r2_score_weighted(\n",
    "        test_data.filter(mask)['responder_6'].to_numpy(),\n",
    "        predictions.filter(mask)['responder_6'].to_numpy(),\n",
    "        test_data.filter(mask)['weight'].to_numpy()\n",
    "    )\n",
    "    print(f\"Overall R² score: {score}\")"
   ]
  },
  {
   "cell_type": "code",
   "execution_count": null,
   "metadata": {},
   "outputs": [],
   "source": []
  }
 ],
 "metadata": {
  "kernelspec": {
   "display_name": "simxrd_env",
   "language": "python",
   "name": "python3"
  },
  "language_info": {
   "codemirror_mode": {
    "name": "ipython",
    "version": 3
   },
   "file_extension": ".py",
   "mimetype": "text/x-python",
   "name": "python",
   "nbconvert_exporter": "python",
   "pygments_lexer": "ipython3",
   "version": "3.10.14"
  }
 },
 "nbformat": 4,
 "nbformat_minor": 2
}
