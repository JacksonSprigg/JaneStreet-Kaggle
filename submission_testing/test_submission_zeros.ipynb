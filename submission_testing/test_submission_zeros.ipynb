{
 "cells": [
  {
   "cell_type": "markdown",
   "metadata": {},
   "source": [
    "### Imports and Flag"
   ]
  },
  {
   "cell_type": "code",
   "execution_count": 3,
   "metadata": {},
   "outputs": [],
   "source": [
    "import os\n",
    "import pandas as pd\n",
    "import polars as pl\n",
    "import numpy as np\n",
    "\n",
    "### Environment Setup ###\n",
    "IS_KAGGLE = False  # Flag to switch between environments"
   ]
  },
  {
   "cell_type": "markdown",
   "metadata": {},
   "source": [
    "### Submit"
   ]
  },
  {
   "cell_type": "code",
   "execution_count": 4,
   "metadata": {},
   "outputs": [
    {
     "name": "stdout",
     "output_type": "stream",
     "text": [
      "Scoring submission...\n",
      "Overall R² score: -1.4066840936521885e-07\n"
     ]
    }
   ],
   "source": [
    "# Setup paths based on environment\n",
    "if IS_KAGGLE:\n",
    "    data_path = '/kaggle/input/jane-street-real-time-market-data-forecasting'\n",
    "else:\n",
    "    # For local testing\n",
    "    import sys\n",
    "    # Path to main project directory\n",
    "    PROJ_DIR = os.path.dirname(os.getcwd())\n",
    "    \n",
    "    # Add paths to system path\n",
    "    sys.path.append(os.path.join(PROJ_DIR, \"jane-street-real-time-market-data-forecasting\"))\n",
    "    sys.path.append(os.path.join(PROJ_DIR, \"training\", \"src\", \"utils\"))\n",
    "    \n",
    "    # Set data path to our local test data\n",
    "    data_path = os.path.join(os.getcwd(), \"local_test_data\")\n",
    "    \n",
    "    # Import local testing metrics\n",
    "    from metrics import r2_score_weighted\n",
    "\n",
    "import kaggle_evaluation.jane_street_inference_server\n",
    "\n",
    "# Global variable to store lags\n",
    "lags_ : pl.DataFrame | None = None\n",
    "\n",
    "def predict(test: pl.DataFrame, lags: pl.DataFrame | None) -> pl.DataFrame | pd.DataFrame:\n",
    "    \"\"\"Make a prediction.\"\"\"\n",
    "    global lags_\n",
    "    \n",
    "    if lags is not None:\n",
    "        lags_ = lags\n",
    "\n",
    "    # Simple prediction\n",
    "    predictions = test.select(\n",
    "        'row_id',\n",
    "        pl.lit(0.0).alias('responder_6'),\n",
    "    )    \n",
    "    \n",
    "    assert isinstance(predictions, pl.DataFrame | pd.DataFrame) # The predict function must return a DataFrame\n",
    "    assert predictions.columns == ['row_id', 'responder_6']     # with columns 'row_id', 'responer_6'\n",
    "    assert len(predictions) == len(test)                        # and as many rows as the test data.\n",
    "\n",
    "    return predictions\n",
    "\n",
    "# Set up inference server\n",
    "inference_server = kaggle_evaluation.jane_street_inference_server.JSInferenceServer(predict)\n",
    "\n",
    "# Run based on environment\n",
    "if os.getenv('KAGGLE_IS_COMPETITION_RERUN') or IS_KAGGLE:\n",
    "    inference_server.serve()\n",
    "else:\n",
    "    inference_server.run_local_gateway(\n",
    "        (\n",
    "            os.path.join(data_path, \"test.parquet\"),\n",
    "            os.path.join(data_path, \"lags.parquet\"),\n",
    "        )\n",
    "    )\n",
    "    \n",
    "    # Local scoring\n",
    "    print(\"Scoring submission...\")\n",
    "    predictions = pl.read_parquet(\"submission.parquet\")                      # Read submission predictions\n",
    "    test_data = pl.read_parquet(os.path.join(data_path, \"test.parquet\"))     # Read test data with actual values\n",
    "\n",
    "    # Score only rows marked for scoring\n",
    "    mask = test_data['is_scored']\n",
    "    score = r2_score_weighted(\n",
    "        test_data.filter(mask)['responder_6'].to_numpy(),\n",
    "        predictions.filter(mask)['responder_6'].to_numpy(),\n",
    "        test_data.filter(mask)['weight'].to_numpy()\n",
    "    )\n",
    "    print(f\"Overall R² score: {score}\")"
   ]
  }
 ],
 "metadata": {
  "kernelspec": {
   "display_name": "simxrd_env",
   "language": "python",
   "name": "python3"
  },
  "language_info": {
   "codemirror_mode": {
    "name": "ipython",
    "version": 3
   },
   "file_extension": ".py",
   "mimetype": "text/x-python",
   "name": "python",
   "nbconvert_exporter": "python",
   "pygments_lexer": "ipython3",
   "version": "3.10.14"
  }
 },
 "nbformat": 4,
 "nbformat_minor": 2
}
